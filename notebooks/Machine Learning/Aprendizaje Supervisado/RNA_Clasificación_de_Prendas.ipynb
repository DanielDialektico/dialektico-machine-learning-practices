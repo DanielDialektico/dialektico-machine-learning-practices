{
  "nbformat": 4,
  "nbformat_minor": 0,
  "metadata": {
    "colab": {
      "provenance": [],
      "toc_visible": true,
      "authorship_tag": "ABX9TyP2RkVg6WGbm7iD8ywRxotw",
      "include_colab_link": true
    },
    "kernelspec": {
      "name": "python3",
      "display_name": "Python 3"
    },
    "language_info": {
      "name": "python"
    }
  },
  "cells": [
    {
      "cell_type": "markdown",
      "metadata": {
        "id": "view-in-github",
        "colab_type": "text"
      },
      "source": [
        "<a href=\"https://colab.research.google.com/github/DanielDialektico/dialektico-machine-learning-practices/blob/main/notebooks/Machine%20Learning/Aprendizaje%20Supervisado/RNA_Clasificaci%C3%B3n_de_Prendas.ipynb\" target=\"_parent\"><img src=\"https://colab.research.google.com/assets/colab-badge.svg\" alt=\"Open In Colab\"/></a>"
      ]
    },
    {
      "cell_type": "markdown",
      "source": [
        "<img src=\"https://dialektico.com/wp-content/uploads/2023/03/MiniLogoW4.png\" alt=\"Dialéktico Logo\" />"
      ],
      "metadata": {
        "id": "UxynFoNiksr1"
      }
    },
    {
      "cell_type": "markdown",
      "source": [
        "# **Algoritmo de Aprendizaje Supervisado: Red Neuronal Artificial para Clasificación de Prendas** 🤖\n",
        "\n",
        "---"
      ],
      "metadata": {
        "id": "fnwnz7jcW9en"
      }
    },
    {
      "cell_type": "markdown",
      "metadata": {
        "id": "xM9PkwPe_wHC"
      },
      "source": [
        "# **Introducción**\n",
        "En esta práctica podrás entrenar un modelo con un algoritmo de **aprendizaje supervisado**, observando el proceso desde la carga del **conjunto de datos** hasta la evaluación de los resultados.\n",
        "\n",
        "El fin de esto es que presencies cómo se concretan los **objetivos** que persigue el aprendizaje supervisado en cada diferente paso de su metodología, operando desde un espacio de programación en **Python**.\n",
        "\n",
        "Como se mencionó en la **[exploración](https://dialektico.com/aprendizaje-supervisado/)**, este algoritmo utilizará **redes neuronales artificiales** para aprender a realizar una tarea de **clasificación**.\n",
        "\n",
        "<br>\n",
        "<center><img src=\"https://dialektico.com/wp-content/uploads/2024/10/IAS_colab2.jpg\" width=\"300\" /></center>"
      ]
    },
    {
      "cell_type": "markdown",
      "source": [
        "<br>"
      ],
      "metadata": {
        "id": "JNEcd0H-nugV"
      }
    },
    {
      "cell_type": "markdown",
      "metadata": {
        "id": "XgLk0Fo9Z2-Q"
      },
      "source": [
        "# **Objetivo**"
      ]
    },
    {
      "cell_type": "markdown",
      "source": [
        "Como ya se ha establecido, el objetivo planteado es el de entrenar un modelo para otorgarle la capacidad de **clasificar** imágenes de ropa de acuerdo a **10 clases** diferentes, las cuales se pueden consultar en la siguiente tabla: <br>\n",
        "<br>\n",
        "<center>\n",
        "<table>\n",
        "  <tr>\n",
        "    <th>Nombre de la prenda (salida)</th>\n",
        "  </tr>\n",
        "  <tr>\n",
        "    <td>Playera/Blusa</td>\n",
        "  </tr>\n",
        "  <tr>\n",
        "    <td>Pantalón</td>\n",
        "  </tr>\n",
        "    <tr>\n",
        "    <td>Suéter</td>\n",
        "  </tr>\n",
        "    <tr>\n",
        "    <td>Vestido</td>\n",
        "  </tr>\n",
        "    <tr>\n",
        "    <td>Abrigo</td>\n",
        "  </tr>\n",
        "    <tr>\n",
        "    <td>Sandalia</td>\n",
        "  </tr>\n",
        "    <tr>\n",
        "    <td>Camisa</td>\n",
        "  </tr>\n",
        "    <tr>\n",
        "    <td>Zapato/Tenis</td>\n",
        "  </tr>\n",
        "    <tr>\n",
        "    <td>Bolsa</td>\n",
        "  </tr>\n",
        "    <tr>\n",
        "    <td>Botín</td>\n",
        "  </tr>\n",
        "</table></center><br>\n",
        "<br>\n",
        "\n",
        "Para este código utilizaremos parte de las librerías antes vistas para **preprocesamiento** de datos, y sumaremos la librería [Tensorflow](https://www.tensorflow.org/), la cual fue desarrollada por **Google**, y será clave para el cumplimiento de nuestro objetivo, ya que sus funciones están expresamente enfocadas en el diseño y uso de algoritmos de **machine learning**.\n",
        "\n",
        "<br>\n",
        "<center><img src=\"https://dialektico.com/wp-content/uploads/2024/10/IAS_colab_2.jpg\" width=\"400\" /></center>"
      ],
      "metadata": {
        "id": "CEPx7pJwXA0R"
      }
    },
    {
      "cell_type": "markdown",
      "source": [
        "**Nota:** No te preocupes por entender todo el código, esta práctica es puramente demostrativa."
      ],
      "metadata": {
        "id": "QvIVMDTCmrNk"
      }
    },
    {
      "cell_type": "markdown",
      "source": [
        "<br>"
      ],
      "metadata": {
        "id": "lh97aNqSnxb8"
      }
    },
    {
      "cell_type": "markdown",
      "source": [
        "# **Conjunto de datos**"
      ],
      "metadata": {
        "id": "cyS88eqnYqAz"
      }
    },
    {
      "cell_type": "markdown",
      "source": [
        "Las imágenes que utilizaremos para entrenar el modelo provienen del popular  conjunto de datos **[Fashion MNIST](https://github.com/zalandoresearch/fashion-mnist)**, el cual es de acceso público y contiene más de **70,000** imágenes de ropa de baja resolución de las categorías antes mencionadas, en escala de grises, de tamaño 28x28.\n",
        "\n",
        "En la siguiente figura se puede observar una muestra de este conjunto de datos:\n",
        "<center><table>\n",
        "  <tr><td>\n",
        "    <img src=\"https://tensorflow.org/images/fashion-mnist-sprite.png\"\n",
        "         alt=\"Fashion MNIST sprite\"  width=\"600\">\n",
        "  </td></tr>\n",
        "</table></center>\n",
        "\n",
        "<center><b>Fig. 1</b> Muestra del conjunto de datos fashion MNIST</a> (Zalando, MIT License).</center>"
      ],
      "metadata": {
        "id": "l7yt21i8Ykl7"
      }
    },
    {
      "cell_type": "markdown",
      "source": [
        "<br>"
      ],
      "metadata": {
        "id": "q1C7CjGUnyoM"
      }
    },
    {
      "cell_type": "markdown",
      "source": [
        "## **Instalación e importación de librerías**"
      ],
      "metadata": {
        "id": "Ih9vbWNJFMcw"
      }
    },
    {
      "cell_type": "markdown",
      "source": [
        "Ejecuta la siguiente celda para instalar y cargar las librerías (se instalan versiones específicas para asegurar el correcto funcionamiento del notebook)."
      ],
      "metadata": {
        "id": "A9HDCgnJFRU4"
      }
    },
    {
      "cell_type": "code",
      "source": [
        "# Se instalan las librerías.\n",
        "!pip install tensorflow==2.18.1\n",
        "!pip install matplotlib==3.10.0\n",
        "!pip install numpy==2.0.2\n",
        "!pip install seaborn==0.13.2\n",
        "\n",
        "# Se importan las librerías.\n",
        "import tensorflow as tf\n",
        "from tensorflow import keras\n",
        "import numpy as np\n",
        "import matplotlib.pyplot as plt\n",
        "import seaborn as sns\n",
        "import warnings\n",
        "\n",
        "# Se define el tipo de formato de las gráficas.\n",
        "plt.style.use('seaborn-v0_8-whitegrid')\n",
        "\n",
        "# Se ignoran las alertas.\n",
        "warnings.filterwarnings('ignore')"
      ],
      "metadata": {
        "id": "lEV-fO3HFG6I"
      },
      "execution_count": null,
      "outputs": []
    },
    {
      "cell_type": "markdown",
      "source": [
        "## **Carga de datos y preprocesamiento**"
      ],
      "metadata": {
        "id": "XgzePflE0upj"
      }
    },
    {
      "cell_type": "markdown",
      "source": [
        "Para invocar al conjunto de datos a nuestro espacio de trabajo utilizaremos la API **[Keras](https://www.tensorflow.org/guide/keras?hl=es-419)** de la librería **tensorflow**, la cual nos permitirá almacenar los datos en un arreglo, en este caso, una **tupla**.\n",
        "\n",
        "Ejecuta el siguiente bloque para cargar los datos:"
      ],
      "metadata": {
        "id": "Pk7ltwyF1PlN"
      }
    },
    {
      "cell_type": "code",
      "source": [
        "# Se carga el conjunto de datos.\n",
        "dataset = keras.datasets.fashion_mnist.load_data()"
      ],
      "metadata": {
        "id": "hXzKvVaOhEpY"
      },
      "execution_count": null,
      "outputs": []
    },
    {
      "cell_type": "markdown",
      "source": [
        "Como sabemos por nuestro **[entrenamiento en preprocesamiento de datos](https://dialektico.com/introduccion-preprocesamiento/)**, toda **entrada** a procesar por un algoritmo de **machine learning** debe ser una estructura matemática legible para la máquina, por lo que debemos asegurarnos de que nuestro conjunto de datos esté acondicionado de esta manera.\n",
        "\n",
        "Afortunadamente, este conjunto ya provee la información en **formas matriciales**, es decir, cada imagen se expresa como una matriz, donde todo número contenido en esta representa un valor para cada **pixel**, en un rango de entre 0 y 255. A estar las imágenes en escala de grises, el valor 0 corresponde al color **negro**, mientras que el 255 al **blanco**, y los valores intermedios a diferentes tonos de **grises**.\n",
        "\n",
        "La **Figura 2** muestra una ejemplificación de esto:\n",
        "\n"
      ],
      "metadata": {
        "id": "sIGmJ0dcji1-"
      }
    },
    {
      "cell_type": "markdown",
      "source": [
        "<center><img src=\"https://dialektico.com/wp-content/uploads/2023/03/Colab1.jpg\"\n",
        "         alt=\"Fashion MNIST sprite\"  width=\"300\"></center>\n",
        "\n",
        "<center><b>Fig. 2</b> Relación entre los valores de una representación matricial de una imagen en escala de grises y sus correspondientes variaciones de color en escala de grises. Rescatado de <a href=\"https://www.researchgate.net/publication/325569674_Analysis_of_Emotions_From_Body_Postures_Based_on_Digital_Imaging\">(Bradley & Lang, 1994b)</a></center>"
      ],
      "metadata": {
        "id": "Iy6Y2-2apKet"
      }
    },
    {
      "cell_type": "markdown",
      "source": [
        "Esto es una conversión típica en **visión computacional** (estudio del procesamiento de imágenes), y la exploraremos más a detalle cuando tengamos nuestros primeros encuentros con **redes neuronales convolucionales**."
      ],
      "metadata": {
        "id": "pd7ofoPel4SZ"
      }
    },
    {
      "cell_type": "markdown",
      "source": [
        "Por el momento, solo nos limitaremos a observar una de las matrices asociadas a una imagen del conjunto de datos:"
      ],
      "metadata": {
        "id": "7xw1ufw9ppps"
      }
    },
    {
      "cell_type": "code",
      "source": [
        "# Se selecciona una imagen del conjunto de datos.\n",
        "matrix = dataset[0][0][5]\n",
        "\n",
        "# Se imprime una imagen del conjunto de datos y su respectiva matriz.\n",
        "fig, axs = plt.subplots(1, 2, figsize=(18, 9), gridspec_kw={'width_ratios': [1.5, 2]})\n",
        "\n",
        "# Imagen.\n",
        "axs[0].imshow(matrix, cmap='gray')\n",
        "axs[0].set_title(\"Imagen\", fontdict = {'family': 'DejaVu Sans', 'color':  'black', 'weight': 'bold', 'size': 14}, pad = 15)\n",
        "axs[0].set_yticks([])\n",
        "axs[0].set_xticks([])\n",
        "\n",
        "# Matriz.\n",
        "axs[1].set_facecolor('white')\n",
        "sns.heatmap(matrix, fmt='d', annot=True, square=True, cmap='gray_r', vmin=0, vmax=0,\n",
        "            linewidths=0.5, linecolor='k', cbar=False, ax=axs[1], annot_kws={'fontsize':8})\n",
        "\n",
        "axs[1].set_title(\"Matriz\", fontdict = {'family': 'DejaVu Sans', 'color':  'black', 'weight': 'bold', 'size': 15}, pad = 15)\n",
        "axs[1].set_xticklabels([])\n",
        "axs[1].set_yticklabels([])\n",
        "\n",
        "plt.suptitle(\"Fig. 3 Visualización de una de las imágenes del conjunto datos y su respectiva matriz, donde cada número indica un valor asociado a un color en escala de grises.\",\n",
        "             fontproperties = {'family': 'DejaVu Sans', 'size': 10}, y=-0.001)\n",
        "plt.show()"
      ],
      "metadata": {
        "id": "C4djiljXqnDW"
      },
      "execution_count": null,
      "outputs": []
    },
    {
      "cell_type": "markdown",
      "source": [
        "En la **Figura 3** se despliega la comparación entre una imagen del conjunto de datos (a la izquierda), y su matriz con los valores de cada pixel (lado derecho). Esto se muestra para que comprendas cómo es que un objeto como una imagen debe ser representado como una estructura matemática para poder ser procesada por la computadora.\n",
        "\n",
        "Dado que no hay mucho **preprocesamiento** que aplicar a estas imágenes, solo se dividirá el conjunto de datos en los conjuntos de **entrenamiento** (train) y **prueba** (test), se asignarán nombres en español a las **categorías** (limpieza de datos), y se **normalizarán** los valores de todas las matrices dividiéndolos entre su valor máximo: **255** (transformación de datos).\n",
        "\n",
        "En el siguiente bloque se efectuarán las **divisiones** del conjunto de datos (cuyas longitudes ya fueron definidas por quienes lo crearon), la asignación de los nombres de las **etiquetas**, la **normalización** de los datos, y se imprimirá el número de ejemplos de imágenes de cada subconjunto:\n",
        "\n"
      ],
      "metadata": {
        "id": "T-rKJ4RQfjt5"
      }
    },
    {
      "cell_type": "code",
      "source": [
        "# Se definen las entradas y salidas de conjuntos de entrenamiento y prueba respectivamente.\n",
        "(train_inputs, train_outputs), (test_inputs, test_outputs) = dataset\n",
        "\n",
        "# Se normalizan los datos.\n",
        "train_images = train_inputs / 255.0\n",
        "test_images = test_inputs / 255.0\n",
        "\n",
        "# Se definen los nombres de cada categoría.\n",
        "class_names = ['Playera/Blusa', 'Pantalón', 'Suéter', 'Vestido', 'Abrigo',\n",
        "               'Sandalia', 'Camisa', 'Zapato/tenis', 'Mochila', 'Botín']\n",
        "\n",
        "# Se imprimen las longitudes de los conjuntos:\n",
        "print('Número de ejemplos de entrenamiento en el conjunto de entrenamiento: ' + str(len(train_inputs)))\n",
        "print('Número de ejemplos de entrenamiento en el conjunto de prueba: ' + str(len(test_inputs)))"
      ],
      "metadata": {
        "id": "6g5VsA8Rj-nq"
      },
      "execution_count": null,
      "outputs": []
    },
    {
      "cell_type": "markdown",
      "source": [
        "Podemos observar que se tiene una distribución de imágenes de alrededor de 85% del total para el conjunto de **entrenamiento**, y 15% para el de **prueba**.  "
      ],
      "metadata": {
        "id": "2dio4reqlm7G"
      }
    },
    {
      "cell_type": "markdown",
      "source": [
        "<br>"
      ],
      "metadata": {
        "id": "0vM3NDRVpRLs"
      }
    },
    {
      "cell_type": "markdown",
      "source": [
        "# **Entrenamiento del modelo**"
      ],
      "metadata": {
        "id": "4QrY71DhmHHr"
      }
    },
    {
      "cell_type": "markdown",
      "source": [
        "Ahora que hemos cargado y preprocesado los datos, podemos crear y entrenar el **modelo** para que aprenda a **clasificar** prendas. Los detalles sobre cómo sucede esto los aprenderemos en próximas expediciones, hoy solo lo veremos en acción.\n",
        "\n",
        "El siguiente bloque **entrenará** al modelo de **aprendizaje automático** durante **8 épocas** (8 iteraciones), es decir, se procesará la información 10 veces con el fin de modelar **patrones** de las imágenes para la concreción de nuestro objetivo. Al ejecutar el código, podrás ver cómo se imprimen los resultados para cada época (**Epoch**). El valor de **accuracy** al final de cada línea es el valor de la **precisión** de clasificación del modelo.\n",
        "\n",
        "**Nota**: puede tardar poco más de un minuto en ejecutarse."
      ],
      "metadata": {
        "id": "kIIYZ3sdmKL8"
      }
    },
    {
      "cell_type": "code",
      "metadata": {
        "id": "pjVscjTP_HBL"
      },
      "source": [
        "# Se define crea la red neuronal artificial y se utiliza para ajustar el modelo a los datos.\n",
        "model = keras.Sequential([\n",
        "    keras.layers.Flatten(input_shape=(28, 28)),\n",
        "    keras.layers.Dense(128, activation='relu'),\n",
        "    keras.layers.Dense(128, activation='relu'),\n",
        "    keras.layers.Dense(10, activation='softmax')])\n",
        "\n",
        "model.compile(optimizer='adam',\n",
        "              loss='sparse_categorical_crossentropy',\n",
        "              metrics=['accuracy'])\n",
        "\n",
        "model.fit(train_inputs, train_outputs, epochs=8, verbose = 1)\n",
        "\n",
        "test_loss, test_acc = model.evaluate(test_inputs,  test_outputs, verbose=0)\n",
        "\n",
        "# Se imprime la precisión de predicción del modelo.\n",
        "print('\\nPrecisión de predicción final:', test_acc)"
      ],
      "execution_count": null,
      "outputs": []
    },
    {
      "cell_type": "markdown",
      "metadata": {
        "id": "-mIheOi-VTxJ"
      },
      "source": [
        "Al final, observarás una **precisión** de predicción por encima del **80%**. La intención fue entrenar el modelo con una **arquitectura** que no generara una precisión cercana al 100% para poder presenciar un modelo que aún puede ser **optimizado**.  En este caso, podríamos hacer algunas adecuaciones a la configuración de la red, pero de esto hablaremos luego. El caso es que en este paso ya se ha obtenido un modelo para clasificar prendas."
      ]
    },
    {
      "cell_type": "markdown",
      "source": [
        "<br>"
      ],
      "metadata": {
        "id": "tQIoqpcTp2UE"
      }
    },
    {
      "cell_type": "markdown",
      "metadata": {
        "id": "t3qlJWvmaJzr"
      },
      "source": [
        "# **Clasificando prendas con el modelo entrenado**\n"
      ]
    },
    {
      "cell_type": "markdown",
      "metadata": {
        "id": "bYVX1Q_wY6He"
      },
      "source": [
        "El modelo está entrenado y listo para realizar predicciones. Al ejecutar la siguiente casilla de código le darás una **imagen** del conjunto de datos de prueba, este la **procesará** y nos dirá a qué clase \"**piensa**\" que pertenece."
      ]
    },
    {
      "cell_type": "code",
      "source": [
        "# Se realizan las predicciones con nuevas imágenes.\n",
        "predictions = model.predict(test_inputs, verbose = 0)\n",
        "\n",
        "# Se define una función para el despliegue de la imagen clasificada, junto a su probabilidad de categorización estimada, y su etiqueta verdadera.\n",
        "def plot_test_image(image_indx, predictions_arr, true_output, image, font_size):\n",
        "  predictions_arr, true_output, image, font_size = predictions_arr, true_output[image_indx], image[image_indx], font_size\n",
        "  plt.grid(False)\n",
        "  plt.xticks([])\n",
        "  plt.yticks([])\n",
        "\n",
        "  plt.imshow(image, cmap=plt.cm.binary)\n",
        "\n",
        "  predicted_output = np.argmax(predictions_arr)\n",
        "  if predicted_output == true_output:\n",
        "    color = 'blue'\n",
        "  else:\n",
        "    color = 'red'\n",
        "\n",
        "  plt.xlabel('Predicción del modelo: ' + str(class_names[predicted_output]) + '\\n'\n",
        "              + 'Etiqueta real: ' + str(class_names[true_output]),\n",
        "              color=color, fontdict = {'family': 'DejaVu Sans', 'color':  'black', 'weight': 'bold', 'size': font_size}, labelpad=15)\n",
        "\n",
        "# Se selecciona la imagen número 165 del conjunto de datos, se entrega al modelo, y se grafican los resultados.\n",
        "image_indx = 165\n",
        "plt.figure(figsize=(5,5))\n",
        "plt.plot\n",
        "plot_test_image(image_indx, predictions[image_indx], test_outputs, test_inputs, 14)"
      ],
      "metadata": {
        "id": "bNAnHLxurjUP"
      },
      "execution_count": null,
      "outputs": []
    },
    {
      "cell_type": "markdown",
      "metadata": {
        "id": "SfxgTcjiZczf"
      },
      "source": [
        "Observarás que el resultado es una imagen con dos líneas de texto adjuntas:\n",
        "\n",
        "\n",
        "*   La primera indica a qué **categoría** ha asignado el modelo a la imagen de prueba.\n",
        "*   La segunda muestra la **etiqueta** real de la imagen, extraída del conjunto de datos de prueba.\n"
      ]
    },
    {
      "cell_type": "markdown",
      "source": [
        "Nos podemos percatar de que en la primera línea de texto el modelo ha etiquetado como **botín** a la imagen que le hemos proporcionado, y que esta coincide con la etiqueta **real** mostrada debajo, lo cual nos indica que el modelo **acertó** en su **clasificación**.\n",
        "\n",
        "**Nota**: si el color de las letras es **azul**, quiere decir que la predicción fue exitosa, en caso contrario, se mostrarán teñidas de **rojo**."
      ],
      "metadata": {
        "id": "2kDvzI7cUbZi"
      }
    },
    {
      "cell_type": "markdown",
      "metadata": {
        "id": "WosTCtaPZzKW"
      },
      "source": [
        "Probemos ahora con una imagen diferente:"
      ]
    },
    {
      "cell_type": "code",
      "metadata": {
        "id": "khWtTrdJYgxR"
      },
      "source": [
        "# Se etiqueta y grafica una imagen nueva.\n",
        "image_indx = 51\n",
        "plt.figure(figsize=(7,7))\n",
        "plt.plot\n",
        "plot_test_image(image_indx, predictions[image_indx], test_outputs, test_inputs, 14)"
      ],
      "execution_count": null,
      "outputs": []
    },
    {
      "cell_type": "markdown",
      "metadata": {
        "id": "5ga01bR1dGzf"
      },
      "source": [
        "En este caso la predicción es errónea, etiquetando al abrigo como otra prenda diferente."
      ]
    },
    {
      "cell_type": "markdown",
      "metadata": {
        "id": "oRv1SPaNdemW"
      },
      "source": [
        "Finalmente, para una visualización más amplia del rendimiento del modelo, en el siguiente fragmento lo utilizaremos para clasificar un grupo de **15 imágenes diferentes**. (Recuerda que aquellas acompañadas por textos color **rojo** representan imágenes mal etiquetadas)."
      ]
    },
    {
      "cell_type": "code",
      "metadata": {
        "id": "2B1DDs7-ag1o"
      },
      "source": [
        "#Se evalúan y grafican 15 imágenes del conjunto de datos.\n",
        "num_rows = 4\n",
        "num_cols = 3\n",
        "j=0\n",
        "\n",
        "plt.figure(figsize=(18, 18))\n",
        "for i in range(13,25):\n",
        "  plt.subplot(num_rows, 2*num_cols, 2*j+1)\n",
        "  plot_test_image(i, predictions[i], test_outputs, test_inputs, 10)\n",
        "  j = j + 1\n",
        "plt.tight_layout()\n",
        "plt.show()"
      ],
      "execution_count": null,
      "outputs": []
    },
    {
      "cell_type": "markdown",
      "metadata": {
        "id": "KWofrjkVfG03"
      },
      "source": [
        "Notarás que la mayoría de las imágenes fueron clasificadas de forma exitosa, pero con algunos errores de predicción.\n"
      ]
    },
    {
      "cell_type": "markdown",
      "source": [
        "Con esto has experimentado el **entrenamiento** y **evaluación** de un modelo de machine learning. Notarás que los resultados no son perfectos, pero se ha obtenido un modelo con un grado de acierto notable. Esto es un ejemplo de aprendizaje de máquinas de tipo supervisado, en el que mediante un **algoritmo** has capturado las relaciones entre imágenes (**entradas**) y sus etiquetas (**salidas**) para crear un modelo clasificador de prendas."
      ],
      "metadata": {
        "id": "FoR6Ref6q5n8"
      }
    },
    {
      "cell_type": "markdown",
      "source": [
        "<br>"
      ],
      "metadata": {
        "id": "jidBSmOErfWk"
      }
    },
    {
      "cell_type": "markdown",
      "source": [
        "## **Haz tus propias pruebas**"
      ],
      "metadata": {
        "id": "z6PsNa8YZ38d"
      }
    },
    {
      "cell_type": "markdown",
      "source": [
        "Por último, tienes la libertad de utilizar cualquier imagen que desees del conjunto de datos de **prueba** y hacer que el modelo la clasifique. Lo único que tienes que hacer es modificar la **primera línea** del siguiente fragmento de código, agregando un número entre el **0** y el **9999** (número de imagen a utilizar del conjunto de prueba).\n",
        "\n",
        "Una vez que hayas colocado el número, ejecuta el programa para observar el resultado."
      ],
      "metadata": {
        "id": "DpW93NN1a9M0"
      }
    },
    {
      "cell_type": "code",
      "source": [
        "image_indx = # Escribe aquí un número entre el 0 y el 9999.\n",
        "\n",
        "plt.figure(figsize=(5,5))\n",
        "plt.plot\n",
        "plot_test_image(image_indx, predictions[image_indx], test_outputs, test_inputs, 14)"
      ],
      "metadata": {
        "id": "uKq9Bf3_bUul"
      },
      "execution_count": null,
      "outputs": []
    },
    {
      "cell_type": "markdown",
      "source": [
        "Con esto concluye nuestro primer acercamiento a los **algoritmos de aprendizaje supervisado**, en este caso, una **red neuronal artificial**, también conocida como **perceptrón o perceptrón multicapa**.\n",
        "\n",
        "Recuerda que esto es solo ilustrativo, en las próximas exploraciones comprenderemos cómo operan y se elaboran diversos tipos de **modelos** de **aprendizaje de máquinas**.\n",
        "\n",
        "▶ [Regresar a la lección](https://dialektico.com/aprendizaje-supervisado/) 🧙"
      ],
      "metadata": {
        "id": "ejd9aSL-Zzt7"
      }
    },
    {
      "cell_type": "markdown",
      "source": [
        "<br>"
      ],
      "metadata": {
        "id": "3SjyH_0QrxSM"
      }
    },
    {
      "cell_type": "code",
      "metadata": {
        "id": "qThQxN8Aj9kG"
      },
      "source": [
        "# MIT License\n",
        "#\n",
        "# Copyright (c) 2023 Daniel García\n",
        "#\n",
        "# Permission is hereby granted, free of charge, to any person obtaining a\n",
        "# copy of this software and associated documentation files (the \"Software\"),\n",
        "# to deal in the Software without restriction, including without limitation\n",
        "# the rights to use, copy, modify, merge, publish, distribute, sublicense,\n",
        "# and/or sell copies of the Software, and to permit persons to whom the\n",
        "# Software is furnished to do so, subject to the following conditions:\n",
        "#\n",
        "# The above copyright notice and this permission notice shall be included in\n",
        "# all copies or substantial portions of the Software.\n",
        "#\n",
        "# THE SOFTWARE IS PROVIDED \"AS IS\", WITHOUT WARRANTY OF ANY KIND, EXPRESS OR\n",
        "# IMPLIED, INCLUDING BUT NOT LIMITED TO THE WARRANTIES OF MERCHANTABILITY,\n",
        "# FITNESS FOR A PARTICULAR PURPOSE AND NONINFRINGEMENT. IN NO EVENT SHALL\n",
        "# THE AUTHORS OR COPYRIGHT HOLDERS BE LIABLE FOR ANY CLAIM, DAMAGES OR OTHER\n",
        "# LIABILITY, WHETHER IN AN ACTION OF CONTRACT, TORT OR OTHERWISE, ARISING\n",
        "# FROM, OUT OF OR IN CONNECTION WITH THE SOFTWARE OR THE USE OR OTHER\n",
        "# DEALINGS IN THE SOFTWARE."
      ],
      "execution_count": null,
      "outputs": []
    }
  ]
}