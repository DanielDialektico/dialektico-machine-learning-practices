{
  "nbformat": 4,
  "nbformat_minor": 0,
  "metadata": {
    "colab": {
      "provenance": [],
      "toc_visible": true,
      "authorship_tag": "ABX9TyNO5B/vrsZVO3/ka58iKD+2",
      "include_colab_link": true
    },
    "kernelspec": {
      "name": "python3",
      "display_name": "Python 3"
    },
    "language_info": {
      "name": "python"
    }
  },
  "cells": [
    {
      "cell_type": "markdown",
      "metadata": {
        "id": "view-in-github",
        "colab_type": "text"
      },
      "source": [
        "<a href=\"https://colab.research.google.com/github/DanielDialektico/dialektico-machine-learning-practices/blob/main/notebooks/Machine%20Learning/Aprendizaje%20Supervisado/Regresi%C3%B3n_Log%C3%ADstica.ipynb\" target=\"_parent\"><img src=\"https://colab.research.google.com/assets/colab-badge.svg\" alt=\"Open In Colab\"/></a>"
      ]
    },
    {
      "cell_type": "markdown",
      "source": [
        "<img src=\"https://dialektico.com/wp-content/uploads/2023/03/MiniLogoW4.png\" alt=\"Dialéktico Logo\" />"
      ],
      "metadata": {
        "id": "xPGjW3UrmTba"
      }
    },
    {
      "cell_type": "markdown",
      "source": [
        "# **Introducción a la Regresión Logística 📊**"
      ],
      "metadata": {
        "id": "xrhztrCHms3B"
      }
    },
    {
      "cell_type": "markdown",
      "source": [
        "# **Introducción**"
      ],
      "metadata": {
        "id": "Cmlh9L5rnAqS"
      }
    },
    {
      "cell_type": "markdown",
      "source": [
        "En esta práctica elaboraremos un modelo de **clasificación** aplicando una **regresión logística** para procesar un conjunto de datos etiquetados obtenidos de **Spotify**. Con ello podrás experimentar las diferencias entre algoritmos de **regresión** y **clasificación**, así como aprender la forma en que se ensamblan y operan este tipo de algoritmos con Python.\n",
        "\n",
        "<br>\n",
        "<center><img src=\"https://dialektico.com/wp-content/uploads/2024/10/IRL_colab.jpg\" width=\"300\" /></center>"
      ],
      "metadata": {
        "id": "4CPT_wn0nGCk"
      }
    },
    {
      "cell_type": "markdown",
      "source": [
        "<br>"
      ],
      "metadata": {
        "id": "Q8yNylaHrHUV"
      }
    },
    {
      "cell_type": "markdown",
      "source": [
        "#**Objetivo**"
      ],
      "metadata": {
        "id": "H6Nv942ToSnT"
      }
    },
    {
      "cell_type": "markdown",
      "source": [
        "Se nos ha entregado un conjunto de datos de canciones obtenido directamente de la base de datos de **Spotify**, el cual consta de 500 observaciones con las siguientes **características** de cada pista:\n",
        "* **Bailabilidad.**\n",
        "* **Energía.**\n",
        "* **Acústica.**\n",
        "* **Duración.**\n",
        "* **Instrumentalidad.**,\n",
        "* **Sonoridad.**\n",
        "* **Tempo.**\n",
        "* **Discursividad.**\n",
        "* **Género.**\n",
        "\n",
        "Estas métricas son creaciones propias de Spotify, y el equipo de ingeniería desea saber específicamente si las variables **bailabilidad** y **energía** son significativas al grado de poder ser un factor de diferenciación entre distintos géneros musicales."
      ],
      "metadata": {
        "id": "RtlCn207ob6j"
      }
    },
    {
      "cell_type": "markdown",
      "source": [
        "Las **tareas** a realizar son las siguientes:\n",
        "\n",
        "\n",
        "*  Elaborar un **modelo** de **machine learning** que pueda clasificar canciones en los géneros **black metal** y **reggaeton** de acuerdo con su grado de bailabilidad, y mostrar cuál es valor del límite de decisión.\n",
        "*  Crear un modelo que, dado el valor de bailabilidad y energía de una canción, logre clasificar canciones en los dos géneros.\n",
        "*  Para revisar la extensión de los resultados a otros géneros musicales, crear un modelo idéntico al segundo, pero añadiendo la categoría **Salsa** a las clases.\n",
        "\n",
        "<br>\n",
        "<center><img src=\"https://dialektico.com/wp-content/uploads/2024/10/IRLG_obj.jpg\" width=\"400\" /></center>"
      ],
      "metadata": {
        "id": "PbqaaDlP1UJ7"
      }
    },
    {
      "cell_type": "markdown",
      "source": [
        "**Nota:** la bailabilidad está definida como qué tan **bailable** es una canción respecto a algunos elementos como tempo, estabilidad del ritmo, fuerza del ritmo, entre otros. La **energía**, por otro lado, es una medida perceptiva de intensidad y actividad en la canción. Como se ha mencionado, estas son métricas creadas por Spotify. Para más contexto sobre el conjunto de datos y sus atributos, revísese el **apéndice** al final."
      ],
      "metadata": {
        "id": "r04TOcm01V4S"
      }
    },
    {
      "cell_type": "markdown",
      "source": [
        "<br>"
      ],
      "metadata": {
        "id": "kW4yN-YOr9eF"
      }
    },
    {
      "cell_type": "markdown",
      "source": [
        "# **Carga y exploración de datos**"
      ],
      "metadata": {
        "id": "54cNG_SYqdOm"
      }
    },
    {
      "cell_type": "markdown",
      "source": [
        "Comenzaremos explorando el conjunto de datos, el cual se extraerá desde un repositorio de [GitHub](https://github.com/DanielDialektico/Machine-Learning/tree/main); además, cargaremos las librerías necesarias para las tareas propuestas."
      ],
      "metadata": {
        "id": "8rSIRgt1qflS"
      }
    },
    {
      "cell_type": "code",
      "execution_count": null,
      "metadata": {
        "id": "brirRtxwmOPa"
      },
      "outputs": [],
      "source": [
        "# Se cargan las librerías\n",
        "import pandas as pd\n",
        "import sklearn\n",
        "from sklearn import preprocessing\n",
        "from sklearn.linear_model import LogisticRegression\n",
        "from sklearn.model_selection import train_test_split\n",
        "import matplotlib.pyplot as plt\n",
        "import matplotlib.lines as mlines\n",
        "import numpy as np\n",
        "import warnings\n",
        "\n",
        "# Se filtran las advertencias.\n",
        "warnings.filterwarnings('ignore')\n",
        "\n",
        "# Se define el estilo de las gráficas.\n",
        "plt.style.use('seaborn-v0_8-whitegrid')\n",
        "\n",
        "# Se carga el conjunto de datos desde un repositorio de GitHub.\n",
        "dataset = pd.read_csv('https://raw.githubusercontent.com/DanielDialektico/dialektico-machine-learning-practices/refs/heads/main/data/Spotify_genres.csv')\n",
        "\n",
        "# Se imprime el conjunto de datos.\n",
        "dataset"
      ]
    },
    {
      "cell_type": "markdown",
      "source": [
        "Para una exploración más detallada, procederemos a mostrar algunas estadísticas y aspectos sobre los datos utilizando las funciones describe() e info() de [Pandas](https://pandas.pydata.org/):"
      ],
      "metadata": {
        "id": "BZV4M9Zys_bL"
      }
    },
    {
      "cell_type": "code",
      "source": [
        "# Se imprimen estadísticas de cada variable.\n",
        "dataset.describe()"
      ],
      "metadata": {
        "id": "E6FD-EPGtfbR"
      },
      "execution_count": null,
      "outputs": []
    },
    {
      "cell_type": "code",
      "source": [
        "# Se imprime información sobre tipos de datos de cada variable, entre otras características.\n",
        "dataset.info()"
      ],
      "metadata": {
        "id": "qtrcDu3os7oy"
      },
      "execution_count": null,
      "outputs": []
    },
    {
      "cell_type": "markdown",
      "source": [
        "A partir de esto, podemos inferir que cada **atributo** tiene sus tipos de datos correctamente definidos, y no contamos con valores nulos. Sin embargo, aún hacen falta algunas adecuaciones.\n",
        "\n",
        "¿Qué otros detalles notaste sobre el conjunto de datos?"
      ],
      "metadata": {
        "id": "5FFnDjYPuZz9"
      }
    },
    {
      "cell_type": "markdown",
      "source": [
        "<br>"
      ],
      "metadata": {
        "id": "7Z_sxDqLsX0E"
      }
    },
    {
      "cell_type": "markdown",
      "source": [
        "# **Preprocesamiento de datos**"
      ],
      "metadata": {
        "id": "xY6QefLwulFa"
      }
    },
    {
      "cell_type": "markdown",
      "source": [
        "Una vez realizado el breve **[análisis exploratorio](https://dialektico.com/introduccion-analisis-exploratorio-de-datos/)** de los datos, procedemos a ejecutar las etapas de **[preprocesamiento](https://dialektico.com/introduccion-preprocesamiento/)**, que serán las siguientes:\n",
        "\n",
        "*   **Limpieza de datos**: se delimitará el conjunto de datos solo a los atributos de interés (bailabilidad y energía) eliminando las columnas sobrantes; se tomarán solo los renglones etiquetados con los géneros a utilizar (black metal, reggaeton y salsa), y por último, se removerán canciones repetidas (en caso de existir).\n",
        "*   **Transformación de datos**: se transformará la variable categórica \"Género\" a tipo numérico.\n"
      ],
      "metadata": {
        "id": "O-Dbant7uoBy"
      }
    },
    {
      "cell_type": "markdown",
      "source": [
        "<br>"
      ],
      "metadata": {
        "id": "vkrUqgnPsuh9"
      }
    },
    {
      "cell_type": "markdown",
      "source": [
        "## **Limpieza y transformación del conjunto de datos**"
      ],
      "metadata": {
        "id": "NwzBeAT4wODD"
      }
    },
    {
      "cell_type": "markdown",
      "source": [
        "Comenzaremos el preprocesamiento tomando solo las **columnas** correspondientes a las **variables** que deseamos procesar como características de entrada para el modelo:"
      ],
      "metadata": {
        "id": "ScJ9n-N9wZNr"
      }
    },
    {
      "cell_type": "code",
      "source": [
        "# Se filtran solo las columnas deseadas.\n",
        "reduc_dataset = dataset[['Nombre','Bailabilidad','Energía','Género']]\n",
        "\n",
        "# Se imprime el conjunto de datos.\n",
        "reduc_dataset"
      ],
      "metadata": {
        "id": "1WF9KpMjtanE"
      },
      "execution_count": null,
      "outputs": []
    },
    {
      "cell_type": "markdown",
      "source": [
        "Ahora seleccionamos solo los renglones que correspondan a **canciones** de los **géneros** que utilizaremos para alimentar al modelo:"
      ],
      "metadata": {
        "id": "kEWWa3_zzDV7"
      }
    },
    {
      "cell_type": "code",
      "source": [
        "# Se seleccionan los renglones correspondientes a los géneros elegidos.\n",
        "filt_dataset = reduc_dataset[reduc_dataset[\"Género\"].isin([\"black-metal\", \"salsa\", \"reggaeton\"])]\n",
        "\n",
        "# Se imprime el conjunto de datos.\n",
        "filt_dataset"
      ],
      "metadata": {
        "id": "fGKwWU3zxek9"
      },
      "execution_count": null,
      "outputs": []
    },
    {
      "cell_type": "markdown",
      "source": [
        "Ahora, en caso de existir, removemos las canciones repetidas:"
      ],
      "metadata": {
        "id": "9-nmlNXk0bSZ"
      }
    },
    {
      "cell_type": "code",
      "source": [
        "# Se eliminan las canciones repetidas.\n",
        "prep_dataset = filt_dataset.drop_duplicates(subset=['Nombre']).reset_index(drop = True)\n",
        "\n",
        "# Se imprime el conjunto de datos.\n",
        "prep_dataset"
      ],
      "metadata": {
        "id": "kvTSEah4zc-c"
      },
      "execution_count": null,
      "outputs": []
    },
    {
      "cell_type": "markdown",
      "source": [
        "El resultado final es una tabla con **139 renglones** y **4 columnas**, por lo que se puede inferir que se han removido 11 canciones repetidas (aprox. un 8% del total).\n"
      ],
      "metadata": {
        "id": "sVfEXp2D0t5j"
      }
    },
    {
      "cell_type": "markdown",
      "source": [
        "Hecho esto, solo queda la transformación de la variable \"Género\" a una variable numérica **discreta**, ya que es necesario interpretar numéricamente cada categoría sobre la que se desean realizar clasificaciones.\n",
        "\n",
        "Para esto utilizaremos la clase **labelEncoder()** de la librería Sklearn, la cual asignará valores discretos a cada categoría de forma automática:"
      ],
      "metadata": {
        "id": "FCnooZep5XIy"
      }
    },
    {
      "cell_type": "code",
      "source": [
        "# Se codifica la variable género en cantidades discretas.\n",
        "label_encoder = preprocessing.LabelEncoder()\n",
        "prep_dataset['Género'] = label_encoder.fit_transform(prep_dataset['Género']) # Realiza la transformación.\n",
        "\n",
        "# Se imprime el conjunto de datos.\n",
        "prep_dataset"
      ],
      "metadata": {
        "id": "PCgHWC9B225a"
      },
      "execution_count": null,
      "outputs": []
    },
    {
      "cell_type": "markdown",
      "source": [
        "Con esto se realizaron las siguientes conversiones para cada salida de la variable Género:\n",
        "\n",
        "*   Black metal = 0\n",
        "*   Reggaeton = 1\n",
        "*   Salsa = 2\n",
        "\n"
      ],
      "metadata": {
        "id": "DsA_fsbM5-qj"
      }
    },
    {
      "cell_type": "markdown",
      "source": [
        "Nótese que para el primer modelo clasificador, las **probabilidades condicionales** se van a calcular en relación al género **reggaeton**, ya que se le asignó el número 1.\n",
        "\n",
        "Con esto concluye la etapa de **preprocesamiento**, y pasamos a entrenar el primer **modelo**."
      ],
      "metadata": {
        "id": "tIQQbgl_6SET"
      }
    },
    {
      "cell_type": "markdown",
      "source": [
        "<br>"
      ],
      "metadata": {
        "id": "ipfKgXshtTdV"
      }
    },
    {
      "cell_type": "markdown",
      "source": [
        "#**Regresión logística univariable**"
      ],
      "metadata": {
        "id": "kqnWoKyd6iIC"
      }
    },
    {
      "cell_type": "markdown",
      "source": [
        "El primer modelo que elaboraremos será el que clasifique canciones en las clases **black metal** y **reggaeton** de acuerdo con su **bailabilidad**, por lo que solo considerará una **variable** independiente (un atributo) y dos categorías (dos posibles valores de la variable dependiente). Para esto haremos uso de la clase **[LogisticRegression](https://https://scikit-learn.org/stable/modules/generated/sklearn.linear_model.LogisticRegression.html)** de Sklearn."
      ],
      "metadata": {
        "id": "nMfZRL2d6qBp"
      }
    },
    {
      "cell_type": "markdown",
      "source": [
        "Primero seleccionaremos solo los datos correspondientes a estos dos géneros, y realizamos la división del conjunto en los subconjuntos de **entrenamiento** y **prueba** utilizando una proporción 80-20, como hicimos en el [ejercicio sobre regresión lineal](https://colab.research.google.com/github/DanielDialektico/dialektico-machine-learning-practices/blob/main/notebooks/Machine%20Learning/Aprendizaje%20Supervisado/Regresi%C3%B3n_Lineal_Simple.ipynb)."
      ],
      "metadata": {
        "id": "TfWG84b47CsW"
      }
    },
    {
      "cell_type": "code",
      "source": [
        "# Se seleccionan los ejemplos de entrenamiento correspondientes a los géneros black metal y reggaeton\n",
        "mod1_dataset = prep_dataset[prep_dataset['Género'].isin([0, 1])]\n",
        "\n",
        "# Se generan los conjuntos de entrenamiento y prueba, definiendo cuáles son las entradas y las salidas del modelo.\n",
        "inputs = mod1_dataset['Bailabilidad']\n",
        "outputs = mod1_dataset['Género']\n",
        "x_train, x_test, y_train, y_test = train_test_split(inputs, outputs, test_size=0.2, random_state=42)\n",
        "\n",
        "x_train = x_train.to_numpy().reshape(-1,1) # Se da formato al conjunto de entrenamiento para utilizar la clase de Sklearn."
      ],
      "metadata": {
        "id": "AVQI29nj7y0U"
      },
      "execution_count": null,
      "outputs": []
    },
    {
      "cell_type": "markdown",
      "source": [
        "Ahora **entrenamos** el modelo utilizando la **regresión logística** y graficamos el modelo resultante:"
      ],
      "metadata": {
        "id": "cGYVsNhH8iOi"
      }
    },
    {
      "cell_type": "code",
      "source": [
        "# Se entrena el modelo.\n",
        "logisticRegr = LogisticRegression()\n",
        "logisticRegr.fit(x_train, y_train.values.ravel())\n",
        "\n",
        "#-------------Gráfica---------------\n",
        "# Se crea un rango de valores para el eje x.\n",
        "x_range= np.linspace(x_train.min() - 1, x_train.max() + 1, 1000)\n",
        "\n",
        "# Se calculan los valores correspondientes al eje \"y\" para la curva de la función logística.\n",
        "logistic_curve = logisticRegr.predict_proba(x_range.reshape(-1, 1))[:, 1]\n",
        "\n",
        "# Se define el tamaño de la gráfica.\n",
        "plt.figure(figsize=(7, 7))\n",
        "\n",
        "# Se grafican los puntos de las dos clases del conjunto de entrenamiento.\n",
        "plt.scatter(x_train[y_train.values.ravel() == 0], logisticRegr.predict_proba(x_train[y_train.values.ravel() == 0])[:, 1], color='blue', s=50)\n",
        "plt.scatter(x_train[y_train.values.ravel() == 1], logisticRegr.predict_proba(x_train[y_train.values.ravel() == 1])[:, 1], color='red', s=50)\n",
        "\n",
        "# Se grafica la curva de probabilidad predicha.\n",
        "plt.plot(x_range, logistic_curve, color='black', linewidth=2)\n",
        "\n",
        "# Se definen las leyendas de la gráfica\n",
        "line = mlines.Line2D([], [], color='black', linewidth=3, label='Curva sigmoidea')\n",
        "red_circle = mlines.Line2D([], [], color='blue', marker='o', linestyle='None', markersize=10, label='Black Metal')\n",
        "blue_circle = mlines.Line2D([], [], color='red', marker='o', linestyle='None', markersize=10, label='Reggaeton')\n",
        "\n",
        "# Se configuran las características de las leyendas.\n",
        "plt.legend(handles=[line, red_circle, blue_circle], loc='upper left', prop={'family': 'DejaVu Sans', 'weight': 'bold', 'size': 11}, frameon=True, framealpha=1, facecolor='#dddddd', shadow=True)\n",
        "\n",
        "# Se añaden títulos e información adicional.\n",
        "plt.title(\"Función logística\", fontdict={'family': 'DejaVu Sans', 'color': 'black', 'weight': 'bold', 'size': 14}, pad=15)\n",
        "plt.xlabel(\"BAILABILIDAD\", fontdict={'family': 'DejaVu Sans', 'color': 'black', 'weight': 'bold', 'size': 10}, labelpad=15)\n",
        "plt.ylabel(\"PROBABILIDAD\", fontdict={'family': 'DejaVu Sans', 'color': 'black', 'weight': 'bold', 'size': 10}, labelpad=15)\n",
        "plt.suptitle(\"Fig. 1 Curva de probabilidad generada por el modelo resultante, donde recaen los puntos correspondientes a cada dato de entrada.\", fontproperties={'family': 'DejaVu Sans', 'size': 11}, y=-0.001)\n",
        "\n",
        "# Se limitan los ejes de la gráfica\n",
        "plt.ylim(-0.1, 1.1)\n",
        "plt.xlim(0, 1)\n",
        "\n",
        "plt.show()"
      ],
      "metadata": {
        "id": "bKOntMq054wy"
      },
      "execution_count": null,
      "outputs": []
    },
    {
      "cell_type": "markdown",
      "source": [
        "Recordemos que está curva está dada por el siguiente modelo:"
      ],
      "metadata": {
        "id": "wY7sqT3bvnRd"
      }
    },
    {
      "cell_type": "markdown",
      "source": [
        "\\begin{align}\n",
        "        p(y=1|x,\\theta)=\\frac{1}{1+e^{-(\\theta_{0}+\\theta_{1}x)}}\\:.\\tag{1.1}\n",
        "    \\end{align}"
      ],
      "metadata": {
        "id": "2Ob2Xwjavq2k"
      }
    },
    {
      "cell_type": "markdown",
      "source": [
        "Donde, mediante la regresión logística, se han calculado los valores de los **parámetros** $\\theta_{0}$ y $\\theta_{1}$.\n",
        "\n",
        "A continuación, imprimimos estos valores:\n"
      ],
      "metadata": {
        "id": "4bZIr11QCZSi"
      }
    },
    {
      "cell_type": "code",
      "source": [
        "# Se obtienen los valores de los coeficientes de regresión calculados.\n",
        "theta_0 = logisticRegr.intercept_[0]\n",
        "theta_1 = logisticRegr.coef_[0][0]\n",
        "\n",
        "print(f'Los valores de los parámetros de regresión de la ecuación de la recta son:\\n\\nθ₀ = {str(theta_0)[0:8]} \\nθ₁ = {str(theta_1)[0:6]}')"
      ],
      "metadata": {
        "id": "qE_8LLG3CBoY"
      },
      "execution_count": null,
      "outputs": []
    },
    {
      "cell_type": "markdown",
      "source": [
        "Estos valores son los parámetros correspondientes al modelo, generados mediante la regresión logística. Es decir, el modelo ha sido entrenado y está listo para utilizarse.  \n",
        "\n",
        "Para evaluar qué tan bien funciona, calcularemos su **precisión** (**accuracy**) mediante la siguiente razón:"
      ],
      "metadata": {
        "id": "LDPfOZq9Nsxw"
      }
    },
    {
      "cell_type": "markdown",
      "source": [
        "\\begin{align}\n",
        "        \\mathrm{accuracy} = \\frac{\\mathrm{Predicciones\\:correctas}}{\\mathrm{Total\\:de\\:predicciones}}\\:.\\tag{1.2}\n",
        "    \\end{align}"
      ],
      "metadata": {
        "id": "iwDoKmcY_RKk"
      }
    },
    {
      "cell_type": "markdown",
      "source": [
        "Esta métrica no es más que la proporción de **predicciones** (**clasificaciones**) correctas realizadas sobre el conjunto de prueba.\n",
        "Lo calculamos e imprimimos su valor:"
      ],
      "metadata": {
        "id": "LMc1nHGFAfeE"
      }
    },
    {
      "cell_type": "code",
      "source": [
        "# Se calcula e imprime el valor de la precisión del modelo.\n",
        "score = logisticRegr.score(x_test.to_numpy().reshape(-1,1), y_test.values.ravel())\n",
        "\n",
        "print(\"La precisión del modelo es: \" + str(score))"
      ],
      "metadata": {
        "id": "Xrw59-3C_Cfk"
      },
      "execution_count": null,
      "outputs": []
    },
    {
      "cell_type": "markdown",
      "source": [
        "La razón obtenida deberá ser cercana a 1, lo cual quiere decir que el modelo acierta aproximadamente el 100% de las observaciones del conjunto de prueba, esto debido a la muy marcada separación existente entre ambos géneros musicales por su bailabilidad (o porque está *sobreajustado*, pero ese concepto lo revisaremos en otra sesión).\n",
        "\n",
        "**Nota:** la precisión es solo una de varias medidas disponibles para la evaluación del modelo; hablaremos sobre ello en próximas exploraciones."
      ],
      "metadata": {
        "id": "Mzsn8SLMAySD"
      }
    },
    {
      "cell_type": "markdown",
      "source": [
        "<br>"
      ],
      "metadata": {
        "id": "GHLtVwCiv0wP"
      }
    },
    {
      "cell_type": "markdown",
      "source": [
        "## **Límite de decisión**"
      ],
      "metadata": {
        "id": "gj8eqiOhF3ap"
      }
    },
    {
      "cell_type": "markdown",
      "source": [
        "Ahora exploremos brevemente el **límite de decisión**. [Recordemos](https://dialektico.com/regresion-logistica-fundamentos/) que este nos indica el **umbral** que determina si una observación pertenece o no a una clase determinada, y está dada por la siguiente ecuación:\n",
        "\n"
      ],
      "metadata": {
        "id": "_HN_fdNkGECb"
      }
    },
    {
      "cell_type": "markdown",
      "source": [
        "\\begin{align}\n",
        "        b_{dec}=-\\frac{\\theta_0}{\\theta_1}\\:.\\tag{1.3}\n",
        "    \\end{align}"
      ],
      "metadata": {
        "id": "zcHLbonRGZa7"
      }
    },
    {
      "cell_type": "markdown",
      "source": [
        "donde $\\theta_0$ y $\\theta_1$ son los parámetros de la **función sigmoide**."
      ],
      "metadata": {
        "id": "XLDB-T5GOz8o"
      }
    },
    {
      "cell_type": "markdown",
      "source": [
        "Calculamos el valor del límite de decisión utilizando los parámetros obtenidos:"
      ],
      "metadata": {
        "id": "6leAUYrtG1cj"
      }
    },
    {
      "cell_type": "code",
      "source": [
        "# Se realiza la división y se imprime el resultado.\n",
        "decision_b  = -theta_0 / theta_1\n",
        "print(f'El valor del límite de decisión es aproximadamente:\\n {str(decision_b)[0:4]}')"
      ],
      "metadata": {
        "id": "kPJ8l4d4DVx8"
      },
      "execution_count": null,
      "outputs": []
    },
    {
      "cell_type": "markdown",
      "source": [
        "Y graficamos el límite junto a las clases sobre la curva sigmoidea:"
      ],
      "metadata": {
        "id": "el8uekwsKW_j"
      }
    },
    {
      "cell_type": "code",
      "source": [
        "# Se define el tamaño de la gráfica.\n",
        "plt.figure(figsize=(7, 7))\n",
        "\n",
        "# Se grafican los puntos de las dos clases del conjunto de entrenamiento.\n",
        "plt.scatter(x_train[y_train.values.ravel() == 0], logisticRegr.predict_proba(x_train[y_train.values.ravel() == 0])[:, 1], color='blue', s=50)\n",
        "plt.scatter(x_train[y_train.values.ravel() == 1], logisticRegr.predict_proba(x_train[y_train.values.ravel() == 1])[:, 1], color='red', s=50)\n",
        "\n",
        "# Se grafica la curva de probabilidad predicha.\n",
        "plt.plot(x_range, logistic_curve, color='black', linewidth=2)\n",
        "\n",
        "# Se grafica la línea horizontal en y=0.58 (umbral de decisión)\n",
        "plt.axhline(y=decision_b, color='gray', linestyle='--')\n",
        "\n",
        "# Se definen las leyendas de la gráfica\n",
        "line = mlines.Line2D([], [], color='black', linewidth=3, label='Curva sigmoidea')\n",
        "threshold_line = mlines.Line2D([], [], color='gray', linestyle='--', label='Umbral de decisión (0.58)')\n",
        "red_circle = mlines.Line2D([], [], color='blue', marker='o', linestyle='None', markersize=10, label='Black Metal')\n",
        "blue_circle = mlines.Line2D([], [], color='red', marker='o', linestyle='None', markersize=10, label='Reggaeton')\n",
        "\n",
        "# Se configuran las características de las leyendas.\n",
        "plt.legend(handles=[line, threshold_line, red_circle, blue_circle], loc='upper left', prop={'family': 'DejaVu Sans', 'weight': 'bold', 'size': 11}, frameon=True, framealpha=1, facecolor='#dddddd', shadow=True)\n",
        "\n",
        "# Se añaden títulos e información adicional.\n",
        "plt.title(\"Función logística y límite de decisión\", fontdict={'family': 'DejaVu Sans', 'color': 'black', 'weight': 'bold', 'size': 14}, pad=15)\n",
        "plt.xlabel(\"BAILABILIDAD\", fontdict={'family': 'DejaVu Sans', 'color': 'black', 'weight': 'bold', 'size': 10}, labelpad=15)\n",
        "plt.ylabel(\"PROBABILIDAD\", fontdict={'family': 'DejaVu Sans', 'color': 'black', 'weight': 'bold', 'size': 10}, labelpad=15)\n",
        "plt.suptitle(\"Fig. 2 Límite de decisión cortando la curva sigmoidea.\", fontproperties={'family': 'DejaVu Sans', 'size': 11}, y=-0.001)\n",
        "\n",
        "# Se limitan los ejes de la gráfica\n",
        "plt.ylim(-0.1, 1.1)\n",
        "plt.xlim(0, 1)\n",
        "\n",
        "plt.show()"
      ],
      "metadata": {
        "id": "tpHgy7RGHHa1"
      },
      "execution_count": null,
      "outputs": []
    },
    {
      "cell_type": "markdown",
      "source": [
        "Con esta gráfica comprobamos que, si bien el modelo acierta en la gran mayoría de las clasificaciones de las observaciones del conjunto de pruebas, es imperfecto al momento de separar las clases, dado que se observan algunos datos de la clase **Reggaeton** debajo del umbral. Esto mostraría que nuestra estimación de precisión no es completamente fiable, pero no nos centraremos en esto, sino solamente en que el modelo es bueno realizando clasificaciones de los datos entrantes. En un futuro muy próximo nos centraremos en evaluaciones más robustas."
      ],
      "metadata": {
        "id": "XtraNPvXMxfF"
      }
    },
    {
      "cell_type": "markdown",
      "source": [
        "<br>"
      ],
      "metadata": {
        "id": "GZJZYneqw8Uu"
      }
    },
    {
      "cell_type": "markdown",
      "source": [
        "## **Utilizando el modelo**"
      ],
      "metadata": {
        "id": "EhH2xHOKT4K8"
      }
    },
    {
      "cell_type": "markdown",
      "source": [
        "Ahora utilizaremos el modelo para calcular la **probabilidad** y **clase** de la canción **FTBS**, la cual tiene una **bailabilidad** de **0.265**.\n",
        "\n",
        "En el siguiente bloque se calcula la probabilidad de que esta canción pertenezca a la clase **Reggaeton**, es decir, a la **clase 1**."
      ],
      "metadata": {
        "id": "GDpVHBKST7f8"
      }
    },
    {
      "cell_type": "markdown",
      "source": [
        "Primero, crearemos una función auxiliar para imprimir la probabilidad y la clase calculadas por el modelo para canciones específicas:"
      ],
      "metadata": {
        "id": "e2NNr4eyUJW2"
      }
    },
    {
      "cell_type": "code",
      "source": [
        "# Se crea una función para obtener la probabilidad y clase predicha por el modelo dado el nombre de una canción.\n",
        "\n",
        "def get_predictions(song):\n",
        "    cancion = mod1_dataset[mod1_dataset['Nombre'] == song]\n",
        "    if not cancion.empty:\n",
        "        bailabilidad = cancion['Bailabilidad'].values[0]\n",
        "        prob = logisticRegr.predict_proba(np.array(bailabilidad).reshape(-1, 1))\n",
        "        predict_class = logisticRegr.predict(np.array(bailabilidad).reshape(-1, 1))[0]\n",
        "        if predict_class == 1:\n",
        "          assigned_class = 'reggaeton'\n",
        "        else:\n",
        "          assigned_class = 'black metal'\n",
        "\n",
        "        prob_class = {\n",
        "            'probabilidad_clase_1': str(prob[0][1])[0:4],\n",
        "            'clase_predicha': assigned_class\n",
        "        }\n",
        "        return prob_class\n",
        "    else:\n",
        "        return None"
      ],
      "metadata": {
        "id": "_2oHyFRSVb8F"
      },
      "execution_count": null,
      "outputs": []
    },
    {
      "cell_type": "markdown",
      "source": [
        "Imprimimos la probabilidad de que **FTBS** sea del género reggaeton:"
      ],
      "metadata": {
        "id": "o5oKR7tPUSy_"
      }
    },
    {
      "cell_type": "code",
      "source": [
        "song = \"FTBS\"\n",
        "resultados_ftbs = get_predictions(song)\n",
        "print(f'La probabilidad de que la canción {song} pertenezca a la clase reggaeton es: {resultados_ftbs[\"probabilidad_clase_1\"]}')"
      ],
      "metadata": {
        "id": "PIz2sHypUIh-"
      },
      "execution_count": null,
      "outputs": []
    },
    {
      "cell_type": "markdown",
      "source": [
        "Esta predicción de probabilidad se puede visualizar sobre la curva del modelo en la **Figura 3**:"
      ],
      "metadata": {
        "id": "gDLchF90V7HW"
      }
    },
    {
      "cell_type": "code",
      "source": [
        "prob = logisticRegr.predict_proba(np.array(0.265).reshape(-1,1))\n",
        "\n",
        "# Se define el tamaño de la gráfica.\n",
        "plt.figure(figsize=(7, 7))\n",
        "\n",
        "# Se grafica la curva de la función logística.\n",
        "plt.plot(x_range, logistic_curve, color='black', label='Curva logística', linewidth=2)\n",
        "plt.plot(0.265, 0.21, 'o', markersize = 15, color=\"orange\", label = 'Probabilidad estimada = ' + str(prob[0][1])[0:4])\n",
        "\n",
        "# Se configuran las características de las leyendas.\n",
        "plt.legend(loc='upper left', prop = {'family': 'DejaVu Sans', 'weight': 'bold', 'size': 10}, frameon = True, framealpha = 1, facecolor  = '#dddddd', shadow = True)\n",
        "\n",
        "# Se añaden títulos e información adicional.\n",
        "plt.title(\"Predicción de la función logística\", fontdict = {'family': 'DejaVu Sans', 'color':  'black', 'weight': 'bold', 'size': 14}, pad = 14)\n",
        "plt.xlabel(\"BAILABILIDAD\", fontdict = {'family': 'DejaVu Sans', 'color':  'black', 'weight': 'bold', 'size': 10}, labelpad = 10)\n",
        "plt.ylabel(\"PROBABILIDAD\", fontdict = {'family': 'DejaVu Sans', 'color':  'black', 'weight': 'bold', 'size': 10}, labelpad = 10)\n",
        "plt.suptitle(\"Fig. 3 Predicción realizada por el modelo visualizada sobre la curva de la función sigmoidea.\", fontproperties = {'family': 'DejaVu Sans', 'size': 11}, y=-0.001)\n",
        "\n",
        "plt.show()"
      ],
      "metadata": {
        "id": "jiOC7VDHWRvD"
      },
      "execution_count": null,
      "outputs": []
    },
    {
      "cell_type": "markdown",
      "source": [
        "Ahora que hemos calculado esta probabilidad, revisemos cuál es la **categoría** asignada por el algoritmo a la canción:"
      ],
      "metadata": {
        "id": "OCR032P_TEvA"
      }
    },
    {
      "cell_type": "code",
      "source": [
        "print(f'La clase estimada para la canción {song} es: {resultados_ftbs[\"clase_predicha\"]}')"
      ],
      "metadata": {
        "id": "F2BOqAaOTEgA"
      },
      "execution_count": null,
      "outputs": []
    },
    {
      "cell_type": "markdown",
      "source": [
        "Esto lo sabemos de antemano, ya que la probabilidad calculada está por debajo del umbral antes mostrado."
      ],
      "metadata": {
        "id": "iGpRxgAoxgiO"
      }
    },
    {
      "cell_type": "markdown",
      "source": [
        "<br>"
      ],
      "metadata": {
        "id": "GcGTtHUHxl7l"
      }
    },
    {
      "cell_type": "markdown",
      "source": [
        "### **Personaliza las pruebas**"
      ],
      "metadata": {
        "id": "XrRBsgPBTg_D"
      }
    },
    {
      "cell_type": "markdown",
      "source": [
        "¿Deseas hacer pruebas con otras canciones? Solo cambia el valor de la variable **song** por el nombre de la canción que deseas probar. Aquí tienes un ejemplo con la canción **La Jumpa**:"
      ],
      "metadata": {
        "id": "ZetaSRrgSNjB"
      }
    },
    {
      "cell_type": "code",
      "source": [
        "song = \"La Jumpa\" # Coloca aquí, entre las comillas, el nombre de la canción que desees probar.\n",
        "resultados_ftbs = get_predictions(song)\n",
        "print(f'La probabilidad de que la canción {song} pertenezca a la clase reggaeton es: {resultados_ftbs[\"probabilidad_clase_1\"]}')\n",
        "print(f'La clase estimada para la canción {song} es: {resultados_ftbs[\"clase_predicha\"]}')"
      ],
      "metadata": {
        "id": "Pagdpf-LSMbM"
      },
      "execution_count": null,
      "outputs": []
    },
    {
      "cell_type": "markdown",
      "source": [
        "<br>"
      ],
      "metadata": {
        "id": "1lNmfvx8xtwl"
      }
    },
    {
      "cell_type": "markdown",
      "source": [
        "# Regresión logística multivariable"
      ],
      "metadata": {
        "id": "yahDEatIzPf8"
      }
    },
    {
      "cell_type": "markdown",
      "source": [
        "La siguiente tarea a realizar es crear un modelo que haga las mismas clasificaciones, pero tomando en cuenta dos variables independientes: **bailabilidad** y **energía**, por lo que se está hablando de una regresión logística **multivariable**.\n",
        "\n",
        "En el siguiente fragmento se ajustará el modelo para ambas variables y se imprimirá su **precisión** de predicción."
      ],
      "metadata": {
        "id": "LWLRVBCwzUuL"
      }
    },
    {
      "cell_type": "code",
      "source": [
        "# Se seleccionan las variables y se generan los conjuntos de entrenamiento y prueba.\n",
        "inputs = mod1_dataset[['Bailabilidad','Energía']]\n",
        "outputs = mod1_dataset['Género']\n",
        "x_train, x_test, y_train, y_test = train_test_split(inputs, outputs, test_size=0.2, random_state=42)\n",
        "\n",
        "# Se entrena el modelo.\n",
        "logisticRegr.fit(x_train, y_train)\n",
        "\n",
        "# Se calcula e imprime el valor de la precisión del modelo.\n",
        "y_pred = logisticRegr.predict(x_test)\n",
        "score = logisticRegr.score(x_test, y_test)\n",
        "\n",
        "print(\"La precisión del modelo es: \" + str(score))"
      ],
      "metadata": {
        "id": "wO5XSWusVA98"
      },
      "execution_count": null,
      "outputs": []
    },
    {
      "cell_type": "markdown",
      "source": [
        "Podemos observar que la **precisión** del modelo es también alta; esto es porque ambas variables son linealmente separables en su totalidad, lo cual se puede constatar en la **Figura 4**:"
      ],
      "metadata": {
        "id": "WqgG9QO-PHOo"
      }
    },
    {
      "cell_type": "code",
      "source": [
        "# Se crea una malla de puntos en el plano.\n",
        "x_min, x_max = mod1_dataset['Bailabilidad'].min() - 0.1, mod1_dataset['Bailabilidad'].max() + 0.1\n",
        "y_min, y_max = mod1_dataset['Energía'].min() - 0.1, mod1_dataset['Energía'].max() + 0.1\n",
        "xx, yy = np.meshgrid(np.arange(x_min, 1.1, 0.001),\n",
        "                     np.arange(y_min, 1.09, 0.001))\n",
        "\n",
        "# Se obtienen las etiquetas para cada punto.\n",
        "labels = mod1_dataset['Género']\n",
        "\n",
        "# Se predicen las etiquetas de los puntos en la malla.\n",
        "Z = logisticRegr.predict(np.c_[xx.ravel(), yy.ravel()])\n",
        "Z = Z.reshape(xx.shape)\n",
        "\n",
        "# Se crea una lista de colores para cada punto.\n",
        "colors = ['blue' if label == 0 else 'red' for label in labels]\n",
        "\n",
        "# Se define el tamaño de la gráfica.\n",
        "plt.figure(figsize=(7, 7))\n",
        "\n",
        "# Se grafican los puntos y el límite de decisión.\n",
        "plt.scatter(mod1_dataset['Bailabilidad'], mod1_dataset['Energía'], c=colors)\n",
        "plt.contour(xx, yy, Z, levels=[0], colors='black', linewidths=2)\n",
        "\n",
        "# Se definen las leyendas de la gráfica.\n",
        "line = mlines.Line2D([], [], color='black', linewidth=3, label='Límite de decisión')\n",
        "red_circle = mlines.Line2D([], [], color='blue', marker='o', linestyle='None', markersize=10, label='Black Metal')\n",
        "blue_circle = mlines.Line2D([], [], color='red', marker='o', linestyle='None', markersize=10, label='Reggaeton')\n",
        "\n",
        "# Se configuran las características de las leyendas.\n",
        "plt.legend(handles=[line, red_circle, blue_circle], loc='lower left', prop={'family': 'DejaVu Sans', 'weight': 'bold', 'size': 11}, frameon=True, framealpha=1, facecolor='#dddddd', shadow=True)\n",
        "\n",
        "# Se añaden títulos e información adicional.\n",
        "plt.title(\"Límite de decisión\", fontdict = {'family': 'DejaVu Sans', 'color':  'black', 'weight': 'bold', 'size': 14}, pad = 14)\n",
        "plt.xlabel(\"BAILABILIDAD\", fontdict = {'family': 'DejaVu Sans', 'color':  'black', 'weight': 'bold', 'size': 10}, labelpad = 10)\n",
        "plt.ylabel(\"ENERGÍA\", fontdict = {'family': 'DejaVu Sans', 'color':  'black', 'weight': 'bold', 'size': 10}, labelpad = 10)\n",
        "plt.suptitle(\"Fig. 4 Límite de decisión del modelo separando las observaciones de las dos clases existentes.\", fontproperties = {'family': 'DejaVu Sans', 'size': 11}, y=-0.001)\n",
        "\n",
        "plt.show()"
      ],
      "metadata": {
        "id": "tRJgvDH6121t"
      },
      "execution_count": null,
      "outputs": []
    },
    {
      "cell_type": "markdown",
      "source": [
        "La recta en la gráfica **separa** de forma consistente las dos clases de datos, lo cual demuestra que las variables **energía** y **bailabilidad** marcan una diferenciación perfecta entre canciones de ambos géneros. Nótese que esta gráfica es un plano porque estamos trabajando con dos variables, generando un espacio de dos dimensiones.\n",
        "\n",
        "Por último, a forma de análisis, podemos concluir en que la energía mezclada con la bailabilidad crea un distintivo muy exacto entre ambos géneros, donde el **Reggaeton** tiene canciones más bailables pero menos energéticas que el **Black Metal**."
      ],
      "metadata": {
        "id": "Ur0g1PW2QS3c"
      }
    },
    {
      "cell_type": "markdown",
      "source": [
        "<br>"
      ],
      "metadata": {
        "id": "DctYgOntybfu"
      }
    },
    {
      "cell_type": "markdown",
      "source": [
        "# **Regresión logística multivariable multiclase**"
      ],
      "metadata": {
        "id": "LBRiRWMhQMI1"
      }
    },
    {
      "cell_type": "markdown",
      "source": [
        "Por último, se creará un modelo idéntico, con la diferencia de que se añadirá una **clase** **extra**: el género **Salsa**.\n",
        "\n",
        "Para esto, volveremos a utilizar el conjunto de datos que resultó del preprocesamiento. Para la clasificación final, la librería **Sklearn** utiliza la función **softmax** para la determinación de la pertenencia de los datos a las distintas clases. Este método será discutido en expediciones próximas.\n",
        "\n",
        "Ahora, entrenamos el modelo con tres clases e imprimimos su precisión:"
      ],
      "metadata": {
        "id": "OL_uLrI8QQRN"
      }
    },
    {
      "cell_type": "code",
      "source": [
        "# Se generan los conjuntos de entrenamiento y prueba.\n",
        "inputs = prep_dataset[['Bailabilidad','Energía']]\n",
        "outputs = prep_dataset['Género']\n",
        "x_train, x_test, y_train, y_test = train_test_split(inputs, outputs, test_size=0.2, random_state=42)\n",
        "\n",
        "# Se entrena el modelo.\n",
        "logisticRegr.fit(x_train, y_train)\n",
        "\n",
        "# Se calcula e imprime el valor de la precisión del modelo.\n",
        "y_pred = logisticRegr.predict(x_test)\n",
        "score = logisticRegr.score(x_test, y_test)\n",
        "\n",
        "print(\"La precisión del modelo es: \" + str(score))"
      ],
      "metadata": {
        "id": "tOP18UqqPhM1"
      },
      "execution_count": null,
      "outputs": []
    },
    {
      "cell_type": "markdown",
      "source": [
        "Notaremos que el modelo tiene una precisión considerablemente más baja, lo cual puede ser porque las observaciones añadidas no son tan separables como en el caso anterior.\n",
        "\n",
        "Una forma de visualizar esto es la que se muestra en la **Figura 5**:"
      ],
      "metadata": {
        "id": "ukeUeKy9VNmN"
      }
    },
    {
      "cell_type": "code",
      "source": [
        "# Se crea una malla de puntos en el plano.\n",
        "x_min, x_max = prep_dataset['Bailabilidad'].min() - 0.1, prep_dataset['Bailabilidad'].max() + 0.1\n",
        "y_min, y_max = prep_dataset['Energía'].min() - 0.1, prep_dataset['Energía'].max() + 0.1\n",
        "xx, yy = np.meshgrid(np.linspace(x_min, x_max, 1000),\n",
        "                     np.linspace(y_min, y_max, 1000))\n",
        "\n",
        "# Se predicen las etiquetas de los puntos en la malla.\n",
        "Z = logisticRegr.predict(np.c_[xx.ravel(), yy.ravel()])\n",
        "Z = Z.reshape(xx.shape)\n",
        "\n",
        "# Se crea una lista de colores para cada punto.\n",
        "colors = ['blue' if label == 0 else 'red' if label == 1 else 'green' for label in prep_dataset['Género']]\n",
        "\n",
        "# Se define el tamaño de la gráfica.\n",
        "plt.figure(figsize=(7, 7))\n",
        "\n",
        "# Se gracian las regiones de decisión.\n",
        "plt.contourf(xx, yy, Z, alpha=0.3, cmap=plt.cm.coolwarm)\n",
        "\n",
        "# Se grafican los puntos de datos.\n",
        "plt.scatter(prep_dataset['Bailabilidad'], prep_dataset['Energía'], c=colors, edgecolor='k', s=50)\n",
        "\n",
        "# Se definen las leyendas de la gráfica.\n",
        "blue_circle = mlines.Line2D([], [], color='blue', marker='o', linestyle='None', markersize=10, label='Reggaeton')\n",
        "red_circle = mlines.Line2D([], [], color='red', marker='o', linestyle='None', markersize=10, label='Black Metal')\n",
        "green_circle = mlines.Line2D([], [], color='green', marker='o', linestyle='None', markersize=10, label='Salsa')\n",
        "\n",
        "# Se configuran las características de las leyendas.\n",
        "plt.legend(handles=[blue_circle, red_circle, green_circle], loc='lower left', prop={'family': 'DejaVu Sans', 'weight': 'bold', 'size': 11}, frameon=True, framealpha=1, facecolor='#dddddd', shadow=True)\n",
        "\n",
        "# Se añaden títulos e información adicional.\n",
        "plt.title(\"Dispersión de los datos y límites de Decisión\", fontdict={'family': 'DejaVu Sans', 'color': 'black', 'weight': 'bold', 'size': 14}, pad=14)\n",
        "plt.xlabel(\"BAILABILIDAD\", fontdict={'family': 'DejaVu Sans', 'color': 'black', 'weight': 'bold', 'size': 10}, labelpad=10)\n",
        "plt.ylabel(\"ENERGÍA\", fontdict={'family': 'DejaVu Sans', 'color': 'black', 'weight': 'bold', 'size': 10}, labelpad=10)\n",
        "plt.suptitle(\"Fig. 5 Dispersión de los datos etiquetados por clases, separados por los límites de decisión calculados.\", fontproperties={'family': 'DejaVu Sans', 'size': 11}, y=-0.001)\n",
        "\n",
        "# Se limitan los ejes de la gráfica\n",
        "plt.ylim(y_min, y_max)\n",
        "plt.xlim(x_min, x_max)\n",
        "\n",
        "plt.show()"
      ],
      "metadata": {
        "id": "19iay_o8PV_L"
      },
      "execution_count": null,
      "outputs": []
    },
    {
      "cell_type": "markdown",
      "source": [
        "Sin entrar en detalles matemáticos, para un modelo multiclase se definen **regiones de decisión**, las cuales determinan la pertenencia de cada dato a una clase específica. En la gráfica se observan límites de decisión distinguibles, pero no perfectos; específicamente, los puntos correspondientes a las clases **Black Metal** y **Reggaeton** están totalmente separados, pero los datos clasificados como **Salsa** están en un punto intermedio, invadiendo las tres regiones mostradas. Esto se puede explicar por **similitudes** entre las canciones de este género con los otros dos respecto a las características seleccionadas.\n",
        "\n",
        "Sin embargo, los resultados de los tres modelos generados apuntan a que las métricas involucradas pueden ser marcadores efectivos de **diferenciación** entre canciones de diferentes **géneros musicales**.\n",
        "\n",
        "Para crear modelos multiclase con mayor precisión se pueden sumar otras variables, o incluso utilizar modelos de clasificación diferentes. Ya aprenderás sobre eso más adelante."
      ],
      "metadata": {
        "id": "5cWDcjE4Vb60"
      }
    },
    {
      "cell_type": "markdown",
      "source": [
        "Ahora, puedes experimentar con distintas combinaciones de **clases** y **métricas** para el entrenamiento de modelos clasificadores con regresión logística."
      ],
      "metadata": {
        "id": "gZZGnrmvU90g"
      }
    },
    {
      "cell_type": "markdown",
      "source": [
        "<br>"
      ],
      "metadata": {
        "id": "aWqyerU10Y22"
      }
    },
    {
      "cell_type": "markdown",
      "source": [
        "#**Ejercicio (opcional)**"
      ],
      "metadata": {
        "id": "b8sOY0XHWsau"
      }
    },
    {
      "cell_type": "markdown",
      "source": [
        "Por último, tienes la oportunidad de elegir las **clases** y **métricas** que gustes para el entrenamiento del modelo. Recuerda que puedes elegir entre las siguientes características:"
      ],
      "metadata": {
        "id": "oPr5V4MFW8Xq"
      }
    },
    {
      "cell_type": "code",
      "source": [
        "# Se imprimen las características del conjunto de datos.\n",
        "genres_list = dataset.columns.tolist()\n",
        "genres_list.remove('Nombre')\n",
        "genres_list.remove('Género')\n",
        "genres_list"
      ],
      "metadata": {
        "id": "JUs0Vc03TaYu"
      },
      "execution_count": null,
      "outputs": []
    },
    {
      "cell_type": "markdown",
      "source": [
        "Y las siguientes clases:"
      ],
      "metadata": {
        "id": "mzSWJrT4X5Z1"
      }
    },
    {
      "cell_type": "code",
      "source": [
        "# Se imprimen los géneros disponibles.\n",
        "dataset['Género'].unique().tolist()"
      ],
      "metadata": {
        "id": "NPr2QVrCX7S_"
      },
      "execution_count": null,
      "outputs": []
    },
    {
      "cell_type": "markdown",
      "source": [
        "Modifica el siguiente fragmento con tus elecciones para el entrenamiento del modelo con regresión logística (no olvides colocar el texto entre comillas simples o dobles):"
      ],
      "metadata": {
        "id": "_RzImGlUX0M-"
      }
    },
    {
      "cell_type": "code",
      "source": [
        "# Se carga el conjunto de datos.\n",
        "dataset = pd.read_csv('https://raw.githubusercontent.com/DanielDialektico/Machine-Learning/main/Conjuntos%20de%20datos/Spotify_genres.csv')\n",
        "\n",
        "# Se eligen dos atributos.\n",
        "attribute_1 = ''# Escribe tu elección.\n",
        "attribute_2 = ''# Escribe tu elección.\n",
        "\n",
        "# Se eligen dos géneros.\n",
        "genre_1 = ''# Escribe tu elección.\n",
        "genre_2 = ''# Escribe tu elección.\n",
        "\n",
        "# Se preprocesa el conjunto de datos.\n",
        "dataset = dataset.loc[:, ['Nombre', attribute_1, attribute_2, 'Género']]\n",
        "dataset = dataset.loc[dataset.iloc[:, -1].isin([genre_1, genre_2])]\n",
        "dataset = dataset.drop_duplicates(subset=['Nombre']).reset_index(drop = True)\n",
        "dataset['Género'] = label_encoder.fit_transform(dataset['Género'])\n",
        "\n",
        "dataset"
      ],
      "metadata": {
        "id": "xv9bfad6XiG3"
      },
      "execution_count": null,
      "outputs": []
    },
    {
      "cell_type": "markdown",
      "source": [
        "Ahora entrena tu modelo ejecutando el siguiente fragmento sin hacer modificaciones al código, y observa el valor de su precisión:"
      ],
      "metadata": {
        "id": "SPKFCWPxbQQO"
      }
    },
    {
      "cell_type": "code",
      "source": [
        "# Se generan los conjuntos de entrenamiento y prueba.\n",
        "inputs = dataset[[attribute_1, attribute_2]]\n",
        "outputs = dataset['Género']\n",
        "x_train, x_test, y_train, y_test = train_test_split(inputs, outputs, test_size=0.2, random_state=42)\n",
        "\n",
        "# Se entrena el modelo.\n",
        "logisticRegr.fit(x_train, y_train)\n",
        "\n",
        "# Se calcula e imprime la precisión del modelo.\n",
        "y_pred = logisticRegr.predict(x_test)\n",
        "score = logisticRegr.score(x_test, y_test)\n",
        "\n",
        "print(\"La precisión del modelo es: \" + str(score))"
      ],
      "metadata": {
        "id": "022MueJdZFaG"
      },
      "execution_count": null,
      "outputs": []
    },
    {
      "cell_type": "markdown",
      "source": [
        "Por último, indaga en cómo luce la separación de clases ejecutando la siguiente celda:"
      ],
      "metadata": {
        "id": "WvR_V01jbazW"
      }
    },
    {
      "cell_type": "code",
      "source": [
        "# Se crea una malla de puntos en el plano.\n",
        "x_min, x_max = dataset[attribute_1].min() - 0.1, dataset[attribute_1].max() + 0.1\n",
        "y_min, y_max = dataset[attribute_2].min() - 0.1, dataset[attribute_2].max() + 0.1\n",
        "xx, yy = np.meshgrid(np.linspace(x_min, x_max, 2000), np.linspace(y_min, y_max, 2000))\n",
        "\n",
        "# Se obtienen las etiquetas para cada punto.\n",
        "labels = dataset['Género']\n",
        "\n",
        "# Se predicen las etiquetas de los puntos en la malla.\n",
        "Z = logisticRegr.predict(np.c_[xx.ravel(), yy.ravel()])\n",
        "Z = Z.reshape(xx.shape)\n",
        "\n",
        "# Se crea una lista de colores para cada punto.\n",
        "colors = ['blue' if label == 0 else 'red' for label in labels]\n",
        "\n",
        "# Se define el tamaño de la gráfica.\n",
        "plt.figure(figsize=(7, 7))\n",
        "\n",
        "# Se grafican los puntos y el límite de decisión.\n",
        "plt.scatter(dataset[attribute_1], dataset[attribute_2], c=colors)\n",
        "plt.contour(xx, yy, Z, levels=[0], colors='black', linewidths=2)\n",
        "\n",
        "# Se definen las leyendas de la gráfica.\n",
        "line1 = mlines.Line2D([], [], color='black', linewidth=3, label='Límite de decisión')\n",
        "red_circle = mlines.Line2D([], [], color='blue', marker='o', linestyle='None', markersize=7, label= genre_1)\n",
        "blue_circle = mlines.Line2D([], [], color='red', marker='o', linestyle='None', markersize=7, label= genre_2)\n",
        "\n",
        "# Se configuran las características de las leyendas.\n",
        "plt.legend(handles=[line1, red_circle, blue_circle], loc='center left', prop={'family': 'DejaVu Sans', 'weight': 'bold', 'size': 8}, frameon=True, framealpha=1, facecolor='#dddddd', shadow=True)\n",
        "\n",
        "# Se añaden títulos e información adicional.\n",
        "plt.title(\"Límite de decisión\", fontdict = {'family': 'DejaVu Sans', 'color':  'black', 'weight': 'bold', 'size': 14}, pad = 14)\n",
        "plt.xlabel(attribute_1, fontdict = {'family': 'DejaVu Sans', 'color':  'black', 'weight': 'bold', 'size': 10}, labelpad = 10)\n",
        "plt.ylabel(attribute_2, fontdict = {'family': 'DejaVu Sans', 'color':  'black', 'weight': 'bold', 'size': 10}, labelpad = 10)\n",
        "\n",
        "plt.show()"
      ],
      "metadata": {
        "id": "ys4Y7RCyaXSv"
      },
      "execution_count": null,
      "outputs": []
    },
    {
      "cell_type": "markdown",
      "source": [
        "¿Cuáles han sido tus resultados?, ¿encontraste alguna combinación linealmente separable? Compártenos tus resultados en los comentarios de la lección."
      ],
      "metadata": {
        "id": "WEocmxJZF9rw"
      }
    },
    {
      "cell_type": "markdown",
      "source": [
        "Con este ejercicio concluye esta práctica de regresión logística, recomiendo que tomes tu tiempo haciendo tus propios experimentos en el último apartado., y comprendiendo sus implicaciones.\n",
        "\n",
        "▶ [Regresar a la lección](https://dialektico.com/regresion-logistica-fundamentos/) 🧙"
      ],
      "metadata": {
        "id": "xvtJ6SCw8NGS"
      }
    },
    {
      "cell_type": "markdown",
      "source": [
        "<br>"
      ],
      "metadata": {
        "id": "UTy54ptc1ZxH"
      }
    },
    {
      "cell_type": "markdown",
      "source": [
        "# **Apéndice**"
      ],
      "metadata": {
        "id": "JZ0Cav9z9S4X"
      }
    },
    {
      "cell_type": "markdown",
      "source": [
        "## Conjunto de datos"
      ],
      "metadata": {
        "id": "P6isJ4yWWkFC"
      }
    },
    {
      "cell_type": "markdown",
      "source": [
        "Este conjunto de datos fue extraído por **Dialéktico** utilizando la **API** de **Spotify**, y fue almacenado en el repositorio de GitHub de [prácticas de Machine Learning](https://github.com/DanielDialektico/dialektico-machine-learning-practices/tree/main). Consta de 500 canciones y 9 atributos:"
      ],
      "metadata": {
        "id": "dwa_LMX7Wo1p"
      }
    },
    {
      "cell_type": "markdown",
      "source": [
        "**Género**: género musical al que pertenece la canción.\n",
        "\n",
        "**Nombre**: nombre de la canción.\n",
        "\n",
        "**Acústica**: medida de confianza de 0,0 a 1.0 de si la pista es acústica. 1.0 representa una alta confianza en que la pista es acústica.\n",
        "\n",
        "**Bailabilidad**: describe qué tan adecuada es una pista para bailar en función de una combinación de elementos musicales que incluyen tempo, estabilidad del ritmo, fuerza del ritmo y regularidad general. Un valor de 0,0 es menos bailable y 1.0 es más bailable.\n",
        "\n",
        "**Duración (ms)**: duración de la pista en milisegundos.\n",
        "\n",
        "**Energía**: medida de 0.0 a 1.0 que representa un grado perceptivo de intensidad y actividad. Por lo general, las pistas enérgicas se sienten rápidas, fuertes y ruidosas. Por ejemplo, el death metal tiene mucha energía, mientras que un preludio de Bach tiene una puntuación baja en la escala. Las características perceptivas que contribuyen a este atributo incluyen el rango dinámico, el volumen percibido, el timbre, la tasa de inicio y la entropía general.\n",
        "\n",
        "**Instrumentalidad**: predice si una pista no contiene voces. Los sonidos \"Ooh\" y \"aah\" se tratan como instrumentales en este contexto. Las pistas de rap o de palabras habladas son claramente \"vocales\". Cuanto más cerca esté el valor de instrumentalidad de 1.0, mayor será la probabilidad de que la pista no contenga contenido vocal. Los valores superiores a 0.5 pretenden representar pistas instrumentales, pero la confianza es mayor a medida que el valor se acerca a 1.0.\n",
        "\n",
        "**Sonoridad**: volumen general de una pista en decibelios (dB). Los valores de sonoridad se promedian en toda la pista y son útiles para comparar la sonoridad relativa de las pistas. El volumen es la cualidad de un sonido que es el principal correlato psicológico de la fuerza física (amplitud). Los valores suelen oscilar entre -60 y 0 db.\n",
        "\n",
        "**Tempo**: el tempo general estimado de una pista en pulsaciones por minuto (BPM). En terminología musical, el tempo es la velocidad o ritmo de una pieza dada y se deriva directamente de la duración promedio del tiempo.\n",
        "\n",
        "**Discursividad**: detecta la presencia de palabras habladas en una pista. Cuanto más se parece exclusivamente al habla la grabación (por ejemplo, programa de entrevistas, audiolibro, poesía), más cerca de 1.0 es el valor del atributo. Los valores superiores a 0.66 describen pistas que probablemente estén formadas en su totalidad por palabras habladas. Los valores entre 0.33 y 0.66 describen pistas que pueden contener tanto música como voz, ya sea en secciones o en capas, incluidos casos como la música rap. Los valores por debajo de 0.33 probablemente representen música y otras pistas que no sean de voz."
      ],
      "metadata": {
        "id": "8DKjVFuu9T63"
      }
    },
    {
      "cell_type": "code",
      "source": [
        "# Dialektico Machine learning practices © 2024 by Daniel Antonio García Escobar\n",
        "# is licensed under CC BY-NC 4.0. To view a copy of this license,\n",
        "# visit https://creativecommons.org/licenses/by-nc/4.0/\n",
        "\n",
        "# Creative Commons Attribution-NonCommercial-ShareAlike 4.0 International\n",
        "# Public License"
      ],
      "metadata": {
        "id": "urEbQFDotu-e"
      },
      "execution_count": null,
      "outputs": []
    }
  ]
}