{
  "nbformat": 4,
  "nbformat_minor": 0,
  "metadata": {
    "colab": {
      "provenance": [],
      "authorship_tag": "ABX9TyO4/IiM9IkRLs9l6OlPyIuv",
      "include_colab_link": true
    },
    "kernelspec": {
      "name": "python3",
      "display_name": "Python 3"
    },
    "language_info": {
      "name": "python"
    }
  },
  "cells": [
    {
      "cell_type": "markdown",
      "metadata": {
        "id": "view-in-github",
        "colab_type": "text"
      },
      "source": [
        "<a href=\"https://colab.research.google.com/github/DanielDialektico/dialektico-machine-learning-practices/blob/main/notebooks/Machine%20Learning/Aprendizaje%20Supervisado/M%C3%A9tricas_modelo_clasificaci%C3%B3n.ipynb\" target=\"_parent\"><img src=\"https://colab.research.google.com/assets/colab-badge.svg\" alt=\"Open In Colab\"/></a>"
      ]
    },
    {
      "cell_type": "markdown",
      "source": [
        "<img src=\"https://dialektico.com/wp-content/uploads/2023/03/MiniLogoW4.png\" alt=\"Dialéktico Logo\" />"
      ],
      "metadata": {
        "id": "ms6VNhA5VMKS"
      }
    },
    {
      "cell_type": "markdown",
      "source": [
        "# **Evaluación de modelos de clasificación 📑**"
      ],
      "metadata": {
        "id": "fW2xRDMsVQQy"
      }
    },
    {
      "cell_type": "markdown",
      "source": [
        "# **Introducción**"
      ],
      "metadata": {
        "id": "22eZjG8uVTi6"
      }
    },
    {
      "cell_type": "markdown",
      "source": [
        "En una [práctica anterior](https://colab.research.google.com/github/DanielDialektico/dialektico-machine-learning-practices/blob/main/notebooks/Machine%20Learning/Aprendizaje%20Supervisado/Regresi%C3%B3n_Log%C3%ADstica.ipynb), ya hemos entrenado un modelo de **regresión logística**, el cual fungió como un modelo clasificador de **canciones** en **géneros musicales** respecto a ciertas características. Ahora calcularemos el rendimiento del modelo basándonos en lo que hemos visto en nuestra travesía sobre [métricas para evaluación de modelos de clasificación](https://dialektico.com/metricas-modelos-clasificacion/).\n",
        "\n",
        "<br>\n",
        "<center><img src=\"https://dialektico.com/wp-content/uploads/2025/01/MEMC_Colab.png\" width=\"300\" /></center>"
      ],
      "metadata": {
        "id": "TIfdetXDVYJy"
      }
    },
    {
      "cell_type": "markdown",
      "source": [
        "<br>"
      ],
      "metadata": {
        "id": "LHAgeJWwXnHZ"
      }
    },
    {
      "cell_type": "markdown",
      "source": [
        "#**Objetivo**"
      ],
      "metadata": {
        "id": "kMJBHShvXkV6"
      }
    },
    {
      "cell_type": "markdown",
      "source": [
        "El objetivo de esta práctica es obtener valores de **métricas** de evaluación del modelo de clasificación que hemos entrenado anteriormente y analizar los resultados.\n",
        "\n",
        "Utilizaremos las siguientes mediciones:\n",
        "\n",
        "* Exactitud (accuracy).\n",
        "* Precisión (precision).\n",
        "* Sensibilidad (recall).\n",
        "* Puntaje F1 (F1 score).\n",
        "* Pérdida de entropía cruzada (cross entropy).\n",
        "\n",
        "Con estos valores determinaremos qué tan bueno es el modelo para realizar clasificaciones sobre el **conjunto de datos de prueba**.\n",
        "\n",
        "<br>\n",
        "<center><img src=\"https://dialektico.com/wp-content/uploads/2025/01/MEMC_Colab_obj.png\" width=\"400\" /></center>"
      ],
      "metadata": {
        "id": "bZV41gzkX3F5"
      }
    },
    {
      "cell_type": "markdown",
      "source": [
        "<br>"
      ],
      "metadata": {
        "id": "eXmuWJm2bGOZ"
      }
    },
    {
      "cell_type": "markdown",
      "source": [
        "#Preparación de datos y librerías"
      ],
      "metadata": {
        "id": "y7tgxFD1bFyB"
      }
    },
    {
      "cell_type": "markdown",
      "source": [
        "Dado que utilizaremos **conjuntos de datos** de una exploración pasada, nos traeremos los datos ya preprocesados de canciones y sus características.\n",
        "\n",
        "Primero, instalaremos e importaremos las librerías que utilizaremos."
      ],
      "metadata": {
        "id": "fnAl2CRrbJIp"
      }
    },
    {
      "cell_type": "markdown",
      "source": [
        "***Nota*:** *Las instalaciones se realizan a pesar de que algunas librerías ya están integradas de forma nativa en Colab, esto para asegurar que el Notebook no presente problemas de ejecución si se dan cambios en la sintaxis entre versiones de librerías.*"
      ],
      "metadata": {
        "id": "l7hoEI_1dw7w"
      }
    },
    {
      "cell_type": "code",
      "source": [
        "# Se instalan las librerías necesarias.\n",
        "!pip install pandas==2.2.2\n",
        "!pip install matplotlib==3.10.0\n",
        "!pip install mlektic==0.0.10"
      ],
      "metadata": {
        "colab": {
          "base_uri": "https://localhost:8080/"
        },
        "id": "Sby_14AlVTza",
        "outputId": "c6a3912b-a80f-4b48-faf2-e5bcba1c4f7a"
      },
      "execution_count": null,
      "outputs": [
        {
          "output_type": "stream",
          "name": "stdout",
          "text": [
            "Requirement already satisfied: pandas==2.2.2 in /usr/local/lib/python3.11/dist-packages (2.2.2)\n",
            "Requirement already satisfied: numpy>=1.23.2 in /usr/local/lib/python3.11/dist-packages (from pandas==2.2.2) (1.26.4)\n",
            "Requirement already satisfied: python-dateutil>=2.8.2 in /usr/local/lib/python3.11/dist-packages (from pandas==2.2.2) (2.8.2)\n",
            "Requirement already satisfied: pytz>=2020.1 in /usr/local/lib/python3.11/dist-packages (from pandas==2.2.2) (2024.2)\n",
            "Requirement already satisfied: tzdata>=2022.7 in /usr/local/lib/python3.11/dist-packages (from pandas==2.2.2) (2024.2)\n",
            "Requirement already satisfied: six>=1.5 in /usr/local/lib/python3.11/dist-packages (from python-dateutil>=2.8.2->pandas==2.2.2) (1.17.0)\n",
            "Requirement already satisfied: matplotlib==3.10.0 in /usr/local/lib/python3.11/dist-packages (3.10.0)\n",
            "Requirement already satisfied: contourpy>=1.0.1 in /usr/local/lib/python3.11/dist-packages (from matplotlib==3.10.0) (1.3.1)\n",
            "Requirement already satisfied: cycler>=0.10 in /usr/local/lib/python3.11/dist-packages (from matplotlib==3.10.0) (0.12.1)\n",
            "Requirement already satisfied: fonttools>=4.22.0 in /usr/local/lib/python3.11/dist-packages (from matplotlib==3.10.0) (4.55.3)\n",
            "Requirement already satisfied: kiwisolver>=1.3.1 in /usr/local/lib/python3.11/dist-packages (from matplotlib==3.10.0) (1.4.8)\n",
            "Requirement already satisfied: numpy>=1.23 in /usr/local/lib/python3.11/dist-packages (from matplotlib==3.10.0) (1.26.4)\n",
            "Requirement already satisfied: packaging>=20.0 in /usr/local/lib/python3.11/dist-packages (from matplotlib==3.10.0) (24.2)\n",
            "Requirement already satisfied: pillow>=8 in /usr/local/lib/python3.11/dist-packages (from matplotlib==3.10.0) (11.1.0)\n",
            "Requirement already satisfied: pyparsing>=2.3.1 in /usr/local/lib/python3.11/dist-packages (from matplotlib==3.10.0) (3.2.1)\n",
            "Requirement already satisfied: python-dateutil>=2.7 in /usr/local/lib/python3.11/dist-packages (from matplotlib==3.10.0) (2.8.2)\n",
            "Requirement already satisfied: six>=1.5 in /usr/local/lib/python3.11/dist-packages (from python-dateutil>=2.7->matplotlib==3.10.0) (1.17.0)\n",
            "Requirement already satisfied: mlektic==0.0.10 in /usr/local/lib/python3.11/dist-packages (0.0.10)\n",
            "Requirement already satisfied: numpy>=1.24.3 in /usr/local/lib/python3.11/dist-packages (from mlektic==0.0.10) (1.26.4)\n",
            "Requirement already satisfied: pandas>=2.1.4 in /usr/local/lib/python3.11/dist-packages (from mlektic==0.0.10) (2.2.2)\n",
            "Requirement already satisfied: polars>=0.20.2 in /usr/local/lib/python3.11/dist-packages (from mlektic==0.0.10) (1.9.0)\n",
            "Requirement already satisfied: scikit_learn>=1.3.0 in /usr/local/lib/python3.11/dist-packages (from mlektic==0.0.10) (1.6.0)\n",
            "Requirement already satisfied: tensorflow>=2.17.0 in /usr/local/lib/python3.11/dist-packages (from mlektic==0.0.10) (2.17.1)\n",
            "Requirement already satisfied: matplotlib>=3.7.1 in /usr/local/lib/python3.11/dist-packages (from mlektic==0.0.10) (3.10.0)\n",
            "Requirement already satisfied: ipython>=7.34.0 in /usr/local/lib/python3.11/dist-packages (from mlektic==0.0.10) (7.34.0)\n",
            "Requirement already satisfied: jedi==0.17.2 in /usr/local/lib/python3.11/dist-packages (from mlektic==0.0.10) (0.17.2)\n",
            "Requirement already satisfied: bottleneck>=1.3.6 in /usr/local/lib/python3.11/dist-packages (from mlektic==0.0.10) (1.4.2)\n",
            "Requirement already satisfied: parso<0.8.0,>=0.7.0 in /usr/local/lib/python3.11/dist-packages (from jedi==0.17.2->mlektic==0.0.10) (0.7.1)\n",
            "Requirement already satisfied: setuptools>=18.5 in /usr/local/lib/python3.11/dist-packages (from ipython>=7.34.0->mlektic==0.0.10) (75.1.0)\n",
            "Requirement already satisfied: decorator in /usr/local/lib/python3.11/dist-packages (from ipython>=7.34.0->mlektic==0.0.10) (4.4.2)\n",
            "Requirement already satisfied: pickleshare in /usr/local/lib/python3.11/dist-packages (from ipython>=7.34.0->mlektic==0.0.10) (0.7.5)\n",
            "Requirement already satisfied: traitlets>=4.2 in /usr/local/lib/python3.11/dist-packages (from ipython>=7.34.0->mlektic==0.0.10) (5.7.1)\n",
            "Requirement already satisfied: prompt-toolkit!=3.0.0,!=3.0.1,<3.1.0,>=2.0.0 in /usr/local/lib/python3.11/dist-packages (from ipython>=7.34.0->mlektic==0.0.10) (3.0.48)\n",
            "Requirement already satisfied: pygments in /usr/local/lib/python3.11/dist-packages (from ipython>=7.34.0->mlektic==0.0.10) (2.18.0)\n",
            "Requirement already satisfied: backcall in /usr/local/lib/python3.11/dist-packages (from ipython>=7.34.0->mlektic==0.0.10) (0.2.0)\n",
            "Requirement already satisfied: matplotlib-inline in /usr/local/lib/python3.11/dist-packages (from ipython>=7.34.0->mlektic==0.0.10) (0.1.7)\n",
            "Requirement already satisfied: pexpect>4.3 in /usr/local/lib/python3.11/dist-packages (from ipython>=7.34.0->mlektic==0.0.10) (4.9.0)\n",
            "Requirement already satisfied: contourpy>=1.0.1 in /usr/local/lib/python3.11/dist-packages (from matplotlib>=3.7.1->mlektic==0.0.10) (1.3.1)\n",
            "Requirement already satisfied: cycler>=0.10 in /usr/local/lib/python3.11/dist-packages (from matplotlib>=3.7.1->mlektic==0.0.10) (0.12.1)\n",
            "Requirement already satisfied: fonttools>=4.22.0 in /usr/local/lib/python3.11/dist-packages (from matplotlib>=3.7.1->mlektic==0.0.10) (4.55.3)\n",
            "Requirement already satisfied: kiwisolver>=1.3.1 in /usr/local/lib/python3.11/dist-packages (from matplotlib>=3.7.1->mlektic==0.0.10) (1.4.8)\n",
            "Requirement already satisfied: packaging>=20.0 in /usr/local/lib/python3.11/dist-packages (from matplotlib>=3.7.1->mlektic==0.0.10) (24.2)\n",
            "Requirement already satisfied: pillow>=8 in /usr/local/lib/python3.11/dist-packages (from matplotlib>=3.7.1->mlektic==0.0.10) (11.1.0)\n",
            "Requirement already satisfied: pyparsing>=2.3.1 in /usr/local/lib/python3.11/dist-packages (from matplotlib>=3.7.1->mlektic==0.0.10) (3.2.1)\n",
            "Requirement already satisfied: python-dateutil>=2.7 in /usr/local/lib/python3.11/dist-packages (from matplotlib>=3.7.1->mlektic==0.0.10) (2.8.2)\n",
            "Requirement already satisfied: pytz>=2020.1 in /usr/local/lib/python3.11/dist-packages (from pandas>=2.1.4->mlektic==0.0.10) (2024.2)\n",
            "Requirement already satisfied: tzdata>=2022.7 in /usr/local/lib/python3.11/dist-packages (from pandas>=2.1.4->mlektic==0.0.10) (2024.2)\n",
            "Requirement already satisfied: scipy>=1.6.0 in /usr/local/lib/python3.11/dist-packages (from scikit_learn>=1.3.0->mlektic==0.0.10) (1.13.1)\n",
            "Requirement already satisfied: joblib>=1.2.0 in /usr/local/lib/python3.11/dist-packages (from scikit_learn>=1.3.0->mlektic==0.0.10) (1.4.2)\n",
            "Requirement already satisfied: threadpoolctl>=3.1.0 in /usr/local/lib/python3.11/dist-packages (from scikit_learn>=1.3.0->mlektic==0.0.10) (3.5.0)\n",
            "Requirement already satisfied: absl-py>=1.0.0 in /usr/local/lib/python3.11/dist-packages (from tensorflow>=2.17.0->mlektic==0.0.10) (1.4.0)\n",
            "Requirement already satisfied: astunparse>=1.6.0 in /usr/local/lib/python3.11/dist-packages (from tensorflow>=2.17.0->mlektic==0.0.10) (1.6.3)\n",
            "Requirement already satisfied: flatbuffers>=24.3.25 in /usr/local/lib/python3.11/dist-packages (from tensorflow>=2.17.0->mlektic==0.0.10) (24.12.23)\n",
            "Requirement already satisfied: gast!=0.5.0,!=0.5.1,!=0.5.2,>=0.2.1 in /usr/local/lib/python3.11/dist-packages (from tensorflow>=2.17.0->mlektic==0.0.10) (0.6.0)\n",
            "Requirement already satisfied: google-pasta>=0.1.1 in /usr/local/lib/python3.11/dist-packages (from tensorflow>=2.17.0->mlektic==0.0.10) (0.2.0)\n",
            "Requirement already satisfied: h5py>=3.10.0 in /usr/local/lib/python3.11/dist-packages (from tensorflow>=2.17.0->mlektic==0.0.10) (3.12.1)\n",
            "Requirement already satisfied: libclang>=13.0.0 in /usr/local/lib/python3.11/dist-packages (from tensorflow>=2.17.0->mlektic==0.0.10) (18.1.1)\n",
            "Requirement already satisfied: ml-dtypes<0.5.0,>=0.3.1 in /usr/local/lib/python3.11/dist-packages (from tensorflow>=2.17.0->mlektic==0.0.10) (0.4.1)\n",
            "Requirement already satisfied: opt-einsum>=2.3.2 in /usr/local/lib/python3.11/dist-packages (from tensorflow>=2.17.0->mlektic==0.0.10) (3.4.0)\n",
            "Requirement already satisfied: protobuf!=4.21.0,!=4.21.1,!=4.21.2,!=4.21.3,!=4.21.4,!=4.21.5,<5.0.0dev,>=3.20.3 in /usr/local/lib/python3.11/dist-packages (from tensorflow>=2.17.0->mlektic==0.0.10) (4.25.5)\n",
            "Requirement already satisfied: requests<3,>=2.21.0 in /usr/local/lib/python3.11/dist-packages (from tensorflow>=2.17.0->mlektic==0.0.10) (2.32.3)\n",
            "Requirement already satisfied: six>=1.12.0 in /usr/local/lib/python3.11/dist-packages (from tensorflow>=2.17.0->mlektic==0.0.10) (1.17.0)\n",
            "Requirement already satisfied: termcolor>=1.1.0 in /usr/local/lib/python3.11/dist-packages (from tensorflow>=2.17.0->mlektic==0.0.10) (2.5.0)\n",
            "Requirement already satisfied: typing-extensions>=3.6.6 in /usr/local/lib/python3.11/dist-packages (from tensorflow>=2.17.0->mlektic==0.0.10) (4.12.2)\n",
            "Requirement already satisfied: wrapt>=1.11.0 in /usr/local/lib/python3.11/dist-packages (from tensorflow>=2.17.0->mlektic==0.0.10) (1.17.0)\n",
            "Requirement already satisfied: grpcio<2.0,>=1.24.3 in /usr/local/lib/python3.11/dist-packages (from tensorflow>=2.17.0->mlektic==0.0.10) (1.69.0)\n",
            "Requirement already satisfied: tensorboard<2.18,>=2.17 in /usr/local/lib/python3.11/dist-packages (from tensorflow>=2.17.0->mlektic==0.0.10) (2.17.1)\n",
            "Requirement already satisfied: keras>=3.2.0 in /usr/local/lib/python3.11/dist-packages (from tensorflow>=2.17.0->mlektic==0.0.10) (3.5.0)\n",
            "Requirement already satisfied: tensorflow-io-gcs-filesystem>=0.23.1 in /usr/local/lib/python3.11/dist-packages (from tensorflow>=2.17.0->mlektic==0.0.10) (0.37.1)\n",
            "Requirement already satisfied: wheel<1.0,>=0.23.0 in /usr/local/lib/python3.11/dist-packages (from astunparse>=1.6.0->tensorflow>=2.17.0->mlektic==0.0.10) (0.45.1)\n",
            "Requirement already satisfied: rich in /usr/local/lib/python3.11/dist-packages (from keras>=3.2.0->tensorflow>=2.17.0->mlektic==0.0.10) (13.9.4)\n",
            "Requirement already satisfied: namex in /usr/local/lib/python3.11/dist-packages (from keras>=3.2.0->tensorflow>=2.17.0->mlektic==0.0.10) (0.0.8)\n",
            "Requirement already satisfied: optree in /usr/local/lib/python3.11/dist-packages (from keras>=3.2.0->tensorflow>=2.17.0->mlektic==0.0.10) (0.13.1)\n",
            "Requirement already satisfied: ptyprocess>=0.5 in /usr/local/lib/python3.11/dist-packages (from pexpect>4.3->ipython>=7.34.0->mlektic==0.0.10) (0.7.0)\n",
            "Requirement already satisfied: wcwidth in /usr/local/lib/python3.11/dist-packages (from prompt-toolkit!=3.0.0,!=3.0.1,<3.1.0,>=2.0.0->ipython>=7.34.0->mlektic==0.0.10) (0.2.13)\n",
            "Requirement already satisfied: charset-normalizer<4,>=2 in /usr/local/lib/python3.11/dist-packages (from requests<3,>=2.21.0->tensorflow>=2.17.0->mlektic==0.0.10) (3.4.1)\n",
            "Requirement already satisfied: idna<4,>=2.5 in /usr/local/lib/python3.11/dist-packages (from requests<3,>=2.21.0->tensorflow>=2.17.0->mlektic==0.0.10) (3.10)\n",
            "Requirement already satisfied: urllib3<3,>=1.21.1 in /usr/local/lib/python3.11/dist-packages (from requests<3,>=2.21.0->tensorflow>=2.17.0->mlektic==0.0.10) (2.3.0)\n",
            "Requirement already satisfied: certifi>=2017.4.17 in /usr/local/lib/python3.11/dist-packages (from requests<3,>=2.21.0->tensorflow>=2.17.0->mlektic==0.0.10) (2024.12.14)\n",
            "Requirement already satisfied: markdown>=2.6.8 in /usr/local/lib/python3.11/dist-packages (from tensorboard<2.18,>=2.17->tensorflow>=2.17.0->mlektic==0.0.10) (3.7)\n",
            "Requirement already satisfied: tensorboard-data-server<0.8.0,>=0.7.0 in /usr/local/lib/python3.11/dist-packages (from tensorboard<2.18,>=2.17->tensorflow>=2.17.0->mlektic==0.0.10) (0.7.2)\n",
            "Requirement already satisfied: werkzeug>=1.0.1 in /usr/local/lib/python3.11/dist-packages (from tensorboard<2.18,>=2.17->tensorflow>=2.17.0->mlektic==0.0.10) (3.1.3)\n",
            "Requirement already satisfied: MarkupSafe>=2.1.1 in /usr/local/lib/python3.11/dist-packages (from werkzeug>=1.0.1->tensorboard<2.18,>=2.17->tensorflow>=2.17.0->mlektic==0.0.10) (3.0.2)\n",
            "Requirement already satisfied: markdown-it-py>=2.2.0 in /usr/local/lib/python3.11/dist-packages (from rich->keras>=3.2.0->tensorflow>=2.17.0->mlektic==0.0.10) (3.0.0)\n",
            "Requirement already satisfied: mdurl~=0.1 in /usr/local/lib/python3.11/dist-packages (from markdown-it-py>=2.2.0->rich->keras>=3.2.0->tensorflow>=2.17.0->mlektic==0.0.10) (0.1.2)\n"
          ]
        }
      ]
    },
    {
      "cell_type": "markdown",
      "source": [
        "Se importan las librerías y se establecen configuraciones adicionales:"
      ],
      "metadata": {
        "id": "E61x-fZ7jwQ7"
      }
    },
    {
      "cell_type": "code",
      "source": [
        "# Se importan las librerías.\n",
        "from mlektic.logistic_reg import LogisticRegressionArcht\n",
        "from mlektic import preprocessing\n",
        "import pandas as pd\n",
        "import matplotlib.pyplot as plt\n",
        "import numpy as np\n",
        "import warnings\n",
        "\n",
        "# Se filtran las advertencias.\n",
        "warnings.filterwarnings('ignore')\n",
        "\n",
        "# Se define el estilo de las gráficas.\n",
        "plt.style.use('seaborn-v0_8-whitegrid')\n",
        "\n",
        "# Se define el despliegue de flotantes en dataframes.\n",
        "pd.options.display.float_format = '{:.2f}'.format"
      ],
      "metadata": {
        "id": "9BmOjSybfTMY"
      },
      "execution_count": null,
      "outputs": []
    },
    {
      "cell_type": "markdown",
      "source": [
        "Como ya he mencionado con antelación, una de las librerías instaladas, y que utilizaremos para **entrenar** y **evaluar** los modelos, es la **librería** [mlektic](https://github.com/DanielDialektico/mlektic) que he desarrollado personalmente para este curso, y que estaremos usando ocasionalmente para aprender conceptos clave de **machine learning**. Sin embargo, considera que estas tareas se pueden realizar con otras librerías que veremos poco a poco a lo largo del curso (en nuestras experiencias pasadas, utilizamos [Sklearn](https://scikit-learn.org/stable/), la cual recomiendo mucho aprender a utilizar, y que estaremos invocando más adelante)."
      ],
      "metadata": {
        "id": "IfLWLUmxgCSI"
      }
    },
    {
      "cell_type": "markdown",
      "source": [
        "Ahora cargamos el conjunto de datos de canciones:"
      ],
      "metadata": {
        "id": "63T8VLZXgTHw"
      }
    },
    {
      "cell_type": "code",
      "source": [
        "dataset = pd.read_csv('https://github.com/DanielDialektico/dialektico-machine-learning-practices/raw/refs/heads/main/data/Spotify_genres_prep.csv', encoding='latin1')\n",
        "dataset"
      ],
      "metadata": {
        "colab": {
          "base_uri": "https://localhost:8080/",
          "height": 424
        },
        "id": "vZekqrpYf60h",
        "outputId": "a97d46a9-d06c-48f4-ac8b-ff722b2de1dd"
      },
      "execution_count": null,
      "outputs": [
        {
          "output_type": "execute_result",
          "data": {
            "text/plain": [
              "                     Nombre  Bailabilidad  Energía  Género\n",
              "0                       TQG          0.72     0.63       1\n",
              "1           Me Porto Bonito          0.91     0.71       1\n",
              "2          Tití Me Preguntó          0.65     0.71       1\n",
              "3                    Chanel          0.85     0.68       1\n",
              "4                Classy 101          0.86     0.66       1\n",
              "..                      ...           ...      ...     ...\n",
              "85               Deathcrush          0.22     0.91       0\n",
              "86                     FTBS          0.27     0.91       0\n",
              "87  Stress Builds Character          0.29     0.78       0\n",
              "88          Fear of Failure          0.25     0.92       0\n",
              "89         Deathmask Divine          0.43     0.98       0\n",
              "\n",
              "[90 rows x 4 columns]"
            ],
            "text/html": [
              "\n",
              "  <div id=\"df-af92af02-ff75-4c49-820f-9bc5d40662b2\" class=\"colab-df-container\">\n",
              "    <div>\n",
              "<style scoped>\n",
              "    .dataframe tbody tr th:only-of-type {\n",
              "        vertical-align: middle;\n",
              "    }\n",
              "\n",
              "    .dataframe tbody tr th {\n",
              "        vertical-align: top;\n",
              "    }\n",
              "\n",
              "    .dataframe thead th {\n",
              "        text-align: right;\n",
              "    }\n",
              "</style>\n",
              "<table border=\"1\" class=\"dataframe\">\n",
              "  <thead>\n",
              "    <tr style=\"text-align: right;\">\n",
              "      <th></th>\n",
              "      <th>Nombre</th>\n",
              "      <th>Bailabilidad</th>\n",
              "      <th>Energía</th>\n",
              "      <th>Género</th>\n",
              "    </tr>\n",
              "  </thead>\n",
              "  <tbody>\n",
              "    <tr>\n",
              "      <th>0</th>\n",
              "      <td>TQG</td>\n",
              "      <td>0.72</td>\n",
              "      <td>0.63</td>\n",
              "      <td>1</td>\n",
              "    </tr>\n",
              "    <tr>\n",
              "      <th>1</th>\n",
              "      <td>Me Porto Bonito</td>\n",
              "      <td>0.91</td>\n",
              "      <td>0.71</td>\n",
              "      <td>1</td>\n",
              "    </tr>\n",
              "    <tr>\n",
              "      <th>2</th>\n",
              "      <td>Tití Me Preguntó</td>\n",
              "      <td>0.65</td>\n",
              "      <td>0.71</td>\n",
              "      <td>1</td>\n",
              "    </tr>\n",
              "    <tr>\n",
              "      <th>3</th>\n",
              "      <td>Chanel</td>\n",
              "      <td>0.85</td>\n",
              "      <td>0.68</td>\n",
              "      <td>1</td>\n",
              "    </tr>\n",
              "    <tr>\n",
              "      <th>4</th>\n",
              "      <td>Classy 101</td>\n",
              "      <td>0.86</td>\n",
              "      <td>0.66</td>\n",
              "      <td>1</td>\n",
              "    </tr>\n",
              "    <tr>\n",
              "      <th>...</th>\n",
              "      <td>...</td>\n",
              "      <td>...</td>\n",
              "      <td>...</td>\n",
              "      <td>...</td>\n",
              "    </tr>\n",
              "    <tr>\n",
              "      <th>85</th>\n",
              "      <td>Deathcrush</td>\n",
              "      <td>0.22</td>\n",
              "      <td>0.91</td>\n",
              "      <td>0</td>\n",
              "    </tr>\n",
              "    <tr>\n",
              "      <th>86</th>\n",
              "      <td>FTBS</td>\n",
              "      <td>0.27</td>\n",
              "      <td>0.91</td>\n",
              "      <td>0</td>\n",
              "    </tr>\n",
              "    <tr>\n",
              "      <th>87</th>\n",
              "      <td>Stress Builds Character</td>\n",
              "      <td>0.29</td>\n",
              "      <td>0.78</td>\n",
              "      <td>0</td>\n",
              "    </tr>\n",
              "    <tr>\n",
              "      <th>88</th>\n",
              "      <td>Fear of Failure</td>\n",
              "      <td>0.25</td>\n",
              "      <td>0.92</td>\n",
              "      <td>0</td>\n",
              "    </tr>\n",
              "    <tr>\n",
              "      <th>89</th>\n",
              "      <td>Deathmask Divine</td>\n",
              "      <td>0.43</td>\n",
              "      <td>0.98</td>\n",
              "      <td>0</td>\n",
              "    </tr>\n",
              "  </tbody>\n",
              "</table>\n",
              "<p>90 rows × 4 columns</p>\n",
              "</div>\n",
              "    <div class=\"colab-df-buttons\">\n",
              "\n",
              "  <div class=\"colab-df-container\">\n",
              "    <button class=\"colab-df-convert\" onclick=\"convertToInteractive('df-af92af02-ff75-4c49-820f-9bc5d40662b2')\"\n",
              "            title=\"Convert this dataframe to an interactive table.\"\n",
              "            style=\"display:none;\">\n",
              "\n",
              "  <svg xmlns=\"http://www.w3.org/2000/svg\" height=\"24px\" viewBox=\"0 -960 960 960\">\n",
              "    <path d=\"M120-120v-720h720v720H120Zm60-500h600v-160H180v160Zm220 220h160v-160H400v160Zm0 220h160v-160H400v160ZM180-400h160v-160H180v160Zm440 0h160v-160H620v160ZM180-180h160v-160H180v160Zm440 0h160v-160H620v160Z\"/>\n",
              "  </svg>\n",
              "    </button>\n",
              "\n",
              "  <style>\n",
              "    .colab-df-container {\n",
              "      display:flex;\n",
              "      gap: 12px;\n",
              "    }\n",
              "\n",
              "    .colab-df-convert {\n",
              "      background-color: #E8F0FE;\n",
              "      border: none;\n",
              "      border-radius: 50%;\n",
              "      cursor: pointer;\n",
              "      display: none;\n",
              "      fill: #1967D2;\n",
              "      height: 32px;\n",
              "      padding: 0 0 0 0;\n",
              "      width: 32px;\n",
              "    }\n",
              "\n",
              "    .colab-df-convert:hover {\n",
              "      background-color: #E2EBFA;\n",
              "      box-shadow: 0px 1px 2px rgba(60, 64, 67, 0.3), 0px 1px 3px 1px rgba(60, 64, 67, 0.15);\n",
              "      fill: #174EA6;\n",
              "    }\n",
              "\n",
              "    .colab-df-buttons div {\n",
              "      margin-bottom: 4px;\n",
              "    }\n",
              "\n",
              "    [theme=dark] .colab-df-convert {\n",
              "      background-color: #3B4455;\n",
              "      fill: #D2E3FC;\n",
              "    }\n",
              "\n",
              "    [theme=dark] .colab-df-convert:hover {\n",
              "      background-color: #434B5C;\n",
              "      box-shadow: 0px 1px 3px 1px rgba(0, 0, 0, 0.15);\n",
              "      filter: drop-shadow(0px 1px 2px rgba(0, 0, 0, 0.3));\n",
              "      fill: #FFFFFF;\n",
              "    }\n",
              "  </style>\n",
              "\n",
              "    <script>\n",
              "      const buttonEl =\n",
              "        document.querySelector('#df-af92af02-ff75-4c49-820f-9bc5d40662b2 button.colab-df-convert');\n",
              "      buttonEl.style.display =\n",
              "        google.colab.kernel.accessAllowed ? 'block' : 'none';\n",
              "\n",
              "      async function convertToInteractive(key) {\n",
              "        const element = document.querySelector('#df-af92af02-ff75-4c49-820f-9bc5d40662b2');\n",
              "        const dataTable =\n",
              "          await google.colab.kernel.invokeFunction('convertToInteractive',\n",
              "                                                    [key], {});\n",
              "        if (!dataTable) return;\n",
              "\n",
              "        const docLinkHtml = 'Like what you see? Visit the ' +\n",
              "          '<a target=\"_blank\" href=https://colab.research.google.com/notebooks/data_table.ipynb>data table notebook</a>'\n",
              "          + ' to learn more about interactive tables.';\n",
              "        element.innerHTML = '';\n",
              "        dataTable['output_type'] = 'display_data';\n",
              "        await google.colab.output.renderOutput(dataTable, element);\n",
              "        const docLink = document.createElement('div');\n",
              "        docLink.innerHTML = docLinkHtml;\n",
              "        element.appendChild(docLink);\n",
              "      }\n",
              "    </script>\n",
              "  </div>\n",
              "\n",
              "\n",
              "<div id=\"df-e0c52c48-4836-48b7-952d-5f795554c2e5\">\n",
              "  <button class=\"colab-df-quickchart\" onclick=\"quickchart('df-e0c52c48-4836-48b7-952d-5f795554c2e5')\"\n",
              "            title=\"Suggest charts\"\n",
              "            style=\"display:none;\">\n",
              "\n",
              "<svg xmlns=\"http://www.w3.org/2000/svg\" height=\"24px\"viewBox=\"0 0 24 24\"\n",
              "     width=\"24px\">\n",
              "    <g>\n",
              "        <path d=\"M19 3H5c-1.1 0-2 .9-2 2v14c0 1.1.9 2 2 2h14c1.1 0 2-.9 2-2V5c0-1.1-.9-2-2-2zM9 17H7v-7h2v7zm4 0h-2V7h2v10zm4 0h-2v-4h2v4z\"/>\n",
              "    </g>\n",
              "</svg>\n",
              "  </button>\n",
              "\n",
              "<style>\n",
              "  .colab-df-quickchart {\n",
              "      --bg-color: #E8F0FE;\n",
              "      --fill-color: #1967D2;\n",
              "      --hover-bg-color: #E2EBFA;\n",
              "      --hover-fill-color: #174EA6;\n",
              "      --disabled-fill-color: #AAA;\n",
              "      --disabled-bg-color: #DDD;\n",
              "  }\n",
              "\n",
              "  [theme=dark] .colab-df-quickchart {\n",
              "      --bg-color: #3B4455;\n",
              "      --fill-color: #D2E3FC;\n",
              "      --hover-bg-color: #434B5C;\n",
              "      --hover-fill-color: #FFFFFF;\n",
              "      --disabled-bg-color: #3B4455;\n",
              "      --disabled-fill-color: #666;\n",
              "  }\n",
              "\n",
              "  .colab-df-quickchart {\n",
              "    background-color: var(--bg-color);\n",
              "    border: none;\n",
              "    border-radius: 50%;\n",
              "    cursor: pointer;\n",
              "    display: none;\n",
              "    fill: var(--fill-color);\n",
              "    height: 32px;\n",
              "    padding: 0;\n",
              "    width: 32px;\n",
              "  }\n",
              "\n",
              "  .colab-df-quickchart:hover {\n",
              "    background-color: var(--hover-bg-color);\n",
              "    box-shadow: 0 1px 2px rgba(60, 64, 67, 0.3), 0 1px 3px 1px rgba(60, 64, 67, 0.15);\n",
              "    fill: var(--button-hover-fill-color);\n",
              "  }\n",
              "\n",
              "  .colab-df-quickchart-complete:disabled,\n",
              "  .colab-df-quickchart-complete:disabled:hover {\n",
              "    background-color: var(--disabled-bg-color);\n",
              "    fill: var(--disabled-fill-color);\n",
              "    box-shadow: none;\n",
              "  }\n",
              "\n",
              "  .colab-df-spinner {\n",
              "    border: 2px solid var(--fill-color);\n",
              "    border-color: transparent;\n",
              "    border-bottom-color: var(--fill-color);\n",
              "    animation:\n",
              "      spin 1s steps(1) infinite;\n",
              "  }\n",
              "\n",
              "  @keyframes spin {\n",
              "    0% {\n",
              "      border-color: transparent;\n",
              "      border-bottom-color: var(--fill-color);\n",
              "      border-left-color: var(--fill-color);\n",
              "    }\n",
              "    20% {\n",
              "      border-color: transparent;\n",
              "      border-left-color: var(--fill-color);\n",
              "      border-top-color: var(--fill-color);\n",
              "    }\n",
              "    30% {\n",
              "      border-color: transparent;\n",
              "      border-left-color: var(--fill-color);\n",
              "      border-top-color: var(--fill-color);\n",
              "      border-right-color: var(--fill-color);\n",
              "    }\n",
              "    40% {\n",
              "      border-color: transparent;\n",
              "      border-right-color: var(--fill-color);\n",
              "      border-top-color: var(--fill-color);\n",
              "    }\n",
              "    60% {\n",
              "      border-color: transparent;\n",
              "      border-right-color: var(--fill-color);\n",
              "    }\n",
              "    80% {\n",
              "      border-color: transparent;\n",
              "      border-right-color: var(--fill-color);\n",
              "      border-bottom-color: var(--fill-color);\n",
              "    }\n",
              "    90% {\n",
              "      border-color: transparent;\n",
              "      border-bottom-color: var(--fill-color);\n",
              "    }\n",
              "  }\n",
              "</style>\n",
              "\n",
              "  <script>\n",
              "    async function quickchart(key) {\n",
              "      const quickchartButtonEl =\n",
              "        document.querySelector('#' + key + ' button');\n",
              "      quickchartButtonEl.disabled = true;  // To prevent multiple clicks.\n",
              "      quickchartButtonEl.classList.add('colab-df-spinner');\n",
              "      try {\n",
              "        const charts = await google.colab.kernel.invokeFunction(\n",
              "            'suggestCharts', [key], {});\n",
              "      } catch (error) {\n",
              "        console.error('Error during call to suggestCharts:', error);\n",
              "      }\n",
              "      quickchartButtonEl.classList.remove('colab-df-spinner');\n",
              "      quickchartButtonEl.classList.add('colab-df-quickchart-complete');\n",
              "    }\n",
              "    (() => {\n",
              "      let quickchartButtonEl =\n",
              "        document.querySelector('#df-e0c52c48-4836-48b7-952d-5f795554c2e5 button');\n",
              "      quickchartButtonEl.style.display =\n",
              "        google.colab.kernel.accessAllowed ? 'block' : 'none';\n",
              "    })();\n",
              "  </script>\n",
              "</div>\n",
              "\n",
              "  <div id=\"id_03dc3195-4745-48c7-9e7d-8249537ecf06\">\n",
              "    <style>\n",
              "      .colab-df-generate {\n",
              "        background-color: #E8F0FE;\n",
              "        border: none;\n",
              "        border-radius: 50%;\n",
              "        cursor: pointer;\n",
              "        display: none;\n",
              "        fill: #1967D2;\n",
              "        height: 32px;\n",
              "        padding: 0 0 0 0;\n",
              "        width: 32px;\n",
              "      }\n",
              "\n",
              "      .colab-df-generate:hover {\n",
              "        background-color: #E2EBFA;\n",
              "        box-shadow: 0px 1px 2px rgba(60, 64, 67, 0.3), 0px 1px 3px 1px rgba(60, 64, 67, 0.15);\n",
              "        fill: #174EA6;\n",
              "      }\n",
              "\n",
              "      [theme=dark] .colab-df-generate {\n",
              "        background-color: #3B4455;\n",
              "        fill: #D2E3FC;\n",
              "      }\n",
              "\n",
              "      [theme=dark] .colab-df-generate:hover {\n",
              "        background-color: #434B5C;\n",
              "        box-shadow: 0px 1px 3px 1px rgba(0, 0, 0, 0.15);\n",
              "        filter: drop-shadow(0px 1px 2px rgba(0, 0, 0, 0.3));\n",
              "        fill: #FFFFFF;\n",
              "      }\n",
              "    </style>\n",
              "    <button class=\"colab-df-generate\" onclick=\"generateWithVariable('dataset')\"\n",
              "            title=\"Generate code using this dataframe.\"\n",
              "            style=\"display:none;\">\n",
              "\n",
              "  <svg xmlns=\"http://www.w3.org/2000/svg\" height=\"24px\"viewBox=\"0 0 24 24\"\n",
              "       width=\"24px\">\n",
              "    <path d=\"M7,19H8.4L18.45,9,17,7.55,7,17.6ZM5,21V16.75L18.45,3.32a2,2,0,0,1,2.83,0l1.4,1.43a1.91,1.91,0,0,1,.58,1.4,1.91,1.91,0,0,1-.58,1.4L9.25,21ZM18.45,9,17,7.55Zm-12,3A5.31,5.31,0,0,0,4.9,8.1,5.31,5.31,0,0,0,1,6.5,5.31,5.31,0,0,0,4.9,4.9,5.31,5.31,0,0,0,6.5,1,5.31,5.31,0,0,0,8.1,4.9,5.31,5.31,0,0,0,12,6.5,5.46,5.46,0,0,0,6.5,12Z\"/>\n",
              "  </svg>\n",
              "    </button>\n",
              "    <script>\n",
              "      (() => {\n",
              "      const buttonEl =\n",
              "        document.querySelector('#id_03dc3195-4745-48c7-9e7d-8249537ecf06 button.colab-df-generate');\n",
              "      buttonEl.style.display =\n",
              "        google.colab.kernel.accessAllowed ? 'block' : 'none';\n",
              "\n",
              "      buttonEl.onclick = () => {\n",
              "        google.colab.notebook.generateWithVariable('dataset');\n",
              "      }\n",
              "      })();\n",
              "    </script>\n",
              "  </div>\n",
              "\n",
              "    </div>\n",
              "  </div>\n"
            ],
            "application/vnd.google.colaboratory.intrinsic+json": {
              "type": "dataframe",
              "variable_name": "dataset",
              "summary": "{\n  \"name\": \"dataset\",\n  \"rows\": 90,\n  \"fields\": [\n    {\n      \"column\": \"Nombre\",\n      \"properties\": {\n        \"dtype\": \"string\",\n        \"num_unique_values\": 90,\n        \"samples\": [\n          \"BESTIES\",\n          \"AMARGURA\",\n          \"Leech\"\n        ],\n        \"semantic_type\": \"\",\n        \"description\": \"\"\n      }\n    },\n    {\n      \"column\": \"Bailabilidad\",\n      \"properties\": {\n        \"dtype\": \"number\",\n        \"std\": 0.24834789063232068,\n        \"min\": 0.1,\n        \"max\": 0.957,\n        \"num_unique_values\": 84,\n        \"samples\": [\n          0.437,\n          0.72,\n          0.392\n        ],\n        \"semantic_type\": \"\",\n        \"description\": \"\"\n      }\n    },\n    {\n      \"column\": \"Energ\\u00eda\",\n      \"properties\": {\n        \"dtype\": \"number\",\n        \"std\": 0.14365525428919704,\n        \"min\": 0.45,\n        \"max\": 0.991,\n        \"num_unique_values\": 80,\n        \"samples\": [\n          0.797,\n          0.63,\n          0.787\n        ],\n        \"semantic_type\": \"\",\n        \"description\": \"\"\n      }\n    },\n    {\n      \"column\": \"G\\u00e9nero\",\n      \"properties\": {\n        \"dtype\": \"number\",\n        \"std\": 0,\n        \"min\": 0,\n        \"max\": 1,\n        \"num_unique_values\": 2,\n        \"samples\": [\n          0,\n          1\n        ],\n        \"semantic_type\": \"\",\n        \"description\": \"\"\n      }\n    }\n  ]\n}"
            }
          },
          "metadata": {},
          "execution_count": 15
        }
      ]
    },
    {
      "cell_type": "markdown",
      "source": [
        "<br>"
      ],
      "metadata": {
        "id": "HiqnxjSxicu3"
      }
    },
    {
      "cell_type": "markdown",
      "source": [
        "# **Modelo de clasificación**"
      ],
      "metadata": {
        "id": "oPAfZfkejBh4"
      }
    },
    {
      "cell_type": "markdown",
      "source": [
        "Ya que tenemos los **datos** cargados, utilizaremos una **regresión logística** para modelar la relación entre las variables de **entrada** y **salida**. Anteriormente habíamos entrenado un modelo que clasificaba canciones en géneros musicales (**Reggaetón** y **black metal**) conforme a su grado de **bailabilidad**. Esta vez, haremos una pequeña variación y calcularemos las probabilidades respecto a la **energía** de la canción (una medida de la intensidad o actividad de la misma)."
      ],
      "metadata": {
        "id": "Rm86CujMjFB_"
      }
    },
    {
      "cell_type": "markdown",
      "source": [
        "Entrenamos el modelo con mlektic como se muestra a continuación:"
      ],
      "metadata": {
        "id": "PEPkAKsrkrPG"
      }
    },
    {
      "cell_type": "code",
      "source": [
        "# Se generan los conjuntos de entrenamiento y prueba para las entradas (x) y salidas (y), con una proporción 80-20. Se eleccionan las entradas con input_columns\n",
        "# y la salida con output_column.\n",
        "train_set, test_set = preprocessing.pd_dataset(dataset, input_columns=['Energía'], output_column='Género', train_fraction = 0.8)\n",
        "\n",
        "# Se crea el objeto para realizar la regresión lineal.\n",
        "log_reg  = LogisticRegressionArcht()\n",
        "\n",
        "# Se entrena el modelo.\n",
        "log_reg.train(train_set)"
      ],
      "metadata": {
        "colab": {
          "base_uri": "https://localhost:8080/"
        },
        "id": "CjbWGAYlgcVq",
        "outputId": "480a870e-35e8-4ee0-b27c-96395a6d12cf"
      },
      "execution_count": null,
      "outputs": [
        {
          "output_type": "stream",
          "name": "stdout",
          "text": [
            "Model trained using Maximum Likelihood Estimation (MLE).\n"
          ]
        }
      ]
    },
    {
      "cell_type": "markdown",
      "source": [
        "Graficamos los resultados:"
      ],
      "metadata": {
        "id": "Q--xdsylSWBJ"
      }
    },
    {
      "cell_type": "code",
      "source": [
        "# Se crea un rango de valores para el eje x.\n",
        "x_range = np.linspace(dataset['Energía'].min() - 0.7, dataset['Energía'].max() + 0.7, 1000).reshape(-1, 1)\n",
        "\n",
        "# Se calculan las probabilidades.\n",
        "logistic_curve = log_reg.predict_prob(x_range)[:, 1]\n",
        "\n",
        "# Se grafican los puntos y la curva.\n",
        "plt.figure(figsize=(7, 7))\n",
        "\n",
        "# Se obtienen las entradas y salidas del conjunto de entrenamiento.\n",
        "train_x, train_y = train_set\n",
        "train_x = train_x.squeeze()  # Asegurarse de que sea un array 1D.\n",
        "\n",
        "# Se grafican los puntos de las dos clases.\n",
        "plt.scatter(train_x[train_y == 0], log_reg.predict_prob(train_x[train_y == 0].reshape(-1, 1))[:, 1], color='blue', s=50, label='Clase 0')\n",
        "plt.scatter(train_x[train_y == 1], log_reg.predict_prob(train_x[train_y == 1].reshape(-1, 1))[:, 1], color='red', s=50, label='Clase 1')\n",
        "\n",
        "# Se grafica la curva logística.\n",
        "plt.plot(x_range, logistic_curve, color='black', linewidth=2, label='Curva sigmoidea')\n",
        "\n",
        "# Se configura la gráfica.\n",
        "plt.title(\"Función logística\", fontsize=14, fontweight='bold')\n",
        "plt.xlabel(\"Energía\", fontsize=12, fontweight='bold')\n",
        "plt.ylabel(\"Probabilidad\", fontsize=12, fontweight='bold')\n",
        "plt.ylim(-0.1, 1.1)\n",
        "plt.xlim(dataset['Energía'].min() - 0.5, dataset['Energía'].max() + 0.5)\n",
        "plt.legend(loc='upper left', fontsize=11)\n",
        "plt.suptitle(\"Fig. 1 Curva de probabilidad generada por el modelo resultante, donde recaen los puntos correspondientes a cada dato de entrada.\", fontproperties={'family': 'DejaVu Sans', 'size': 11}, y=-0.001)\n",
        "plt.grid(True)\n",
        "plt.show()\n"
      ],
      "metadata": {
        "colab": {
          "base_uri": "https://localhost:8080/"
        },
        "id": "suGrzOWGmHCI",
        "outputId": "43823dda-5cd2-4152-b883-1bd8511aa8cc"
      },
      "execution_count": null,
      "outputs": [
        {
          "output_type": "display_data",
          "data": {
            "text/plain": [
              "<Figure size 700x700 with 1 Axes>"
            ],
            "image/png": "[encoded data removed]"
          },
          "metadata": {}
        }
      ]
    },
    {
      "cell_type": "markdown",
      "source": [
        "Podrás observar que parece que las **predicciones** (puntos rojos y azules) tienen una separación relativamente consistente. Sin embargo, también es notoria la revoltura de algunos datos, lo que indica una **precisión** de predicción no perfecta. Para no atenernos solo a nuestras percepciones, utilizaremos las métricas de rendimiento propuestas."
      ],
      "metadata": {
        "id": "jTd8qFelNHrK"
      }
    },
    {
      "cell_type": "markdown",
      "source": [
        "<center><img src=\"https://dialektico.com/wp-content/uploads/2025/01/MEMC_KC1.png\" width=\"400\" /></center>"
      ],
      "metadata": {
        "id": "gxJvcVOwnPpa"
      }
    },
    {
      "cell_type": "markdown",
      "source": [
        "<center><img src=\"https://dialektico.com/wp-content/uploads/2025/01/MEMC_DC1.png\" width=\"400\" /></center>"
      ],
      "metadata": {
        "id": "WjG1N9N4n07a"
      }
    },
    {
      "cell_type": "markdown",
      "source": [
        "<br>"
      ],
      "metadata": {
        "id": "tluPBXZwSdjR"
      }
    },
    {
      "cell_type": "markdown",
      "source": [
        "# **Evaluando el modelo**"
      ],
      "metadata": {
        "id": "NdKoaSn8SfRB"
      }
    },
    {
      "cell_type": "markdown",
      "source": [
        "Ahora evaluaremos las **capacidades predictivas** del modelo ajustado: ¿qué tan bien realiza las clasificaciones de datos?\n",
        "\n",
        "Primero, obtendremos la **matriz de confusión**, la cual nos mostrará la cantidad de **positivos** y **negativos** predichos correctamente:"
      ],
      "metadata": {
        "id": "nxrIYdR1SiNh"
      }
    },
    {
      "cell_type": "code",
      "source": [
        "# Se obtiene la matriz de confusión utilizando el conjunto de datos de prueba (test_set).\n",
        "confusion_matrix = log_reg.eval(test_set, 'confusion_matrix', to_df=True)\n",
        "\n",
        "confusion_matrix"
      ],
      "metadata": {
        "colab": {
          "base_uri": "https://localhost:8080/"
        },
        "id": "X2-k2uR_sJq_",
        "outputId": "0acf563b-05d4-42b5-841c-702e2dca4db6"
      },
      "execution_count": null,
      "outputs": [
        {
          "output_type": "execute_result",
          "data": {
            "text/plain": [
              "                              Actual Positive (1)        Actual Negative (0)\n",
              "Predicted Positive (1)   8.00 True Positives (TP)  0.00 False Positives (FP)\n",
              "Predicted Negative (0)  3.00 False Negatives (FN)   7.00 True Negatives (TN)"
            ],
            "text/html": [
              "\n",
              "  <div id=\"df-3981e700-9b55-49d4-a353-cfa0ae4d8963\" class=\"colab-df-container\">\n",
              "    <div>\n",
              "<style scoped>\n",
              "    .dataframe tbody tr th:only-of-type {\n",
              "        vertical-align: middle;\n",
              "    }\n",
              "\n",
              "    .dataframe tbody tr th {\n",
              "        vertical-align: top;\n",
              "    }\n",
              "\n",
              "    .dataframe thead th {\n",
              "        text-align: right;\n",
              "    }\n",
              "</style>\n",
              "<table border=\"1\" class=\"dataframe\">\n",
              "  <thead>\n",
              "    <tr style=\"text-align: right;\">\n",
              "      <th></th>\n",
              "      <th>Actual Positive (1)</th>\n",
              "      <th>Actual Negative (0)</th>\n",
              "    </tr>\n",
              "  </thead>\n",
              "  <tbody>\n",
              "    <tr>\n",
              "      <th>Predicted Positive (1)</th>\n",
              "      <td>8.00 True Positives (TP)</td>\n",
              "      <td>0.00 False Positives (FP)</td>\n",
              "    </tr>\n",
              "    <tr>\n",
              "      <th>Predicted Negative (0)</th>\n",
              "      <td>3.00 False Negatives (FN)</td>\n",
              "      <td>7.00 True Negatives (TN)</td>\n",
              "    </tr>\n",
              "  </tbody>\n",
              "</table>\n",
              "</div>\n",
              "    <div class=\"colab-df-buttons\">\n",
              "\n",
              "  <div class=\"colab-df-container\">\n",
              "    <button class=\"colab-df-convert\" onclick=\"convertToInteractive('df-3981e700-9b55-49d4-a353-cfa0ae4d8963')\"\n",
              "            title=\"Convert this dataframe to an interactive table.\"\n",
              "            style=\"display:none;\">\n",
              "\n",
              "  <svg xmlns=\"http://www.w3.org/2000/svg\" height=\"24px\" viewBox=\"0 -960 960 960\">\n",
              "    <path d=\"M120-120v-720h720v720H120Zm60-500h600v-160H180v160Zm220 220h160v-160H400v160Zm0 220h160v-160H400v160ZM180-400h160v-160H180v160Zm440 0h160v-160H620v160ZM180-180h160v-160H180v160Zm440 0h160v-160H620v160Z\"/>\n",
              "  </svg>\n",
              "    </button>\n",
              "\n",
              "  <style>\n",
              "    .colab-df-container {\n",
              "      display:flex;\n",
              "      gap: 12px;\n",
              "    }\n",
              "\n",
              "    .colab-df-convert {\n",
              "      background-color: #E8F0FE;\n",
              "      border: none;\n",
              "      border-radius: 50%;\n",
              "      cursor: pointer;\n",
              "      display: none;\n",
              "      fill: #1967D2;\n",
              "      height: 32px;\n",
              "      padding: 0 0 0 0;\n",
              "      width: 32px;\n",
              "    }\n",
              "\n",
              "    .colab-df-convert:hover {\n",
              "      background-color: #E2EBFA;\n",
              "      box-shadow: 0px 1px 2px rgba(60, 64, 67, 0.3), 0px 1px 3px 1px rgba(60, 64, 67, 0.15);\n",
              "      fill: #174EA6;\n",
              "    }\n",
              "\n",
              "    .colab-df-buttons div {\n",
              "      margin-bottom: 4px;\n",
              "    }\n",
              "\n",
              "    [theme=dark] .colab-df-convert {\n",
              "      background-color: #3B4455;\n",
              "      fill: #D2E3FC;\n",
              "    }\n",
              "\n",
              "    [theme=dark] .colab-df-convert:hover {\n",
              "      background-color: #434B5C;\n",
              "      box-shadow: 0px 1px 3px 1px rgba(0, 0, 0, 0.15);\n",
              "      filter: drop-shadow(0px 1px 2px rgba(0, 0, 0, 0.3));\n",
              "      fill: #FFFFFF;\n",
              "    }\n",
              "  </style>\n",
              "\n",
              "    <script>\n",
              "      const buttonEl =\n",
              "        document.querySelector('#df-3981e700-9b55-49d4-a353-cfa0ae4d8963 button.colab-df-convert');\n",
              "      buttonEl.style.display =\n",
              "        google.colab.kernel.accessAllowed ? 'block' : 'none';\n",
              "\n",
              "      async function convertToInteractive(key) {\n",
              "        const element = document.querySelector('#df-3981e700-9b55-49d4-a353-cfa0ae4d8963');\n",
              "        const dataTable =\n",
              "          await google.colab.kernel.invokeFunction('convertToInteractive',\n",
              "                                                    [key], {});\n",
              "        if (!dataTable) return;\n",
              "\n",
              "        const docLinkHtml = 'Like what you see? Visit the ' +\n",
              "          '<a target=\"_blank\" href=https://colab.research.google.com/notebooks/data_table.ipynb>data table notebook</a>'\n",
              "          + ' to learn more about interactive tables.';\n",
              "        element.innerHTML = '';\n",
              "        dataTable['output_type'] = 'display_data';\n",
              "        await google.colab.output.renderOutput(dataTable, element);\n",
              "        const docLink = document.createElement('div');\n",
              "        docLink.innerHTML = docLinkHtml;\n",
              "        element.appendChild(docLink);\n",
              "      }\n",
              "    </script>\n",
              "  </div>\n",
              "\n",
              "\n",
              "<div id=\"df-e7cc7758-aa6f-4e8a-8a6c-479b0ac4a3c0\">\n",
              "  <button class=\"colab-df-quickchart\" onclick=\"quickchart('df-e7cc7758-aa6f-4e8a-8a6c-479b0ac4a3c0')\"\n",
              "            title=\"Suggest charts\"\n",
              "            style=\"display:none;\">\n",
              "\n",
              "<svg xmlns=\"http://www.w3.org/2000/svg\" height=\"24px\"viewBox=\"0 0 24 24\"\n",
              "     width=\"24px\">\n",
              "    <g>\n",
              "        <path d=\"M19 3H5c-1.1 0-2 .9-2 2v14c0 1.1.9 2 2 2h14c1.1 0 2-.9 2-2V5c0-1.1-.9-2-2-2zM9 17H7v-7h2v7zm4 0h-2V7h2v10zm4 0h-2v-4h2v4z\"/>\n",
              "    </g>\n",
              "</svg>\n",
              "  </button>\n",
              "\n",
              "<style>\n",
              "  .colab-df-quickchart {\n",
              "      --bg-color: #E8F0FE;\n",
              "      --fill-color: #1967D2;\n",
              "      --hover-bg-color: #E2EBFA;\n",
              "      --hover-fill-color: #174EA6;\n",
              "      --disabled-fill-color: #AAA;\n",
              "      --disabled-bg-color: #DDD;\n",
              "  }\n",
              "\n",
              "  [theme=dark] .colab-df-quickchart {\n",
              "      --bg-color: #3B4455;\n",
              "      --fill-color: #D2E3FC;\n",
              "      --hover-bg-color: #434B5C;\n",
              "      --hover-fill-color: #FFFFFF;\n",
              "      --disabled-bg-color: #3B4455;\n",
              "      --disabled-fill-color: #666;\n",
              "  }\n",
              "\n",
              "  .colab-df-quickchart {\n",
              "    background-color: var(--bg-color);\n",
              "    border: none;\n",
              "    border-radius: 50%;\n",
              "    cursor: pointer;\n",
              "    display: none;\n",
              "    fill: var(--fill-color);\n",
              "    height: 32px;\n",
              "    padding: 0;\n",
              "    width: 32px;\n",
              "  }\n",
              "\n",
              "  .colab-df-quickchart:hover {\n",
              "    background-color: var(--hover-bg-color);\n",
              "    box-shadow: 0 1px 2px rgba(60, 64, 67, 0.3), 0 1px 3px 1px rgba(60, 64, 67, 0.15);\n",
              "    fill: var(--button-hover-fill-color);\n",
              "  }\n",
              "\n",
              "  .colab-df-quickchart-complete:disabled,\n",
              "  .colab-df-quickchart-complete:disabled:hover {\n",
              "    background-color: var(--disabled-bg-color);\n",
              "    fill: var(--disabled-fill-color);\n",
              "    box-shadow: none;\n",
              "  }\n",
              "\n",
              "  .colab-df-spinner {\n",
              "    border: 2px solid var(--fill-color);\n",
              "    border-color: transparent;\n",
              "    border-bottom-color: var(--fill-color);\n",
              "    animation:\n",
              "      spin 1s steps(1) infinite;\n",
              "  }\n",
              "\n",
              "  @keyframes spin {\n",
              "    0% {\n",
              "      border-color: transparent;\n",
              "      border-bottom-color: var(--fill-color);\n",
              "      border-left-color: var(--fill-color);\n",
              "    }\n",
              "    20% {\n",
              "      border-color: transparent;\n",
              "      border-left-color: var(--fill-color);\n",
              "      border-top-color: var(--fill-color);\n",
              "    }\n",
              "    30% {\n",
              "      border-color: transparent;\n",
              "      border-left-color: var(--fill-color);\n",
              "      border-top-color: var(--fill-color);\n",
              "      border-right-color: var(--fill-color);\n",
              "    }\n",
              "    40% {\n",
              "      border-color: transparent;\n",
              "      border-right-color: var(--fill-color);\n",
              "      border-top-color: var(--fill-color);\n",
              "    }\n",
              "    60% {\n",
              "      border-color: transparent;\n",
              "      border-right-color: var(--fill-color);\n",
              "    }\n",
              "    80% {\n",
              "      border-color: transparent;\n",
              "      border-right-color: var(--fill-color);\n",
              "      border-bottom-color: var(--fill-color);\n",
              "    }\n",
              "    90% {\n",
              "      border-color: transparent;\n",
              "      border-bottom-color: var(--fill-color);\n",
              "    }\n",
              "  }\n",
              "</style>\n",
              "\n",
              "  <script>\n",
              "    async function quickchart(key) {\n",
              "      const quickchartButtonEl =\n",
              "        document.querySelector('#' + key + ' button');\n",
              "      quickchartButtonEl.disabled = true;  // To prevent multiple clicks.\n",
              "      quickchartButtonEl.classList.add('colab-df-spinner');\n",
              "      try {\n",
              "        const charts = await google.colab.kernel.invokeFunction(\n",
              "            'suggestCharts', [key], {});\n",
              "      } catch (error) {\n",
              "        console.error('Error during call to suggestCharts:', error);\n",
              "      }\n",
              "      quickchartButtonEl.classList.remove('colab-df-spinner');\n",
              "      quickchartButtonEl.classList.add('colab-df-quickchart-complete');\n",
              "    }\n",
              "    (() => {\n",
              "      let quickchartButtonEl =\n",
              "        document.querySelector('#df-e7cc7758-aa6f-4e8a-8a6c-479b0ac4a3c0 button');\n",
              "      quickchartButtonEl.style.display =\n",
              "        google.colab.kernel.accessAllowed ? 'block' : 'none';\n",
              "    })();\n",
              "  </script>\n",
              "</div>\n",
              "\n",
              "  <div id=\"id_1c7ada34-a39a-4e75-80b2-801b4fd6191b\">\n",
              "    <style>\n",
              "      .colab-df-generate {\n",
              "        background-color: #E8F0FE;\n",
              "        border: none;\n",
              "        border-radius: 50%;\n",
              "        cursor: pointer;\n",
              "        display: none;\n",
              "        fill: #1967D2;\n",
              "        height: 32px;\n",
              "        padding: 0 0 0 0;\n",
              "        width: 32px;\n",
              "      }\n",
              "\n",
              "      .colab-df-generate:hover {\n",
              "        background-color: #E2EBFA;\n",
              "        box-shadow: 0px 1px 2px rgba(60, 64, 67, 0.3), 0px 1px 3px 1px rgba(60, 64, 67, 0.15);\n",
              "        fill: #174EA6;\n",
              "      }\n",
              "\n",
              "      [theme=dark] .colab-df-generate {\n",
              "        background-color: #3B4455;\n",
              "        fill: #D2E3FC;\n",
              "      }\n",
              "\n",
              "      [theme=dark] .colab-df-generate:hover {\n",
              "        background-color: #434B5C;\n",
              "        box-shadow: 0px 1px 3px 1px rgba(0, 0, 0, 0.15);\n",
              "        filter: drop-shadow(0px 1px 2px rgba(0, 0, 0, 0.3));\n",
              "        fill: #FFFFFF;\n",
              "      }\n",
              "    </style>\n",
              "    <button class=\"colab-df-generate\" onclick=\"generateWithVariable('confusion_matrix')\"\n",
              "            title=\"Generate code using this dataframe.\"\n",
              "            style=\"display:none;\">\n",
              "\n",
              "  <svg xmlns=\"http://www.w3.org/2000/svg\" height=\"24px\"viewBox=\"0 0 24 24\"\n",
              "       width=\"24px\">\n",
              "    <path d=\"M7,19H8.4L18.45,9,17,7.55,7,17.6ZM5,21V16.75L18.45,3.32a2,2,0,0,1,2.83,0l1.4,1.43a1.91,1.91,0,0,1,.58,1.4,1.91,1.91,0,0,1-.58,1.4L9.25,21ZM18.45,9,17,7.55Zm-12,3A5.31,5.31,0,0,0,4.9,8.1,5.31,5.31,0,0,0,1,6.5,5.31,5.31,0,0,0,4.9,4.9,5.31,5.31,0,0,0,6.5,1,5.31,5.31,0,0,0,8.1,4.9,5.31,5.31,0,0,0,12,6.5,5.46,5.46,0,0,0,6.5,12Z\"/>\n",
              "  </svg>\n",
              "    </button>\n",
              "    <script>\n",
              "      (() => {\n",
              "      const buttonEl =\n",
              "        document.querySelector('#id_1c7ada34-a39a-4e75-80b2-801b4fd6191b button.colab-df-generate');\n",
              "      buttonEl.style.display =\n",
              "        google.colab.kernel.accessAllowed ? 'block' : 'none';\n",
              "\n",
              "      buttonEl.onclick = () => {\n",
              "        google.colab.notebook.generateWithVariable('confusion_matrix');\n",
              "      }\n",
              "      })();\n",
              "    </script>\n",
              "  </div>\n",
              "\n",
              "    </div>\n",
              "  </div>\n"
            ],
            "application/vnd.google.colaboratory.intrinsic+json": {
              "type": "dataframe",
              "variable_name": "confusion_matrix",
              "summary": "{\n  \"name\": \"confusion_matrix\",\n  \"rows\": 2,\n  \"fields\": [\n    {\n      \"column\": \"Actual Positive (1)\",\n      \"properties\": {\n        \"dtype\": \"string\",\n        \"num_unique_values\": 2,\n        \"samples\": [\n          \"3.00 False Negatives (FN)\",\n          \"8.00 True Positives (TP)\"\n        ],\n        \"semantic_type\": \"\",\n        \"description\": \"\"\n      }\n    },\n    {\n      \"column\": \"Actual Negative (0)\",\n      \"properties\": {\n        \"dtype\": \"string\",\n        \"num_unique_values\": 2,\n        \"samples\": [\n          \"7.00 True Negatives (TN)\",\n          \"0.00 False Positives (FP)\"\n        ],\n        \"semantic_type\": \"\",\n        \"description\": \"\"\n      }\n    }\n  ]\n}"
            }
          },
          "metadata": {},
          "execution_count": 18
        }
      ]
    },
    {
      "cell_type": "markdown",
      "source": [
        "De esta podemos notar que tenemos lo siguiente:\n",
        "\n",
        "- 8 Verdaderos Positivos, es decir, 8 valores categorizados correctamente en la clase 1 (Reggaetón).\n",
        "- 0 Falsos Positivos, es decir, 0 valores categorizados incorrectamente en la clase 1 (Reggaetón).\n",
        "- 7 Verdaderos Negativos, es decir, 7 valores categorizados correctamente en la clase 0 (black metal).\n",
        "- 3 Falsos Negativos, es decir, 3 valores categorizados incorrectamente en la clase 0 (black metal).\n"
      ],
      "metadata": {
        "id": "dLDX9uM9fw3f"
      }
    },
    {
      "cell_type": "markdown",
      "source": [
        "Desde aquí podemos notar algunos detalles, por ejemplo, no hay **falsos positivos**, pero sí hay **verdaderos positivos**, por lo que la predicción de positivos ha sido altamente efectiva. Sin embargo, sí tenemos predicciones erróneas en los **falsos negativos**, lo que implica predicciones incorrectas."
      ],
      "metadata": {
        "id": "b01KEdXQg_Xe"
      }
    },
    {
      "cell_type": "markdown",
      "source": [
        "Estas son solo premisas inmediatas, pasemos al cálculo de las métricas de evaluación basadas en la matriz de confusión."
      ],
      "metadata": {
        "id": "8RkwHxdphT5e"
      }
    },
    {
      "cell_type": "markdown",
      "source": [
        "<br>"
      ],
      "metadata": {
        "id": "1HHT26S1pk8J"
      }
    },
    {
      "cell_type": "markdown",
      "source": [
        "## **Exactitud (accuracy)**"
      ],
      "metadata": {
        "id": "921uHCiFpWrh"
      }
    },
    {
      "cell_type": "markdown",
      "source": [
        "Comenzamos con el cálculo de la **exactitud** de clasificación del modelo:"
      ],
      "metadata": {
        "id": "5Qu5wjDlpcYh"
      }
    },
    {
      "cell_type": "code",
      "source": [
        "accuracy = log_reg.eval(test_set, 'accuracy')\n",
        "print(f'La exactitud del modelo es aproximadamente: {accuracy:.2f}')"
      ],
      "metadata": {
        "colab": {
          "base_uri": "https://localhost:8080/"
        },
        "id": "Y5jqurwxfgiH",
        "outputId": "2fd5e8c0-62dd-465b-8463-cf01fc6107f9"
      },
      "execution_count": null,
      "outputs": [
        {
          "output_type": "stream",
          "name": "stdout",
          "text": [
            "La exactitud del modelo es aproximadamente: 0.83\n"
          ]
        }
      ]
    },
    {
      "cell_type": "markdown",
      "source": [
        "### **Interpretación**"
      ],
      "metadata": {
        "id": "t2LlLS-BqODa"
      }
    },
    {
      "cell_type": "markdown",
      "source": [
        "Recordemos que este valor representa la proporción de **predicciones** correctas sobre el total de casos. El resultado indica que el modelo clasifica correctamente el género del 83% de las canciones, lo que significa un rendimiento aceptable tomando en cuenta que la variable <<**Energía**>> puede presentar pequeñas variaciones entre un género y otro.\n",
        "También debemos tomar en cuenta que esta métrica no considera el equilibrio entre clases, es decir, puede ser afectada si las clases están desbalanceadas, lo cual en este caso no aplica."
      ],
      "metadata": {
        "id": "tFxhY_Y4p0tR"
      }
    },
    {
      "cell_type": "markdown",
      "source": [
        "<br>"
      ],
      "metadata": {
        "id": "OQWKciNdq12p"
      }
    },
    {
      "cell_type": "markdown",
      "source": [
        "## **Precisión (precision)**"
      ],
      "metadata": {
        "id": "tdeV0Zidq4Oh"
      }
    },
    {
      "cell_type": "markdown",
      "source": [
        "Ahora obtenemos la exactitud de clasificación del modelo:"
      ],
      "metadata": {
        "id": "lvEflfwfWOJh"
      }
    },
    {
      "cell_type": "code",
      "source": [
        "precision = log_reg.eval(test_set, 'precision')\n",
        "print(f'La precisión del modelo es aproximadamente: {precision:.2f}')"
      ],
      "metadata": {
        "colab": {
          "base_uri": "https://localhost:8080/"
        },
        "id": "UfEuB1f1q86R",
        "outputId": "52afa816-301d-48b3-92e5-1e8d17bfae5a"
      },
      "execution_count": null,
      "outputs": [
        {
          "output_type": "stream",
          "name": "stdout",
          "text": [
            "La precisión del modelo es aproximadamente: 1.00\n"
          ]
        }
      ]
    },
    {
      "cell_type": "markdown",
      "source": [
        "### **Interpretación**"
      ],
      "metadata": {
        "id": "k-dkw9G_sYfx"
      }
    },
    {
      "cell_type": "markdown",
      "source": [
        "Para interpretar esta medida debemos rememorar que esta indica qué tan precisas son las **clasificaciones positivas** del modelo (de la clase 1, es decir, Reggaetón).\n",
        "\n",
        "En este caso, todas las canciones categorizadas como parte del género Reggaetón realmente pertenecen a este género. No hay falsos positivos (FP), lo que demuestra un excelente rendimiento en esta métrica.\n"
      ],
      "metadata": {
        "id": "ACql4hBgq7iR"
      }
    },
    {
      "cell_type": "markdown",
      "source": [
        "<br>"
      ],
      "metadata": {
        "id": "figmY-z9X1tx"
      }
    },
    {
      "cell_type": "markdown",
      "source": [
        "## **Sensibilidad (recall)**"
      ],
      "metadata": {
        "id": "ArevTDEXWDzZ"
      }
    },
    {
      "cell_type": "markdown",
      "source": [
        "Proseguimos con el cálculo de la sensibilidad:"
      ],
      "metadata": {
        "id": "hlNGj7eyWR6Z"
      }
    },
    {
      "cell_type": "code",
      "source": [
        "recall = log_reg.eval(test_set, 'recall')\n",
        "print(f'La sensibilidad del modelo es aproximadamente: {recall:.2f}')"
      ],
      "metadata": {
        "colab": {
          "base_uri": "https://localhost:8080/"
        },
        "id": "d6zRR4c0WL4K",
        "outputId": "06e1e521-3a90-435c-feb5-2926c0cdb1e3"
      },
      "execution_count": null,
      "outputs": [
        {
          "output_type": "stream",
          "name": "stdout",
          "text": [
            "La sensibilidad del modelo es aproximadamente: 0.73\n"
          ]
        }
      ]
    },
    {
      "cell_type": "markdown",
      "source": [
        "### **Interpretación**"
      ],
      "metadata": {
        "id": "veaeBFJCXJMZ"
      }
    },
    {
      "cell_type": "markdown",
      "source": [
        "La **sensibilidad** está midiendo la proporción de verdaderos positivos correctamente identificados entre todas las canciones que son realmente de Reggaetón. Aquí, el modelo identifica correctamente el 73% de las canciones de Reggaetón, lo que indica que algunas canciones de este género no se detectan correctamente, es decir, hay falsos negativos (recordemos que un falso negativo es un positivo mal clasificado), como puede constatarse en la matriz de confusión.\n",
        "\n",
        "La presencia de falsos negativos indica que se clasificaron mal algunos datos que en realidad forman parte de la clase positiva. Si deseamos que nuestro modelo sea altamente capaz en la identificación de la clase positiva disminuyendo los falsos negativos, tendríamos que optimizar el modelo para mejorar esta métrica.\n",
        "\n",
        "\n",
        "Además, recordemos que la energía es una medida de la intensidad de una canción, y, por lo visto en la **Figura 1**, la tendencia es que, a menor energía, mayor es la **probabilidad** de pertenecer a la clase 1, o dicho de otra forma: las canciones de Reggaetón suelen ser menos energéticas que las de black metal, y, a juzgar por la presencia de falsos negativos, hay canciones de Reggaetón con energías que pareciera que corresponden al black metal."
      ],
      "metadata": {
        "id": "PXqYn5y3Wat5"
      }
    },
    {
      "cell_type": "markdown",
      "source": [
        "<br>"
      ],
      "metadata": {
        "id": "gGQ1lFYDX3fx"
      }
    },
    {
      "cell_type": "markdown",
      "source": [
        "## **Puntaje F1 (F1 Score)**"
      ],
      "metadata": {
        "id": "1jyDe9gKXHS6"
      }
    },
    {
      "cell_type": "markdown",
      "source": [
        "Vayamos con la última métrica de la matriz de confusión. La calculamos como sigue:"
      ],
      "metadata": {
        "id": "DXbA3XbZXT75"
      }
    },
    {
      "cell_type": "code",
      "source": [
        "f1_score = log_reg.eval(test_set, 'f1_score')\n",
        "print(f'El puntaje F1 del modelo es aproximadamente: {f1_score:.2f}')"
      ],
      "metadata": {
        "colab": {
          "base_uri": "https://localhost:8080/"
        },
        "id": "88bU_-zbXYN5",
        "outputId": "d78c52a1-86b8-4cfc-906e-cd3ea19b9f91"
      },
      "execution_count": null,
      "outputs": [
        {
          "output_type": "stream",
          "name": "stdout",
          "text": [
            "El puntaje F1 del modelo es aproximadamente: 0.84\n"
          ]
        }
      ]
    },
    {
      "cell_type": "markdown",
      "source": [
        "### **Interpretación**"
      ],
      "metadata": {
        "id": "v4w-Fg4xZ3x5"
      }
    },
    {
      "cell_type": "markdown",
      "source": [
        "Es necesario recordar que el **puntaje F1** es la media armónica entre la precisión y el recall, utilizada para balancear estas métricas.\n",
        "\n",
        "Un F1-Score de 0.84 indica un buen balance entre la capacidad del modelo de predecir correctamente las canciones de Reggaetón y reducir los falsos positivos y negativos. Esto quiere decir que, si no priorizamos la **precisión** o la **sensibilidad**, esta métrica está arrojando un balance aceptable de las capacidades predictivas del modelo."
      ],
      "metadata": {
        "id": "9g9bljbYXTNy"
      }
    },
    {
      "cell_type": "markdown",
      "source": [
        "<br>"
      ],
      "metadata": {
        "id": "SEKGFHavX4pJ"
      }
    },
    {
      "cell_type": "markdown",
      "source": [
        "## **Entropía Cruzada (Cross Entropy)**"
      ],
      "metadata": {
        "id": "9K3HmXQOXOyp"
      }
    },
    {
      "cell_type": "markdown",
      "source": [
        "Por último, utilizaremos la [función de pérdida logística](https://dialektico.com/funcion-perdida-regresion-logistica/) para obtener una medida de qué tanto se aproximan las probabilidades a las etiquetas del terreno fundamental (valores reales):"
      ],
      "metadata": {
        "id": "YfOgUEhzXKPB"
      }
    },
    {
      "cell_type": "code",
      "source": [
        "binary_crossentropy = log_reg.eval(test_set, 'binary_crossentropy')\n",
        "print(f'La entropía cruzada del modelo es aproximadamente: {binary_crossentropy:.2f}')"
      ],
      "metadata": {
        "colab": {
          "base_uri": "https://localhost:8080/"
        },
        "id": "gXKU1gFOYWRp",
        "outputId": "90f00041-d25a-47a6-8864-9fb9f4b17dcd"
      },
      "execution_count": null,
      "outputs": [
        {
          "output_type": "stream",
          "name": "stdout",
          "text": [
            "La entropía cruzada del modelo es aproximadamente: 0.58\n"
          ]
        }
      ]
    },
    {
      "cell_type": "markdown",
      "source": [
        "La **entropía cruzad**a se interpreta como una medida de qué tan bien el modelo predice las probabilidades correctas para las clases (en este caso, Reggaetón y Black Metal). Específicamente, la entropía cruzada evalúa el nivel de \"incertidumbre\" o \"error\" entre las predicciones del modelo y las etiquetas reales. Un valor de 0.578 sugiere que el modelo todavía tiene margen para mejorar, aunque no está muy lejos de ser óptimo. Para modelos bien entrenados, esta métrica tiende hacia 0. Por lo tanto, el modelo podría considerarse razonablemente bueno, pero no perfecto."
      ],
      "metadata": {
        "id": "H43-C3F4ZmjJ"
      }
    },
    {
      "cell_type": "markdown",
      "source": [
        "<br>"
      ],
      "metadata": {
        "id": "0iKnrKZ6a95x"
      }
    },
    {
      "cell_type": "markdown",
      "source": [
        "## **Conclusión de evaluaciones**"
      ],
      "metadata": {
        "id": "VpxKC6p4Yr7R"
      }
    },
    {
      "cell_type": "markdown",
      "source": [
        "Podemos concluir lo siguiente sobre las métricas aquí analizadas:\n",
        "\n",
        "- La **precisión** perfecta (1.0) implica que el modelo tiene un excelente desempeño evitando errores al identificar canciones que no son Reggaetón. La alta **exactitud** (83.33%) y **puntaje F1** (0.84) muestran que el modelo generaliza bien para este problema.\n",
        "\n",
        "Sin embargo, el **recall** de 72.73% indica que el modelo falla al clasificar correctamente algunas canciones de Reggaetón, lo cual es relevante si es más importante detectar todas las canciones de este género (dependerá de la naturaleza del problema).\n",
        "\n",
        "En conclusión, este modelo es confiable para aplicaciones donde es crítico evitar falsos positivos (por ejemplo, identificar exclusivamente canciones de Reggaetón sin clasificar Black Metal erróneamente como tal).\n",
        "Sin embargo, si la prioridad es minimizar los falsos negativos, se podría ajustar el modelo para mejorar el recall.\n",
        "\n",
        "Las formas de mejorar el rendimiento de modelos son variadas y las estaremos explorando muy pronto en una travesía futura."
      ],
      "metadata": {
        "id": "kP_CiZYqYcbZ"
      }
    },
    {
      "cell_type": "markdown",
      "source": [
        "<br>"
      ],
      "metadata": {
        "id": "u4fKVgx-a7zo"
      }
    },
    {
      "cell_type": "markdown",
      "source": [
        "# **Ejercicio**"
      ],
      "metadata": {
        "id": "ytmypv3Ha6tI"
      }
    },
    {
      "cell_type": "markdown",
      "source": [
        "Hasta aquí concluimos con esta práctica, pero aún puedes poner a prueba tus conocimientos realizando mediciones sobre el desempeño de un modelo ajustado a la variable bailabilidad.\n",
        "\n",
        "Para esto usamos el mismo conjunto de datos:"
      ],
      "metadata": {
        "id": "e1tXImVebAOY"
      }
    },
    {
      "cell_type": "code",
      "source": [
        "dataset"
      ],
      "metadata": {
        "colab": {
          "base_uri": "https://localhost:8080/"
        },
        "id": "lFBabhuG3kYe",
        "outputId": "157f17af-e0bf-4e62-87ff-dc2589d0a9c4"
      },
      "execution_count": null,
      "outputs": [
        {
          "output_type": "execute_result",
          "data": {
            "text/plain": [
              "                     Nombre  Bailabilidad  Energía  Género\n",
              "0                       TQG          0.72     0.63       1\n",
              "1           Me Porto Bonito          0.91     0.71       1\n",
              "2          Tití Me Preguntó          0.65     0.71       1\n",
              "3                    Chanel          0.85     0.68       1\n",
              "4                Classy 101          0.86     0.66       1\n",
              "..                      ...           ...      ...     ...\n",
              "85               Deathcrush          0.22     0.91       0\n",
              "86                     FTBS          0.27     0.91       0\n",
              "87  Stress Builds Character          0.29     0.78       0\n",
              "88          Fear of Failure          0.25     0.92       0\n",
              "89         Deathmask Divine          0.43     0.98       0\n",
              "\n",
              "[90 rows x 4 columns]"
            ],
            "text/html": [
              "\n",
              "  <div id=\"df-add5ca06-24b5-4525-ba1a-27e170382ef7\" class=\"colab-df-container\">\n",
              "    <div>\n",
              "<style scoped>\n",
              "    .dataframe tbody tr th:only-of-type {\n",
              "        vertical-align: middle;\n",
              "    }\n",
              "\n",
              "    .dataframe tbody tr th {\n",
              "        vertical-align: top;\n",
              "    }\n",
              "\n",
              "    .dataframe thead th {\n",
              "        text-align: right;\n",
              "    }\n",
              "</style>\n",
              "<table border=\"1\" class=\"dataframe\">\n",
              "  <thead>\n",
              "    <tr style=\"text-align: right;\">\n",
              "      <th></th>\n",
              "      <th>Nombre</th>\n",
              "      <th>Bailabilidad</th>\n",
              "      <th>Energía</th>\n",
              "      <th>Género</th>\n",
              "    </tr>\n",
              "  </thead>\n",
              "  <tbody>\n",
              "    <tr>\n",
              "      <th>0</th>\n",
              "      <td>TQG</td>\n",
              "      <td>0.72</td>\n",
              "      <td>0.63</td>\n",
              "      <td>1</td>\n",
              "    </tr>\n",
              "    <tr>\n",
              "      <th>1</th>\n",
              "      <td>Me Porto Bonito</td>\n",
              "      <td>0.91</td>\n",
              "      <td>0.71</td>\n",
              "      <td>1</td>\n",
              "    </tr>\n",
              "    <tr>\n",
              "      <th>2</th>\n",
              "      <td>Tití Me Preguntó</td>\n",
              "      <td>0.65</td>\n",
              "      <td>0.71</td>\n",
              "      <td>1</td>\n",
              "    </tr>\n",
              "    <tr>\n",
              "      <th>3</th>\n",
              "      <td>Chanel</td>\n",
              "      <td>0.85</td>\n",
              "      <td>0.68</td>\n",
              "      <td>1</td>\n",
              "    </tr>\n",
              "    <tr>\n",
              "      <th>4</th>\n",
              "      <td>Classy 101</td>\n",
              "      <td>0.86</td>\n",
              "      <td>0.66</td>\n",
              "      <td>1</td>\n",
              "    </tr>\n",
              "    <tr>\n",
              "      <th>...</th>\n",
              "      <td>...</td>\n",
              "      <td>...</td>\n",
              "      <td>...</td>\n",
              "      <td>...</td>\n",
              "    </tr>\n",
              "    <tr>\n",
              "      <th>85</th>\n",
              "      <td>Deathcrush</td>\n",
              "      <td>0.22</td>\n",
              "      <td>0.91</td>\n",
              "      <td>0</td>\n",
              "    </tr>\n",
              "    <tr>\n",
              "      <th>86</th>\n",
              "      <td>FTBS</td>\n",
              "      <td>0.27</td>\n",
              "      <td>0.91</td>\n",
              "      <td>0</td>\n",
              "    </tr>\n",
              "    <tr>\n",
              "      <th>87</th>\n",
              "      <td>Stress Builds Character</td>\n",
              "      <td>0.29</td>\n",
              "      <td>0.78</td>\n",
              "      <td>0</td>\n",
              "    </tr>\n",
              "    <tr>\n",
              "      <th>88</th>\n",
              "      <td>Fear of Failure</td>\n",
              "      <td>0.25</td>\n",
              "      <td>0.92</td>\n",
              "      <td>0</td>\n",
              "    </tr>\n",
              "    <tr>\n",
              "      <th>89</th>\n",
              "      <td>Deathmask Divine</td>\n",
              "      <td>0.43</td>\n",
              "      <td>0.98</td>\n",
              "      <td>0</td>\n",
              "    </tr>\n",
              "  </tbody>\n",
              "</table>\n",
              "<p>90 rows × 4 columns</p>\n",
              "</div>\n",
              "    <div class=\"colab-df-buttons\">\n",
              "\n",
              "  <div class=\"colab-df-container\">\n",
              "    <button class=\"colab-df-convert\" onclick=\"convertToInteractive('df-add5ca06-24b5-4525-ba1a-27e170382ef7')\"\n",
              "            title=\"Convert this dataframe to an interactive table.\"\n",
              "            style=\"display:none;\">\n",
              "\n",
              "  <svg xmlns=\"http://www.w3.org/2000/svg\" height=\"24px\" viewBox=\"0 -960 960 960\">\n",
              "    <path d=\"M120-120v-720h720v720H120Zm60-500h600v-160H180v160Zm220 220h160v-160H400v160Zm0 220h160v-160H400v160ZM180-400h160v-160H180v160Zm440 0h160v-160H620v160ZM180-180h160v-160H180v160Zm440 0h160v-160H620v160Z\"/>\n",
              "  </svg>\n",
              "    </button>\n",
              "\n",
              "  <style>\n",
              "    .colab-df-container {\n",
              "      display:flex;\n",
              "      gap: 12px;\n",
              "    }\n",
              "\n",
              "    .colab-df-convert {\n",
              "      background-color: #E8F0FE;\n",
              "      border: none;\n",
              "      border-radius: 50%;\n",
              "      cursor: pointer;\n",
              "      display: none;\n",
              "      fill: #1967D2;\n",
              "      height: 32px;\n",
              "      padding: 0 0 0 0;\n",
              "      width: 32px;\n",
              "    }\n",
              "\n",
              "    .colab-df-convert:hover {\n",
              "      background-color: #E2EBFA;\n",
              "      box-shadow: 0px 1px 2px rgba(60, 64, 67, 0.3), 0px 1px 3px 1px rgba(60, 64, 67, 0.15);\n",
              "      fill: #174EA6;\n",
              "    }\n",
              "\n",
              "    .colab-df-buttons div {\n",
              "      margin-bottom: 4px;\n",
              "    }\n",
              "\n",
              "    [theme=dark] .colab-df-convert {\n",
              "      background-color: #3B4455;\n",
              "      fill: #D2E3FC;\n",
              "    }\n",
              "\n",
              "    [theme=dark] .colab-df-convert:hover {\n",
              "      background-color: #434B5C;\n",
              "      box-shadow: 0px 1px 3px 1px rgba(0, 0, 0, 0.15);\n",
              "      filter: drop-shadow(0px 1px 2px rgba(0, 0, 0, 0.3));\n",
              "      fill: #FFFFFF;\n",
              "    }\n",
              "  </style>\n",
              "\n",
              "    <script>\n",
              "      const buttonEl =\n",
              "        document.querySelector('#df-add5ca06-24b5-4525-ba1a-27e170382ef7 button.colab-df-convert');\n",
              "      buttonEl.style.display =\n",
              "        google.colab.kernel.accessAllowed ? 'block' : 'none';\n",
              "\n",
              "      async function convertToInteractive(key) {\n",
              "        const element = document.querySelector('#df-add5ca06-24b5-4525-ba1a-27e170382ef7');\n",
              "        const dataTable =\n",
              "          await google.colab.kernel.invokeFunction('convertToInteractive',\n",
              "                                                    [key], {});\n",
              "        if (!dataTable) return;\n",
              "\n",
              "        const docLinkHtml = 'Like what you see? Visit the ' +\n",
              "          '<a target=\"_blank\" href=https://colab.research.google.com/notebooks/data_table.ipynb>data table notebook</a>'\n",
              "          + ' to learn more about interactive tables.';\n",
              "        element.innerHTML = '';\n",
              "        dataTable['output_type'] = 'display_data';\n",
              "        await google.colab.output.renderOutput(dataTable, element);\n",
              "        const docLink = document.createElement('div');\n",
              "        docLink.innerHTML = docLinkHtml;\n",
              "        element.appendChild(docLink);\n",
              "      }\n",
              "    </script>\n",
              "  </div>\n",
              "\n",
              "\n",
              "<div id=\"df-76a8300d-0edc-4509-902a-3095a3c6bb0f\">\n",
              "  <button class=\"colab-df-quickchart\" onclick=\"quickchart('df-76a8300d-0edc-4509-902a-3095a3c6bb0f')\"\n",
              "            title=\"Suggest charts\"\n",
              "            style=\"display:none;\">\n",
              "\n",
              "<svg xmlns=\"http://www.w3.org/2000/svg\" height=\"24px\"viewBox=\"0 0 24 24\"\n",
              "     width=\"24px\">\n",
              "    <g>\n",
              "        <path d=\"M19 3H5c-1.1 0-2 .9-2 2v14c0 1.1.9 2 2 2h14c1.1 0 2-.9 2-2V5c0-1.1-.9-2-2-2zM9 17H7v-7h2v7zm4 0h-2V7h2v10zm4 0h-2v-4h2v4z\"/>\n",
              "    </g>\n",
              "</svg>\n",
              "  </button>\n",
              "\n",
              "<style>\n",
              "  .colab-df-quickchart {\n",
              "      --bg-color: #E8F0FE;\n",
              "      --fill-color: #1967D2;\n",
              "      --hover-bg-color: #E2EBFA;\n",
              "      --hover-fill-color: #174EA6;\n",
              "      --disabled-fill-color: #AAA;\n",
              "      --disabled-bg-color: #DDD;\n",
              "  }\n",
              "\n",
              "  [theme=dark] .colab-df-quickchart {\n",
              "      --bg-color: #3B4455;\n",
              "      --fill-color: #D2E3FC;\n",
              "      --hover-bg-color: #434B5C;\n",
              "      --hover-fill-color: #FFFFFF;\n",
              "      --disabled-bg-color: #3B4455;\n",
              "      --disabled-fill-color: #666;\n",
              "  }\n",
              "\n",
              "  .colab-df-quickchart {\n",
              "    background-color: var(--bg-color);\n",
              "    border: none;\n",
              "    border-radius: 50%;\n",
              "    cursor: pointer;\n",
              "    display: none;\n",
              "    fill: var(--fill-color);\n",
              "    height: 32px;\n",
              "    padding: 0;\n",
              "    width: 32px;\n",
              "  }\n",
              "\n",
              "  .colab-df-quickchart:hover {\n",
              "    background-color: var(--hover-bg-color);\n",
              "    box-shadow: 0 1px 2px rgba(60, 64, 67, 0.3), 0 1px 3px 1px rgba(60, 64, 67, 0.15);\n",
              "    fill: var(--button-hover-fill-color);\n",
              "  }\n",
              "\n",
              "  .colab-df-quickchart-complete:disabled,\n",
              "  .colab-df-quickchart-complete:disabled:hover {\n",
              "    background-color: var(--disabled-bg-color);\n",
              "    fill: var(--disabled-fill-color);\n",
              "    box-shadow: none;\n",
              "  }\n",
              "\n",
              "  .colab-df-spinner {\n",
              "    border: 2px solid var(--fill-color);\n",
              "    border-color: transparent;\n",
              "    border-bottom-color: var(--fill-color);\n",
              "    animation:\n",
              "      spin 1s steps(1) infinite;\n",
              "  }\n",
              "\n",
              "  @keyframes spin {\n",
              "    0% {\n",
              "      border-color: transparent;\n",
              "      border-bottom-color: var(--fill-color);\n",
              "      border-left-color: var(--fill-color);\n",
              "    }\n",
              "    20% {\n",
              "      border-color: transparent;\n",
              "      border-left-color: var(--fill-color);\n",
              "      border-top-color: var(--fill-color);\n",
              "    }\n",
              "    30% {\n",
              "      border-color: transparent;\n",
              "      border-left-color: var(--fill-color);\n",
              "      border-top-color: var(--fill-color);\n",
              "      border-right-color: var(--fill-color);\n",
              "    }\n",
              "    40% {\n",
              "      border-color: transparent;\n",
              "      border-right-color: var(--fill-color);\n",
              "      border-top-color: var(--fill-color);\n",
              "    }\n",
              "    60% {\n",
              "      border-color: transparent;\n",
              "      border-right-color: var(--fill-color);\n",
              "    }\n",
              "    80% {\n",
              "      border-color: transparent;\n",
              "      border-right-color: var(--fill-color);\n",
              "      border-bottom-color: var(--fill-color);\n",
              "    }\n",
              "    90% {\n",
              "      border-color: transparent;\n",
              "      border-bottom-color: var(--fill-color);\n",
              "    }\n",
              "  }\n",
              "</style>\n",
              "\n",
              "  <script>\n",
              "    async function quickchart(key) {\n",
              "      const quickchartButtonEl =\n",
              "        document.querySelector('#' + key + ' button');\n",
              "      quickchartButtonEl.disabled = true;  // To prevent multiple clicks.\n",
              "      quickchartButtonEl.classList.add('colab-df-spinner');\n",
              "      try {\n",
              "        const charts = await google.colab.kernel.invokeFunction(\n",
              "            'suggestCharts', [key], {});\n",
              "      } catch (error) {\n",
              "        console.error('Error during call to suggestCharts:', error);\n",
              "      }\n",
              "      quickchartButtonEl.classList.remove('colab-df-spinner');\n",
              "      quickchartButtonEl.classList.add('colab-df-quickchart-complete');\n",
              "    }\n",
              "    (() => {\n",
              "      let quickchartButtonEl =\n",
              "        document.querySelector('#df-76a8300d-0edc-4509-902a-3095a3c6bb0f button');\n",
              "      quickchartButtonEl.style.display =\n",
              "        google.colab.kernel.accessAllowed ? 'block' : 'none';\n",
              "    })();\n",
              "  </script>\n",
              "</div>\n",
              "\n",
              "  <div id=\"id_faf2ce40-9824-4dc5-8418-bf6c9e18670c\">\n",
              "    <style>\n",
              "      .colab-df-generate {\n",
              "        background-color: #E8F0FE;\n",
              "        border: none;\n",
              "        border-radius: 50%;\n",
              "        cursor: pointer;\n",
              "        display: none;\n",
              "        fill: #1967D2;\n",
              "        height: 32px;\n",
              "        padding: 0 0 0 0;\n",
              "        width: 32px;\n",
              "      }\n",
              "\n",
              "      .colab-df-generate:hover {\n",
              "        background-color: #E2EBFA;\n",
              "        box-shadow: 0px 1px 2px rgba(60, 64, 67, 0.3), 0px 1px 3px 1px rgba(60, 64, 67, 0.15);\n",
              "        fill: #174EA6;\n",
              "      }\n",
              "\n",
              "      [theme=dark] .colab-df-generate {\n",
              "        background-color: #3B4455;\n",
              "        fill: #D2E3FC;\n",
              "      }\n",
              "\n",
              "      [theme=dark] .colab-df-generate:hover {\n",
              "        background-color: #434B5C;\n",
              "        box-shadow: 0px 1px 3px 1px rgba(0, 0, 0, 0.15);\n",
              "        filter: drop-shadow(0px 1px 2px rgba(0, 0, 0, 0.3));\n",
              "        fill: #FFFFFF;\n",
              "      }\n",
              "    </style>\n",
              "    <button class=\"colab-df-generate\" onclick=\"generateWithVariable('dataset')\"\n",
              "            title=\"Generate code using this dataframe.\"\n",
              "            style=\"display:none;\">\n",
              "\n",
              "  <svg xmlns=\"http://www.w3.org/2000/svg\" height=\"24px\"viewBox=\"0 0 24 24\"\n",
              "       width=\"24px\">\n",
              "    <path d=\"M7,19H8.4L18.45,9,17,7.55,7,17.6ZM5,21V16.75L18.45,3.32a2,2,0,0,1,2.83,0l1.4,1.43a1.91,1.91,0,0,1,.58,1.4,1.91,1.91,0,0,1-.58,1.4L9.25,21ZM18.45,9,17,7.55Zm-12,3A5.31,5.31,0,0,0,4.9,8.1,5.31,5.31,0,0,0,1,6.5,5.31,5.31,0,0,0,4.9,4.9,5.31,5.31,0,0,0,6.5,1,5.31,5.31,0,0,0,8.1,4.9,5.31,5.31,0,0,0,12,6.5,5.46,5.46,0,0,0,6.5,12Z\"/>\n",
              "  </svg>\n",
              "    </button>\n",
              "    <script>\n",
              "      (() => {\n",
              "      const buttonEl =\n",
              "        document.querySelector('#id_faf2ce40-9824-4dc5-8418-bf6c9e18670c button.colab-df-generate');\n",
              "      buttonEl.style.display =\n",
              "        google.colab.kernel.accessAllowed ? 'block' : 'none';\n",
              "\n",
              "      buttonEl.onclick = () => {\n",
              "        google.colab.notebook.generateWithVariable('dataset');\n",
              "      }\n",
              "      })();\n",
              "    </script>\n",
              "  </div>\n",
              "\n",
              "    </div>\n",
              "  </div>\n"
            ],
            "application/vnd.google.colaboratory.intrinsic+json": {
              "type": "dataframe",
              "variable_name": "dataset",
              "summary": "{\n  \"name\": \"dataset\",\n  \"rows\": 90,\n  \"fields\": [\n    {\n      \"column\": \"Nombre\",\n      \"properties\": {\n        \"dtype\": \"string\",\n        \"num_unique_values\": 90,\n        \"samples\": [\n          \"BESTIES\",\n          \"AMARGURA\",\n          \"Leech\"\n        ],\n        \"semantic_type\": \"\",\n        \"description\": \"\"\n      }\n    },\n    {\n      \"column\": \"Bailabilidad\",\n      \"properties\": {\n        \"dtype\": \"number\",\n        \"std\": 0.24834789063232068,\n        \"min\": 0.1,\n        \"max\": 0.957,\n        \"num_unique_values\": 84,\n        \"samples\": [\n          0.437,\n          0.72,\n          0.392\n        ],\n        \"semantic_type\": \"\",\n        \"description\": \"\"\n      }\n    },\n    {\n      \"column\": \"Energ\\u00eda\",\n      \"properties\": {\n        \"dtype\": \"number\",\n        \"std\": 0.14365525428919704,\n        \"min\": 0.45,\n        \"max\": 0.991,\n        \"num_unique_values\": 80,\n        \"samples\": [\n          0.797,\n          0.63,\n          0.787\n        ],\n        \"semantic_type\": \"\",\n        \"description\": \"\"\n      }\n    },\n    {\n      \"column\": \"G\\u00e9nero\",\n      \"properties\": {\n        \"dtype\": \"number\",\n        \"std\": 0,\n        \"min\": 0,\n        \"max\": 1,\n        \"num_unique_values\": 2,\n        \"samples\": [\n          0,\n          1\n        ],\n        \"semantic_type\": \"\",\n        \"description\": \"\"\n      }\n    }\n  ]\n}"
            }
          },
          "metadata": {},
          "execution_count": 24
        }
      ]
    },
    {
      "cell_type": "markdown",
      "source": [
        "Puedes utilizar mlektic justo como hicimos antes, pero especificando que la variable de entrada (`input_columns`) es <<bailabilidad>>. Debajo te dejaré comentarios como una guía de los pasos que debes considerar:\n"
      ],
      "metadata": {
        "id": "rTAWwHj7bRX4"
      }
    },
    {
      "cell_type": "code",
      "source": [
        "# Se generan los conjuntos de entrenamiento y prueba para las entradas (x)\n",
        "# y salidas (y), con una proporción 80-20. Se eleccionan las entradas con\n",
        "# input_columns y la salida con output_column.\n",
        "\n",
        "\n",
        "# Se crea el objeto para realizar la regresión lineal.\n",
        "\n",
        "\n",
        "# Se entrena el modelo.\n",
        "\n",
        "\n",
        "# Se calculan las métricas de evaluación."
      ],
      "metadata": {
        "id": "YBw3261KbLD4"
      },
      "execution_count": null,
      "outputs": []
    },
    {
      "cell_type": "markdown",
      "source": [
        "<br>"
      ],
      "metadata": {
        "id": "nrXTjx6RbW2p"
      }
    },
    {
      "cell_type": "markdown",
      "source": [
        "Hemos concluido por hoy. Has evaluado y analizado el desempeño de dos modelos de clasificación, demostrándote la importancia del uso de este tipo de métricas, cómo implementarlas, analizarlas, e interpretarlas."
      ],
      "metadata": {
        "id": "dPv9pJv8bTzY"
      }
    },
    {
      "cell_type": "markdown",
      "source": [
        "▶ [Regresar a la lección](https://dialektico.com/metricas-clasificacion-matriz-confusion/) 🧙"
      ],
      "metadata": {
        "id": "ixgkHEdvbQVQ"
      }
    },
    {
      "cell_type": "code",
      "source": [
        "# Dialektico Machine learning practices © 2024 by Daniel Antonio García Escobar\n",
        "# is licensed under CC BY-NC 4.0. To view a copy of this license,\n",
        "# visit https://creativecommons.org/licenses/by-nc/4.0/\n",
        "\n",
        "# Creative Commons Attribution-NonCommercial-ShareAlike 4.0 International\n",
        "# Public License"
      ],
      "metadata": {
        "id": "Z7vBuq0sbdDp"
      },
      "execution_count": null,
      "outputs": []
    }
  ]
}