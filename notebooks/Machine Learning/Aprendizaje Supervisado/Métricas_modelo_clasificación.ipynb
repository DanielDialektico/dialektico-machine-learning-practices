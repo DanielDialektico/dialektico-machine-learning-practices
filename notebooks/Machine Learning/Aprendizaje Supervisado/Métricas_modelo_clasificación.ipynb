{
  "nbformat": 4,
  "nbformat_minor": 0,
  "metadata": {
    "colab": {
      "provenance": [],
      "toc_visible": true,
      "authorship_tag": "ABX9TyO4/IiM9IkRLs9l6OlPyIuv",
      "include_colab_link": true
    },
    "kernelspec": {
      "name": "python3",
      "display_name": "Python 3"
    },
    "language_info": {
      "name": "python"
    }
  },
  "cells": [
    {
      "cell_type": "markdown",
      "metadata": {
        "id": "view-in-github",
        "colab_type": "text"
      },
      "source": [
        "<a href=\"https://colab.research.google.com/github/DanielDialektico/dialektico-machine-learning-practices/blob/main/notebooks/Machine%20Learning/Aprendizaje%20Supervisado/M%C3%A9tricas_modelo_clasificaci%C3%B3n.ipynb\" target=\"_parent\"><img src=\"https://colab.research.google.com/assets/colab-badge.svg\" alt=\"Open In Colab\"/></a>"
      ]
    },
    {
      "cell_type": "markdown",
      "source": [
        "<img src=\"https://dialektico.com/wp-content/uploads/2023/03/MiniLogoW4.png\" alt=\"Dialéktico Logo\" />"
      ],
      "metadata": {
        "id": "ms6VNhA5VMKS"
      }
    },
    {
      "cell_type": "markdown",
      "source": [
        "# **Evaluación de modelos de clasificación 📑**"
      ],
      "metadata": {
        "id": "fW2xRDMsVQQy"
      }
    },
    {
      "cell_type": "markdown",
      "source": [
        "# **Introducción**"
      ],
      "metadata": {
        "id": "22eZjG8uVTi6"
      }
    },
    {
      "cell_type": "markdown",
      "source": [
        "En una [práctica anterior](https://colab.research.google.com/github/DanielDialektico/dialektico-machine-learning-practices/blob/main/notebooks/Machine%20Learning/Aprendizaje%20Supervisado/Regresi%C3%B3n_Log%C3%ADstica.ipynb), ya hemos entrenado un modelo de **regresión logística**, el cual fungió como un modelo clasificador de **canciones** en **géneros musicales** respecto a ciertas características. Ahora calcularemos el rendimiento del modelo basándonos en lo que hemos visto en nuestra travesía sobre [métricas para evaluación de modelos de clasificación](https://dialektico.com/metricas-modelos-clasificacion/).\n",
        "\n",
        "<br>\n",
        "<center><img src=\"https://dialektico.com/wp-content/uploads/2025/01/MEMC_Colab.png\" width=\"300\" /></center>"
      ],
      "metadata": {
        "id": "TIfdetXDVYJy"
      }
    },
    {
      "cell_type": "markdown",
      "source": [
        "<br>"
      ],
      "metadata": {
        "id": "LHAgeJWwXnHZ"
      }
    },
    {
      "cell_type": "markdown",
      "source": [
        "#**Objetivo**"
      ],
      "metadata": {
        "id": "kMJBHShvXkV6"
      }
    },
    {
      "cell_type": "markdown",
      "source": [
        "El objetivo de esta práctica es obtener valores de **métricas** de evaluación del modelo de clasificación que hemos entrenado anteriormente y analizar los resultados.\n",
        "\n",
        "Utilizaremos las siguientes mediciones:\n",
        "\n",
        "* Exactitud (accuracy).\n",
        "* Precisión (precision).\n",
        "* Sensibilidad (recall).\n",
        "* Puntaje F1 (F1 score).\n",
        "* Pérdida de entropía cruzada (cross entropy).\n",
        "\n",
        "Con estos valores determinaremos qué tan bueno es el modelo para realizar clasificaciones sobre el **conjunto de datos de prueba**.\n",
        "\n",
        "<br>\n",
        "<center><img src=\"https://dialektico.com/wp-content/uploads/2025/01/MEMC_Colab_obj.png\" width=\"400\" /></center>"
      ],
      "metadata": {
        "id": "bZV41gzkX3F5"
      }
    },
    {
      "cell_type": "markdown",
      "source": [
        "<br>"
      ],
      "metadata": {
        "id": "eXmuWJm2bGOZ"
      }
    },
    {
      "cell_type": "markdown",
      "source": [
        "#Preparación de datos y librerías"
      ],
      "metadata": {
        "id": "y7tgxFD1bFyB"
      }
    },
    {
      "cell_type": "markdown",
      "source": [
        "Dado que utilizaremos **conjuntos de datos** de una exploración pasada, nos traeremos los datos ya preprocesados de canciones y sus características.\n",
        "\n",
        "Primero, instalaremos e importaremos las librerías que utilizaremos."
      ],
      "metadata": {
        "id": "fnAl2CRrbJIp"
      }
    },
    {
      "cell_type": "markdown",
      "source": [
        "***Nota*:** *Las instalaciones se realizan a pesar de que algunas librerías ya están integradas de forma nativa en Colab, esto para asegurar que el Notebook no presente problemas de ejecución si se dan cambios en la sintaxis entre versiones de librerías.*"
      ],
      "metadata": {
        "id": "l7hoEI_1dw7w"
      }
    },
    {
      "cell_type": "code",
      "source": [
        "# Se instalan las librerías necesarias.\n",
        "!pip install pandas==2.2.2\n",
        "!pip install matplotlib==3.10.0\n",
        "!pip install mlektic==0.0.10"
      ],
      "metadata": {
        "id": "Sby_14AlVTza"
      },
      "execution_count": null,
      "outputs": []
    },
    {
      "cell_type": "markdown",
      "source": [
        "Se importan las librerías y se establecen configuraciones adicionales:"
      ],
      "metadata": {
        "id": "E61x-fZ7jwQ7"
      }
    },
    {
      "cell_type": "code",
      "source": [
        "# Se importan las librerías.\n",
        "from mlektic.logistic_reg import LogisticRegressionArcht\n",
        "from mlektic import preprocessing\n",
        "import pandas as pd\n",
        "import matplotlib.pyplot as plt\n",
        "import numpy as np\n",
        "import warnings\n",
        "\n",
        "# Se filtran las advertencias.\n",
        "warnings.filterwarnings('ignore')\n",
        "\n",
        "# Se define el estilo de las gráficas.\n",
        "plt.style.use('seaborn-v0_8-whitegrid')\n",
        "\n",
        "# Se define el despliegue de flotantes en dataframes.\n",
        "pd.options.display.float_format = '{:.2f}'.format"
      ],
      "metadata": {
        "id": "9BmOjSybfTMY"
      },
      "execution_count": null,
      "outputs": []
    },
    {
      "cell_type": "markdown",
      "source": [
        "Como ya he mencionado con antelación, una de las librerías instaladas, y que utilizaremos para **entrenar** y **evaluar** los modelos, es la **librería** [mlektic](https://github.com/DanielDialektico/mlektic) que he desarrollado personalmente para este curso, y que estaremos usando ocasionalmente para aprender conceptos clave de **machine learning**. Sin embargo, considera que estas tareas se pueden realizar con otras librerías que veremos poco a poco a lo largo del curso (en nuestras experiencias pasadas, utilizamos [Sklearn](https://scikit-learn.org/stable/), la cual recomiendo mucho aprender a utilizar, y que estaremos invocando más adelante)."
      ],
      "metadata": {
        "id": "IfLWLUmxgCSI"
      }
    },
    {
      "cell_type": "markdown",
      "source": [
        "Ahora cargamos el conjunto de datos de canciones:"
      ],
      "metadata": {
        "id": "63T8VLZXgTHw"
      }
    },
    {
      "cell_type": "code",
      "source": [
        "dataset = pd.read_csv('https://github.com/DanielDialektico/dialektico-machine-learning-practices/raw/refs/heads/main/data/Spotify_genres_prep.csv', encoding='latin1')\n",
        "dataset"
      ],
      "metadata": {
        "id": "vZekqrpYf60h"
      },
      "execution_count": null,
      "outputs": []
    },
    {
      "cell_type": "markdown",
      "source": [
        "<br>"
      ],
      "metadata": {
        "id": "HiqnxjSxicu3"
      }
    },
    {
      "cell_type": "markdown",
      "source": [
        "# **Modelo de clasificación**"
      ],
      "metadata": {
        "id": "oPAfZfkejBh4"
      }
    },
    {
      "cell_type": "markdown",
      "source": [
        "Ya que tenemos los **datos** cargados, utilizaremos una **regresión logística** para modelar la relación entre las variables de **entrada** y **salida**. Anteriormente habíamos entrenado un modelo que clasificaba canciones en géneros musicales (**Reggaetón** y **black metal**) conforme a su grado de **bailabilidad**. Esta vez, haremos una pequeña variación y calcularemos las probabilidades respecto a la **energía** de la canción (una medida de la intensidad o actividad de la misma)."
      ],
      "metadata": {
        "id": "Rm86CujMjFB_"
      }
    },
    {
      "cell_type": "markdown",
      "source": [
        "Entrenamos el modelo con mlektic como se muestra a continuación:"
      ],
      "metadata": {
        "id": "PEPkAKsrkrPG"
      }
    },
    {
      "cell_type": "code",
      "source": [
        "# Se generan los conjuntos de entrenamiento y prueba para las entradas (x) y salidas (y), con una proporción 80-20. Se eleccionan las entradas con input_columns\n",
        "# y la salida con output_column.\n",
        "train_set, test_set = preprocessing.pd_dataset(dataset, input_columns=['Energía'], output_column='Género', train_fraction = 0.8)\n",
        "\n",
        "# Se crea el objeto para realizar la regresión lineal.\n",
        "log_reg  = LogisticRegressionArcht()\n",
        "\n",
        "# Se entrena el modelo.\n",
        "log_reg.train(train_set)"
      ],
      "metadata": {
        "id": "CjbWGAYlgcVq"
      },
      "execution_count": null,
      "outputs": []
    },
    {
      "cell_type": "markdown",
      "source": [
        "Graficamos los resultados:"
      ],
      "metadata": {
        "id": "Q--xdsylSWBJ"
      }
    },
    {
      "cell_type": "code",
      "source": [
        "# Se crea un rango de valores para el eje x.\n",
        "x_range = np.linspace(dataset['Energía'].min() - 0.7, dataset['Energía'].max() + 0.7, 1000).reshape(-1, 1)\n",
        "\n",
        "# Se calculan las probabilidades.\n",
        "logistic_curve = log_reg.predict_prob(x_range)[:, 1]\n",
        "\n",
        "# Se grafican los puntos y la curva.\n",
        "plt.figure(figsize=(7, 7))\n",
        "\n",
        "# Se obtienen las entradas y salidas del conjunto de entrenamiento.\n",
        "train_x, train_y = train_set\n",
        "train_x = train_x.squeeze()  # Asegurarse de que sea un array 1D.\n",
        "\n",
        "# Se grafican los puntos de las dos clases.\n",
        "plt.scatter(train_x[train_y == 0], log_reg.predict_prob(train_x[train_y == 0].reshape(-1, 1))[:, 1], color='blue', s=50, label='Clase 0')\n",
        "plt.scatter(train_x[train_y == 1], log_reg.predict_prob(train_x[train_y == 1].reshape(-1, 1))[:, 1], color='red', s=50, label='Clase 1')\n",
        "\n",
        "# Se grafica la curva logística.\n",
        "plt.plot(x_range, logistic_curve, color='black', linewidth=2, label='Curva sigmoidea')\n",
        "\n",
        "# Se configura la gráfica.\n",
        "plt.title(\"Función logística\", fontsize=14, fontweight='bold')\n",
        "plt.xlabel(\"Energía\", fontsize=12, fontweight='bold')\n",
        "plt.ylabel(\"Probabilidad\", fontsize=12, fontweight='bold')\n",
        "plt.ylim(-0.1, 1.1)\n",
        "plt.xlim(dataset['Energía'].min() - 0.5, dataset['Energía'].max() + 0.5)\n",
        "plt.legend(loc='upper left', fontsize=11)\n",
        "plt.suptitle(\"Fig. 1 Curva de probabilidad generada por el modelo resultante, donde recaen los puntos correspondientes a cada dato de entrada.\", fontproperties={'family': 'DejaVu Sans', 'size': 11}, y=-0.001)\n",
        "plt.grid(True)\n",
        "plt.show()\n"
      ],
      "metadata": {
        "id": "suGrzOWGmHCI"
      },
      "execution_count": null,
      "outputs": []
    },
    {
      "cell_type": "markdown",
      "source": [
        "Podrás observar que parece que las **predicciones** (puntos rojos y azules) tienen una separación relativamente consistente. Sin embargo, también es notoria la revoltura de algunos datos, lo que indica una **precisión** de predicción no perfecta. Para no atenernos solo a nuestras percepciones, utilizaremos las métricas de rendimiento propuestas."
      ],
      "metadata": {
        "id": "jTd8qFelNHrK"
      }
    },
    {
      "cell_type": "markdown",
      "source": [
        "<center><img src=\"https://dialektico.com/wp-content/uploads/2025/01/MEMC_KC1.png\" width=\"400\" /></center>"
      ],
      "metadata": {
        "id": "gxJvcVOwnPpa"
      }
    },
    {
      "cell_type": "markdown",
      "source": [
        "<center><img src=\"https://dialektico.com/wp-content/uploads/2025/01/MEMC_DC1.png\" width=\"400\" /></center>"
      ],
      "metadata": {
        "id": "WjG1N9N4n07a"
      }
    },
    {
      "cell_type": "markdown",
      "source": [
        "<br>"
      ],
      "metadata": {
        "id": "tluPBXZwSdjR"
      }
    },
    {
      "cell_type": "markdown",
      "source": [
        "# **Evaluando el modelo**"
      ],
      "metadata": {
        "id": "NdKoaSn8SfRB"
      }
    },
    {
      "cell_type": "markdown",
      "source": [
        "Ahora evaluaremos las **capacidades predictivas** del modelo ajustado: ¿qué tan bien realiza las clasificaciones de datos?\n",
        "\n",
        "Primero, obtendremos la **matriz de confusión**, la cual nos mostrará la cantidad de **positivos** y **negativos** predichos correctamente:"
      ],
      "metadata": {
        "id": "nxrIYdR1SiNh"
      }
    },
    {
      "cell_type": "code",
      "source": [
        "# Se obtiene la matriz de confusión utilizando el conjunto de datos de prueba (test_set).\n",
        "confusion_matrix = log_reg.eval(test_set, 'confusion_matrix', to_df=True)\n",
        "\n",
        "confusion_matrix"
      ],
      "metadata": {
        "id": "X2-k2uR_sJq_"
      },
      "execution_count": null,
      "outputs": []
    },
    {
      "cell_type": "markdown",
      "source": [
        "De esta podemos notar que tenemos lo siguiente:\n",
        "\n",
        "- 8 Verdaderos Positivos, es decir, 8 valores categorizados correctamente en la clase 1 (Reggaetón).\n",
        "- 0 Falsos Positivos, es decir, 0 valores categorizados incorrectamente en la clase 1 (Reggaetón).\n",
        "- 7 Verdaderos Negativos, es decir, 7 valores categorizados correctamente en la clase 0 (black metal).\n",
        "- 3 Falsos Negativos, es decir, 3 valores categorizados incorrectamente en la clase 0 (black metal).\n"
      ],
      "metadata": {
        "id": "dLDX9uM9fw3f"
      }
    },
    {
      "cell_type": "markdown",
      "source": [
        "Desde aquí podemos notar algunos detalles, por ejemplo, no hay **falsos positivos**, pero sí hay **verdaderos positivos**, por lo que la predicción de positivos ha sido altamente efectiva. Sin embargo, sí tenemos predicciones erróneas en los **falsos negativos**, lo que implica predicciones incorrectas."
      ],
      "metadata": {
        "id": "b01KEdXQg_Xe"
      }
    },
    {
      "cell_type": "markdown",
      "source": [
        "Estas son solo premisas inmediatas, pasemos al cálculo de las métricas de evaluación basadas en la matriz de confusión."
      ],
      "metadata": {
        "id": "8RkwHxdphT5e"
      }
    },
    {
      "cell_type": "markdown",
      "source": [
        "<br>"
      ],
      "metadata": {
        "id": "1HHT26S1pk8J"
      }
    },
    {
      "cell_type": "markdown",
      "source": [
        "## **Exactitud (accuracy)**"
      ],
      "metadata": {
        "id": "921uHCiFpWrh"
      }
    },
    {
      "cell_type": "markdown",
      "source": [
        "Comenzamos con el cálculo de la **exactitud** de clasificación del modelo:"
      ],
      "metadata": {
        "id": "5Qu5wjDlpcYh"
      }
    },
    {
      "cell_type": "code",
      "source": [
        "accuracy = log_reg.eval(test_set, 'accuracy')\n",
        "print(f'La exactitud del modelo es aproximadamente: {accuracy:.2f}')"
      ],
      "metadata": {
        "id": "Y5jqurwxfgiH"
      },
      "execution_count": null,
      "outputs": []
    },
    {
      "cell_type": "markdown",
      "source": [
        "### **Interpretación**"
      ],
      "metadata": {
        "id": "t2LlLS-BqODa"
      }
    },
    {
      "cell_type": "markdown",
      "source": [
        "Recordemos que este valor representa la proporción de **predicciones** correctas sobre el total de casos. El resultado indica que el modelo clasifica correctamente el género del 83% de las canciones, lo que significa un rendimiento aceptable tomando en cuenta que la variable <<**Energía**>> puede presentar pequeñas variaciones entre un género y otro.\n",
        "También debemos tomar en cuenta que esta métrica no considera el equilibrio entre clases, es decir, puede ser afectada si las clases están desbalanceadas, lo cual en este caso no aplica."
      ],
      "metadata": {
        "id": "tFxhY_Y4p0tR"
      }
    },
    {
      "cell_type": "markdown",
      "source": [
        "<br>"
      ],
      "metadata": {
        "id": "OQWKciNdq12p"
      }
    },
    {
      "cell_type": "markdown",
      "source": [
        "## **Precisión (precision)**"
      ],
      "metadata": {
        "id": "tdeV0Zidq4Oh"
      }
    },
    {
      "cell_type": "markdown",
      "source": [
        "Ahora obtenemos la exactitud de clasificación del modelo:"
      ],
      "metadata": {
        "id": "lvEflfwfWOJh"
      }
    },
    {
      "cell_type": "code",
      "source": [
        "precision = log_reg.eval(test_set, 'precision')\n",
        "print(f'La precisión del modelo es aproximadamente: {precision:.2f}')"
      ],
      "metadata": {
        "id": "UfEuB1f1q86R"
      },
      "execution_count": null,
      "outputs": []
    },
    {
      "cell_type": "markdown",
      "source": [
        "### **Interpretación**"
      ],
      "metadata": {
        "id": "k-dkw9G_sYfx"
      }
    },
    {
      "cell_type": "markdown",
      "source": [
        "Para interpretar esta medida debemos rememorar que esta indica qué tan precisas son las **clasificaciones positivas** del modelo (de la clase 1, es decir, Reggaetón).\n",
        "\n",
        "En este caso, todas las canciones categorizadas como parte del género Reggaetón realmente pertenecen a este género. No hay falsos positivos (FP), lo que demuestra un excelente rendimiento en esta métrica.\n"
      ],
      "metadata": {
        "id": "ACql4hBgq7iR"
      }
    },
    {
      "cell_type": "markdown",
      "source": [
        "<br>"
      ],
      "metadata": {
        "id": "figmY-z9X1tx"
      }
    },
    {
      "cell_type": "markdown",
      "source": [
        "## **Sensibilidad (recall)**"
      ],
      "metadata": {
        "id": "ArevTDEXWDzZ"
      }
    },
    {
      "cell_type": "markdown",
      "source": [
        "Proseguimos con el cálculo de la sensibilidad:"
      ],
      "metadata": {
        "id": "hlNGj7eyWR6Z"
      }
    },
    {
      "cell_type": "code",
      "source": [
        "recall = log_reg.eval(test_set, 'recall')\n",
        "print(f'La sensibilidad del modelo es aproximadamente: {recall:.2f}')"
      ],
      "metadata": {
        "id": "d6zRR4c0WL4K"
      },
      "execution_count": null,
      "outputs": []
    },
    {
      "cell_type": "markdown",
      "source": [
        "### **Interpretación**"
      ],
      "metadata": {
        "id": "veaeBFJCXJMZ"
      }
    },
    {
      "cell_type": "markdown",
      "source": [
        "La **sensibilidad** está midiendo la proporción de verdaderos positivos correctamente identificados entre todas las canciones que son realmente de Reggaetón. Aquí, el modelo identifica correctamente el 73% de las canciones de Reggaetón, lo que indica que algunas canciones de este género no se detectan correctamente, es decir, hay falsos negativos (recordemos que un falso negativo es un positivo mal clasificado), como puede constatarse en la matriz de confusión.\n",
        "\n",
        "La presencia de falsos negativos indica que se clasificaron mal algunos datos que en realidad forman parte de la clase positiva. Si deseamos que nuestro modelo sea altamente capaz en la identificación de la clase positiva disminuyendo los falsos negativos, tendríamos que optimizar el modelo para mejorar esta métrica.\n",
        "\n",
        "\n",
        "Además, recordemos que la energía es una medida de la intensidad de una canción, y, por lo visto en la **Figura 1**, la tendencia es que, a menor energía, mayor es la **probabilidad** de pertenecer a la clase 1, o dicho de otra forma: las canciones de Reggaetón suelen ser menos energéticas que las de black metal, y, a juzgar por la presencia de falsos negativos, hay canciones de Reggaetón con energías que pareciera que corresponden al black metal."
      ],
      "metadata": {
        "id": "PXqYn5y3Wat5"
      }
    },
    {
      "cell_type": "markdown",
      "source": [
        "<br>"
      ],
      "metadata": {
        "id": "gGQ1lFYDX3fx"
      }
    },
    {
      "cell_type": "markdown",
      "source": [
        "## **Puntaje F1 (F1 Score)**"
      ],
      "metadata": {
        "id": "1jyDe9gKXHS6"
      }
    },
    {
      "cell_type": "markdown",
      "source": [
        "Vayamos con la última métrica de la matriz de confusión. La calculamos como sigue:"
      ],
      "metadata": {
        "id": "DXbA3XbZXT75"
      }
    },
    {
      "cell_type": "code",
      "source": [
        "f1_score = log_reg.eval(test_set, 'f1_score')\n",
        "print(f'El puntaje F1 del modelo es aproximadamente: {f1_score:.2f}')"
      ],
      "metadata": {
        "id": "88bU_-zbXYN5"
      },
      "execution_count": null,
      "outputs": []
    },
    {
      "cell_type": "markdown",
      "source": [
        "### **Interpretación**"
      ],
      "metadata": {
        "id": "v4w-Fg4xZ3x5"
      }
    },
    {
      "cell_type": "markdown",
      "source": [
        "Es necesario recordar que el **puntaje F1** es la media armónica entre la precisión y el recall, utilizada para balancear estas métricas.\n",
        "\n",
        "Un F1-Score de 0.84 indica un buen balance entre la capacidad del modelo de predecir correctamente las canciones de Reggaetón y reducir los falsos positivos y negativos. Esto quiere decir que, si no priorizamos la **precisión** o la **sensibilidad**, esta métrica está arrojando un balance aceptable de las capacidades predictivas del modelo."
      ],
      "metadata": {
        "id": "9g9bljbYXTNy"
      }
    },
    {
      "cell_type": "markdown",
      "source": [
        "<br>"
      ],
      "metadata": {
        "id": "SEKGFHavX4pJ"
      }
    },
    {
      "cell_type": "markdown",
      "source": [
        "## **Entropía Cruzada (Cross Entropy)**"
      ],
      "metadata": {
        "id": "9K3HmXQOXOyp"
      }
    },
    {
      "cell_type": "markdown",
      "source": [
        "Por último, utilizaremos la [función de pérdida logística](https://dialektico.com/funcion-perdida-regresion-logistica/) para obtener una medida de qué tanto se aproximan las probabilidades a las etiquetas del terreno fundamental (valores reales):"
      ],
      "metadata": {
        "id": "YfOgUEhzXKPB"
      }
    },
    {
      "cell_type": "code",
      "source": [
        "binary_crossentropy = log_reg.eval(test_set, 'binary_crossentropy')\n",
        "print(f'La entropía cruzada del modelo es aproximadamente: {binary_crossentropy:.2f}')"
      ],
      "metadata": {
        "id": "gXKU1gFOYWRp"
      },
      "execution_count": null,
      "outputs": []
    },
    {
      "cell_type": "markdown",
      "source": [
        "La **entropía cruzad**a se interpreta como una medida de qué tan bien el modelo predice las probabilidades correctas para las clases (en este caso, Reggaetón y Black Metal). Específicamente, la entropía cruzada evalúa el nivel de \"incertidumbre\" o \"error\" entre las predicciones del modelo y las etiquetas reales. Un valor de 0.578 sugiere que el modelo todavía tiene margen para mejorar, aunque no está muy lejos de ser óptimo. Para modelos bien entrenados, esta métrica tiende hacia 0. Por lo tanto, el modelo podría considerarse razonablemente bueno, pero no perfecto."
      ],
      "metadata": {
        "id": "H43-C3F4ZmjJ"
      }
    },
    {
      "cell_type": "markdown",
      "source": [
        "<br>"
      ],
      "metadata": {
        "id": "0iKnrKZ6a95x"
      }
    },
    {
      "cell_type": "markdown",
      "source": [
        "## **Conclusión de evaluaciones**"
      ],
      "metadata": {
        "id": "VpxKC6p4Yr7R"
      }
    },
    {
      "cell_type": "markdown",
      "source": [
        "Podemos concluir lo siguiente sobre las métricas aquí analizadas:\n",
        "\n",
        "- La **precisión** perfecta (1.0) implica que el modelo tiene un excelente desempeño evitando errores al identificar canciones que no son Reggaetón. La alta **exactitud** (83.33%) y **puntaje F1** (0.84) muestran que el modelo generaliza bien para este problema.\n",
        "\n",
        "Sin embargo, el **recall** de 72.73% indica que el modelo falla al clasificar correctamente algunas canciones de Reggaetón, lo cual es relevante si es más importante detectar todas las canciones de este género (dependerá de la naturaleza del problema).\n",
        "\n",
        "En conclusión, este modelo es confiable para aplicaciones donde es crítico evitar falsos positivos (por ejemplo, identificar exclusivamente canciones de Reggaetón sin clasificar Black Metal erróneamente como tal).\n",
        "Sin embargo, si la prioridad es minimizar los falsos negativos, se podría ajustar el modelo para mejorar el recall.\n",
        "\n",
        "Las formas de mejorar el rendimiento de modelos son variadas y las estaremos explorando muy pronto en una travesía futura."
      ],
      "metadata": {
        "id": "kP_CiZYqYcbZ"
      }
    },
    {
      "cell_type": "markdown",
      "source": [
        "<br>"
      ],
      "metadata": {
        "id": "u4fKVgx-a7zo"
      }
    },
    {
      "cell_type": "markdown",
      "source": [
        "# **Ejercicio**"
      ],
      "metadata": {
        "id": "ytmypv3Ha6tI"
      }
    },
    {
      "cell_type": "markdown",
      "source": [
        "Hasta aquí concluimos con esta práctica, pero aún puedes poner a prueba tus conocimientos realizando mediciones sobre el desempeño de un modelo ajustado a la variable bailabilidad.\n",
        "\n",
        "Para esto usamos el mismo conjunto de datos:"
      ],
      "metadata": {
        "id": "e1tXImVebAOY"
      }
    },
    {
      "cell_type": "code",
      "source": [
        "dataset"
      ],
      "metadata": {
        "id": "lFBabhuG3kYe"
      },
      "execution_count": null,
      "outputs": []
    },
    {
      "cell_type": "markdown",
      "source": [
        "Puedes utilizar mlektic justo como hicimos antes, pero especificando que la variable de entrada (`input_columns`) es <<bailabilidad>>. Debajo te dejaré comentarios como una guía de los pasos que debes considerar:\n"
      ],
      "metadata": {
        "id": "rTAWwHj7bRX4"
      }
    },
    {
      "cell_type": "code",
      "source": [
        "# Se generan los conjuntos de entrenamiento y prueba para las entradas (x)\n",
        "# y salidas (y), con una proporción 80-20. Se eleccionan las entradas con\n",
        "# input_columns y la salida con output_column.\n",
        "\n",
        "\n",
        "# Se crea el objeto para realizar la regresión lineal.\n",
        "\n",
        "\n",
        "# Se entrena el modelo.\n",
        "\n",
        "\n",
        "# Se calculan las métricas de evaluación."
      ],
      "metadata": {
        "id": "YBw3261KbLD4"
      },
      "execution_count": null,
      "outputs": []
    },
    {
      "cell_type": "markdown",
      "source": [
        "<br>"
      ],
      "metadata": {
        "id": "nrXTjx6RbW2p"
      }
    },
    {
      "cell_type": "markdown",
      "source": [
        "Hemos concluido por hoy. Has evaluado y analizado el desempeño de dos modelos de clasificación, demostrándote la importancia del uso de este tipo de métricas, cómo implementarlas, analizarlas, e interpretarlas."
      ],
      "metadata": {
        "id": "dPv9pJv8bTzY"
      }
    },
    {
      "cell_type": "markdown",
      "source": [
        "▶ [Regresar a la lección](https://dialektico.com/metricas-clasificacion-matriz-confusion/) 🧙"
      ],
      "metadata": {
        "id": "ixgkHEdvbQVQ"
      }
    },
    {
      "cell_type": "code",
      "source": [
        "# Dialektico Machine learning practices © 2024 by Daniel Antonio García Escobar\n",
        "# is licensed under CC BY-NC 4.0. To view a copy of this license,\n",
        "# visit https://creativecommons.org/licenses/by-nc/4.0/\n",
        "\n",
        "# Creative Commons Attribution-NonCommercial-ShareAlike 4.0 International\n",
        "# Public License"
      ],
      "metadata": {
        "id": "Z7vBuq0sbdDp"
      },
      "execution_count": null,
      "outputs": []
    }
  ]
}