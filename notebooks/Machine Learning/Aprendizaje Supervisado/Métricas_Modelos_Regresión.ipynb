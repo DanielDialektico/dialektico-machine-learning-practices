{
  "nbformat": 4,
  "nbformat_minor": 0,
  "metadata": {
    "colab": {
      "provenance": [],
      "toc_visible": true,
      "authorship_tag": "ABX9TyNRtcSaUEr8T/OXztRJKwAS",
      "include_colab_link": true
    },
    "kernelspec": {
      "name": "python3",
      "display_name": "Python 3"
    },
    "language_info": {
      "name": "python"
    }
  },
  "cells": [
    {
      "cell_type": "markdown",
      "metadata": {
        "id": "view-in-github",
        "colab_type": "text"
      },
      "source": [
        "<a href=\"https://colab.research.google.com/github/DanielDialektico/dialektico-machine-learning-practices/blob/main/notebooks/Machine%20Learning/Aprendizaje%20Supervisado/M%C3%A9tricas_Modelos_Regresi%C3%B3n.ipynb\" target=\"_parent\"><img src=\"https://colab.research.google.com/assets/colab-badge.svg\" alt=\"Open In Colab\"/></a>"
      ]
    },
    {
      "cell_type": "markdown",
      "source": [
        "<img src=\"https://dialektico.com/wp-content/uploads/2023/03/MiniLogoW4.png\" alt=\"Dialéktico Logo\" />"
      ],
      "metadata": {
        "id": "I0pEgzQW1GMF"
      }
    },
    {
      "cell_type": "markdown",
      "source": [
        "# **Evaluación de modelos de regresión 📑**\n",
        "---"
      ],
      "metadata": {
        "id": "Qa6aym27l3X0"
      }
    },
    {
      "cell_type": "markdown",
      "source": [
        "# **Introducción**"
      ],
      "metadata": {
        "id": "diQbOuhrmGH2"
      }
    },
    {
      "cell_type": "markdown",
      "source": [
        "En una [práctica anterior](https://colab.research.google.com/github/DanielDialektico/dialektico-machine-learning-practices/blob/main/notebooks/Machine%20Learning/Aprendizaje%20Supervisado/Regresi%C3%B3n_Lineal_Simple.ipynb), ya hemos entrenado un modelo de **regresión lineal**, y como recordarás, utilizamos al final un par de métricas para evaluar su desempeño. Esta vez lo haremos de forma más organizada y consciente, basándonos en lo que hemos revisado en nuestra travesía sobre [métricas para evaluación de modelos de regresión](https://dialektico.com/metricas-de-evaluacion-de-modelos-de-regresion/).\n",
        "\n",
        "<br>\n",
        "<center><img src=\"https://dialektico.com/wp-content/uploads/2024/11/MEMR_colab.png\" width=\"300\" /></center>"
      ],
      "metadata": {
        "id": "QUYZlI-wmJIu"
      }
    },
    {
      "cell_type": "markdown",
      "source": [
        "<br>"
      ],
      "metadata": {
        "id": "Dq-QqVAQ1iQV"
      }
    },
    {
      "cell_type": "markdown",
      "source": [
        "#**Objetivo**"
      ],
      "metadata": {
        "id": "pLE-ED59cNMd"
      }
    },
    {
      "cell_type": "markdown",
      "source": [
        "El objetivo de esta práctica es obtener valores de **métricas** de evaluación del modelo de regresión que hemos entrenado anteriormente.\n",
        "\n",
        "Utilizaremos las siguientes mediciones:\n",
        "\n",
        "*   Error Cuadrático Medio (MSE).\n",
        "*   Error Absoluto Medio (MAE).\n",
        "*   Coeficiente de Determinación (R2).\n",
        "*   Coeficiente de Correlación de Pearson.\n",
        "\n",
        "Con estos valores determinaremos qué tan bueno es el modelo para realizar predicciones sobre el conjunto de datos de prueba.\n",
        "\n",
        "<br>\n",
        "<center><img src=\"https://dialektico.com/wp-content/uploads/2024/11/MEAR_colab_obj_2.jpg\" width=\"400\" /></center>"
      ],
      "metadata": {
        "id": "_3Y_KtH_cOql"
      }
    },
    {
      "cell_type": "markdown",
      "source": [
        "<br>"
      ],
      "metadata": {
        "id": "x_TR571C_bg7"
      }
    },
    {
      "cell_type": "markdown",
      "source": [
        "#Preparación de datos y librerías"
      ],
      "metadata": {
        "id": "uAZfeqFxdBMz"
      }
    },
    {
      "cell_type": "markdown",
      "source": [
        "Dado que utilizaremos conjuntos de datos de exploraciones pasadas, nos traeremos el conjunto de datos preprocesado de precios de automóviles y de puntajes de estudiantes.\n",
        "\n",
        "Primero instalaremos e importaremos las librerías que utilizaremos, además de establecer otras configuraciones."
      ],
      "metadata": {
        "id": "RqeyW6wj_mR7"
      }
    },
    {
      "cell_type": "markdown",
      "source": [
        "***Nota*:** *Las instalaciones se realizan a pesar de que algunas librerías ya están integradas de forma nativa en Colab, esto para asegurar que el Notebook no presente problemas de ejecución si se dan cambios en la sintaxis entre versiones de librerías.*"
      ],
      "metadata": {
        "id": "URLj5RKwRgi0"
      }
    },
    {
      "cell_type": "code",
      "source": [
        "# Se instalan las librerías.\n",
        "!pip install mlektic\n",
        "!pip install pandas==2.2.2\n",
        "!pip install matplotlib==3.10.0"
      ],
      "metadata": {
        "id": "1V4tE9lbbKCS"
      },
      "execution_count": null,
      "outputs": []
    },
    {
      "cell_type": "code",
      "source": [
        "# Se importan las librerías.\n",
        "from mlektic.linear_reg import LinearRegressionArcht\n",
        "from mlektic import preprocessing\n",
        "import pandas as pd\n",
        "import matplotlib.pyplot as plt\n",
        "import warnings\n",
        "\n",
        "# Se filtran las advertencias.\n",
        "warnings.filterwarnings('ignore')\n",
        "\n",
        "# Se define el estilo de las gráficas.\n",
        "plt.style.use('seaborn-v0_8-whitegrid')\n",
        "\n",
        "# Se define el despliegue de flotantes en dataframes.\n",
        "pd.options.display.float_format = '{:.2f}'.format"
      ],
      "metadata": {
        "id": "HBiIQh1iACOb"
      },
      "execution_count": null,
      "outputs": []
    },
    {
      "cell_type": "markdown",
      "source": [
        "Una de las librerías instaladas y que utilizaremos para **entrenar** y **evaluar** los modelos resultantes, es una **librería** llamada [mlektic](https://github.com/DanielDialektico/mlektic) que he desarrollado personalmente para este curso, y que estaremos utilizando en lo sucesivo para aprender conceptos clave de **machine learning**."
      ],
      "metadata": {
        "id": "BI7vjDS1AYNi"
      }
    },
    {
      "cell_type": "markdown",
      "source": [
        "Ahora cargamos el conjunto de datos de precios de automóviles:"
      ],
      "metadata": {
        "id": "TQKr5aiDdh4F"
      }
    },
    {
      "cell_type": "code",
      "source": [
        "dataset = pd.read_csv('https://github.com/DanielDialektico/dialektico-machine-learning-practices/raw/refs/heads/main/data/automovil_preprocessed.csv', encoding='latin1')\n",
        "dataset"
      ],
      "metadata": {
        "id": "VorIZ1MetBlu"
      },
      "execution_count": null,
      "outputs": []
    },
    {
      "cell_type": "markdown",
      "source": [
        "Recordemos cómo luce la relación entre estas variables utilizando una gráfica de Matplotlib:"
      ],
      "metadata": {
        "id": "x1NykfTefAz_"
      }
    },
    {
      "cell_type": "code",
      "source": [
        "# Se definen los puntos a graficar, y se imprimen.\n",
        "inputs = dataset['Poder_máximo_BHP']\n",
        "outputs = dataset['Precio']\n",
        "\n",
        "# Se grafica el conjunto de datos preprocesado.\n",
        "plt.figure(figsize=(6, 6))\n",
        "plt.plot(inputs, outputs, 'o', markersize = 6)\n",
        "plt.title(\"PRECIO RESPECTO A PODER MÁXIMO (BHP)\", fontdict = {'family': 'DejaVu Sans', 'color':  'black', 'weight': 'bold', 'size': 16}, pad = 15)\n",
        "plt.suptitle(\"Fig. 1 Conjunto de datos de precios de automóviles preprocesado.\", fontproperties = {'family': 'DejaVu Sans','size': 12}, y=-0.001)\n",
        "plt.xlabel(\"POTENCIA MÁXIMA DE FRENADO (BHP)\", fontdict = {'family': 'DejaVu Sans', 'color':  'black', 'weight': 'bold', 'size': 12}, labelpad = 15)\n",
        "plt.ylabel(\"PRECIO (USD)\", fontdict = {'family': 'DejaVu Sans', 'color':  'black', 'weight': 'bold', 'size': 12}, labelpad = 15)\n",
        "plt.show()"
      ],
      "metadata": {
        "id": "DsJiV4Drs0G1"
      },
      "execution_count": null,
      "outputs": []
    },
    {
      "cell_type": "markdown",
      "source": [
        "<br>"
      ],
      "metadata": {
        "id": "FG4o_PJfDMPq"
      }
    },
    {
      "cell_type": "markdown",
      "source": [
        "# **Modelo de regresión**"
      ],
      "metadata": {
        "id": "w93o6vG7DOQ6"
      }
    },
    {
      "cell_type": "markdown",
      "source": [
        "Ya que tenemos los **datos** cargados, utilizaremos una **regresión lineal** para modelar la relación entre ambas variables. Para esto utilizaremos mlektic, la cual permite definir regresiones lineales con diferentes configuraciones de una manera sencilla. En este caso, nos limitaremos a entrenar el modelo utilizando la minimización del error cuadrático, como hemos hecho hasta ahora:"
      ],
      "metadata": {
        "id": "alxI9bFLCZD6"
      }
    },
    {
      "cell_type": "code",
      "source": [
        "# Se generan los conjuntos de entrenamiento y prueba para las entradas (x) y salidas (y), con una proporción 80-20.\n",
        "train_set, test_set = preprocessing.pd_dataset(dataset, input_columns=['Poder_máximo_BHP'], output_column='Precio', train_fraction = 0.8)\n",
        "\n",
        "# Se crea el objeto para realizar la regresión lineal.\n",
        "lin_reg = LinearRegressionArcht()\n",
        "\n",
        "# Se entrena el modelo.\n",
        "lin_reg.train(train_set)"
      ],
      "metadata": {
        "id": "HR8Pp7_GEB-6"
      },
      "execution_count": null,
      "outputs": []
    },
    {
      "cell_type": "code",
      "source": [
        "# Se grafica la línea recta obtenida.\n",
        "\n",
        "plt.figure(figsize=(6, 6))\n",
        "plt.plot(inputs, outputs, 'o', markersize = 6)\n",
        "plt.plot(inputs, lin_reg.predict(inputs), color=\"#9E0505\", linewidth=3, label='Recta de regresión')\n",
        "plt.title(\"PRECIO RESPECTO A PODER MÁXIMO (BHP)\", fontdict = {'family': 'DejaVu Sans', 'color':  'black', 'weight': 'bold', 'size': 16}, pad = 15)\n",
        "plt.xlabel(\"POTENCIA MÁXIMA DE FRENADO (BHP)\", fontdict = {'family': 'DejaVu Sans', 'color':  'black', 'weight': 'bold', 'size': 12}, labelpad = 15)\n",
        "plt.ylabel(\"PRECIO (USD)\", fontdict = {'family': 'DejaVu Sans', 'color':  'black', 'weight': 'bold', 'size': 12}, labelpad = 15)\n",
        "plt.suptitle(\"Fig. 2 Visualización del conjunto de datos y la recta ajustada generada por la ecuación resultante de la regresión lineal.\", fontproperties = {'family': 'DejaVu Sans', 'size': 12}, y=-0.001)\n",
        "plt.legend(loc='upper left', prop = {'family': 'DejaVu Sans', 'weight': 'bold', 'size': 14}, frameon = True, framealpha = 1, facecolor  = '#dddddd', shadow = True)\n",
        "plt.show()"
      ],
      "metadata": {
        "id": "WAqKmaTtGF7Z"
      },
      "execution_count": null,
      "outputs": []
    },
    {
      "cell_type": "markdown",
      "source": [
        "<br>"
      ],
      "metadata": {
        "id": "mELpX9TYGmc5"
      }
    },
    {
      "cell_type": "markdown",
      "source": [
        "# **Evaluando el modelo**"
      ],
      "metadata": {
        "id": "TuPBhZjzfiDD"
      }
    },
    {
      "cell_type": "markdown",
      "source": [
        "Ya es momento de evaluar los resultados obtenidos. Tenemos un **modelo** que permite estimar precios de automóviles respecto a su potencia máxima de frenado, ¿qué tan preciso es?\n",
        "\n",
        "Para esto utilizaremos las **métricas** antes mencionadas, y lo haremos con poco código:"
      ],
      "metadata": {
        "id": "JMGb-E8ofvjc"
      }
    },
    {
      "cell_type": "code",
      "source": [
        "# Se calculan las métricas de evaluación.\n",
        "mse = lin_reg.eval(test_set, 'mse')\n",
        "mae = lin_reg.eval(test_set, 'mae')\n",
        "r2 = lin_reg.eval(test_set, 'r2')\n",
        "corr = lin_reg.eval(test_set, 'corr')\n",
        "\n",
        "# Se crea un DataFrame con las métricas y sus valores para visualizarlas en una\n",
        "# tabla.\n",
        "data = {\n",
        "    'Métrica': ['MSE', 'MAE', 'R2', 'Correlación'],\n",
        "    'Valor': [mse, mae, r2, corr]\n",
        "}\n",
        "\n",
        "df_metrics = pd.DataFrame(data)\n",
        "df_metrics"
      ],
      "metadata": {
        "id": "qB4AiZw1HUnK"
      },
      "execution_count": null,
      "outputs": []
    },
    {
      "cell_type": "markdown",
      "source": [
        "Con esto hemos obtenido las **mediciones** del **desempeño** del modelo. Podrás notar que en la primera columna se muestran las métricas utilizadas, mientras que en la segunda yacen sus respectivos valores."
      ],
      "metadata": {
        "id": "JMKNEGSEIRdJ"
      }
    },
    {
      "cell_type": "markdown",
      "source": [
        "<center><img src=\"https://dialektico.com/wp-content/uploads/2024/11/MEAR_L2.jpg\" width=\"400\" /></center>"
      ],
      "metadata": {
        "id": "s7IKoHiUIOBB"
      }
    },
    {
      "cell_type": "markdown",
      "source": [
        "Es relativamente sencillo utilizando herramientas como **Python**, lo importante es interpretarlo correctamente."
      ],
      "metadata": {
        "id": "ZYdNOL7xIViB"
      }
    },
    {
      "cell_type": "markdown",
      "source": [
        "<br>"
      ],
      "metadata": {
        "id": "J37544tzIrOQ"
      }
    },
    {
      "cell_type": "markdown",
      "source": [
        "## **Interpretación de resultados**"
      ],
      "metadata": {
        "id": "oiEDIQPSIgBY"
      }
    },
    {
      "cell_type": "markdown",
      "source": [
        "Recuerda que cada **métrica** tiene su **interpretación** única. Es hora de que utilices tus dotes como **analista de datos** y realices **inferencias** sobre la información que tienes a la mano. Para esto, consideraremos también algunas estadísticas del conjunto de datos utilizado:"
      ],
      "metadata": {
        "id": "6WLdShvJJbLB"
      }
    },
    {
      "cell_type": "code",
      "source": [
        "dataset.describe()"
      ],
      "metadata": {
        "id": "4Pwc0tEsJb0x"
      },
      "execution_count": null,
      "outputs": []
    },
    {
      "cell_type": "markdown",
      "source": [
        "Analicemos, entonces, lo que obtuvimos."
      ],
      "metadata": {
        "id": "9fiwgkxdKKTx"
      }
    },
    {
      "cell_type": "markdown",
      "source": [
        "<br>"
      ],
      "metadata": {
        "id": "RKQz2yKfKO8R"
      }
    },
    {
      "cell_type": "markdown",
      "source": [
        "### **MSE (Error Cuadrático Medio)**"
      ],
      "metadata": {
        "id": "LsMGplwcKQgp"
      }
    },
    {
      "cell_type": "markdown",
      "source": [
        "El valor de MSE obtenido fue:\n",
        "\n",
        "$\\text{MSE}=8,832,140$\n"
      ],
      "metadata": {
        "id": "d9uhZ83GKT7Q"
      }
    },
    {
      "cell_type": "markdown",
      "source": [
        "**Interpretación:**\n",
        "\n",
        "Como ya hemos definido, el **MSE** indica un error promedio al cuadrado de los errores, que en este caso de aproximadamente 8,832,140 unidades monetarias, lo que parece muy grande en comparación con el rango de precios en el conjunto de datos, donde el valor máximo es de 31,056. Pero esto no es directamente comparable, ya los valores de los **errores** están **elevados al cuadrado**. Para ello, podríamos utilizar el valor de la **varianza**, la cual cuantifica las diferencias entre los valores y su promedio en la **escala** original de los datos. Por el momento no la tenemos a la mano, y no nos preocuparemos por ello. Para una definición más concreta utilizando otra función de pérdida, voltearemos a ver el valor del **MAE**, ya que este no eleva al cuadrado las diferencias. Sin embargo, sí podemos notar que, dado que el MSE penaliza los errores grandes al potenciarlos al cuadrado, este valor alto podría ser influenciado por valores de precios muy alejados de la media o algunos puntos que el modelo no logra ajustar correctamente (estos puntos alejados de la recta pueden ser verificables al observar la gráfica de la Figura 2)."
      ],
      "metadata": {
        "id": "ofxfZ6X3MHIR"
      }
    },
    {
      "cell_type": "markdown",
      "source": [
        "<br>"
      ],
      "metadata": {
        "id": "t-bigDxwMJfw"
      }
    },
    {
      "cell_type": "markdown",
      "source": [
        "### **MAE (Error Absoluto Medio)**"
      ],
      "metadata": {
        "id": "yi0ytSPRMJGR"
      }
    },
    {
      "cell_type": "markdown",
      "source": [
        "El valor de MAE obtenido fue:\n",
        "\n",
        "$\\text{MSE}=1,974.06$"
      ],
      "metadata": {
        "id": "tk-itJR_MTDx"
      }
    },
    {
      "cell_type": "markdown",
      "source": [
        "**Interpretación**:\n",
        "\n",
        "El **MAE** representa un error promedio de aproximadamente 1,974 unidades monetarias. Este valor afortunadamente sí se encuentra en la escala original, por lo que podemos realizar comparaciones más directas. Respecto al valor promedio de precios de 15,243.81, este error equivale a una desviación del precio promedio de alrededor del 13%. Este nivel de error puede considerarse significativo, pero no es tan alto en comparación con el rango completo de precios, que va desde 5,952 a 31,056. Aun así, muestra que el modelo tiene una precisión moderada, pero podría mejorar."
      ],
      "metadata": {
        "id": "BiIOtsuGMdQg"
      }
    },
    {
      "cell_type": "markdown",
      "source": [
        "<br>"
      ],
      "metadata": {
        "id": "gM8V3RHXM3EZ"
      }
    },
    {
      "cell_type": "markdown",
      "source": [
        "### **R² (Coeficiente de Determinación)**"
      ],
      "metadata": {
        "id": "hEak498lM5F4"
      }
    },
    {
      "cell_type": "markdown",
      "source": [
        "El valor de R² obtenido fue:\n",
        "\n",
        "$\\text{R}^2=0.84$"
      ],
      "metadata": {
        "id": "GnbZVFYEM8_Q"
      }
    },
    {
      "cell_type": "markdown",
      "source": [
        "**Interpretación**:\n",
        "\n",
        "Un R² de 0.84 significa que el 84% de la variabilidad en los precios de los coches se puede explicar en función de la potencia de frenado, por lo que parece haber una **relación significativa** entre la potencia y el precio, sugiriendo que los coches con mayor potencia de frenado suelen tener precios más altos. Sin embargo, el 16% de la **variabilidad** en el precio no es explicada por esta variable, lo cual es razonable porque el precio de un coche suele depender de otros **factores** que no se están modelando aquí."
      ],
      "metadata": {
        "id": "Zev2BowDNOJo"
      }
    },
    {
      "cell_type": "markdown",
      "source": [
        "<br>"
      ],
      "metadata": {
        "id": "2vKcmNDgNceY"
      }
    },
    {
      "cell_type": "markdown",
      "source": [
        "### **Coeficiente de Correlación de Pearson**"
      ],
      "metadata": {
        "id": "Qk52W6ywNkkI"
      }
    },
    {
      "cell_type": "markdown",
      "source": [
        "El valor del coeficiente de Pearson obtenido fue:\n",
        "\n",
        "$\\rho=0.92$"
      ],
      "metadata": {
        "id": "7des-AepNyNI"
      }
    },
    {
      "cell_type": "markdown",
      "source": [
        "**Interpretación**:\n",
        "\n",
        "Una correlación de Pearson de 0.92 indica una fuerte **relación lineal positiva** entre la potencia de frenado y el precio. Esto sugiere que a medida que aumenta la potencia de frenado, el precio del coche también tiende a aumentar (lo cual es observable en la gráfica de la Figura 2). Esta correlación alta, respaldada por el valor de R², confirma que la potencia de frenado es un predictor importante del precio en este conjunto de datos. Sin embargo, la relación, aunque fuerte, no es perfecta, y esto deja margen para variables adicionales que influyan en el precio."
      ],
      "metadata": {
        "id": "0ZkHxBJIN48Y"
      }
    },
    {
      "cell_type": "markdown",
      "source": [
        "<br>"
      ],
      "metadata": {
        "id": "VYFl5l0UOpg3"
      }
    },
    {
      "cell_type": "markdown",
      "source": [
        "## **Conclusión de evaluaciones**"
      ],
      "metadata": {
        "id": "9i6arcrtOnRv"
      }
    },
    {
      "cell_type": "markdown",
      "source": [
        "¿Qué puedes decirme sobre los análisis realizados?, resumamos lo visto.\n",
        "Estos resultados indican que la potencia de frenado es una característica significativa para predecir el precio, pero no es suficiente para capturar toda la variabilidad de los precios de los coches en este conjunto de datos. El **MSE** y **MAE** muestran que el modelo comete errores considerables en unidades monetarias, posiblemente debido a variaciones en el precio que la potencia de frenado no logra explicar completamente. Además, el precio tiene una dispersión considerable en torno a su **media**, y otros factores no considerados en el modelo podrían explicar esta **variabilidad** **residual**.\n",
        "\n",
        "¿Qué podríamos hacer al respecto? Una opción muy típica es incorporar otras variables relacionadas con el precio, lo cual podría ayudar a mejorar la precisión del modelo y reducir los errores, dado que el precio, en la práctica, depende de múltiples factores además de la potencia de frenado."
      ],
      "metadata": {
        "id": "5tTrgdM9OxHQ"
      }
    },
    {
      "cell_type": "markdown",
      "source": [
        "<center><img src=\"https://dialektico.com/wp-content/uploads/2024/11/MEAR_A3.jpg\" width=\"400\" /></center>"
      ],
      "metadata": {
        "id": "cBbx3HE_PF5X"
      }
    },
    {
      "cell_type": "markdown",
      "source": [
        "Exacto, o usar otros algoritmos de aprendizaje supervisado, que veremos más adelante."
      ],
      "metadata": {
        "id": "fxVRN8maPH_P"
      }
    },
    {
      "cell_type": "markdown",
      "source": [
        "<br>"
      ],
      "metadata": {
        "id": "py8ROy0sPNMw"
      }
    },
    {
      "cell_type": "markdown",
      "source": [
        "# **Ejercicio**"
      ],
      "metadata": {
        "id": "zIDY3gvz7PUP"
      }
    },
    {
      "cell_type": "markdown",
      "source": [
        "Hasta aquí concluimos con esta práctica, pero aún puedes poner a prueba tus conocimientos realizando mediciones sobre el desempeño de un modelo ajustado a otro conjunto de datos.\n",
        "\n",
        "Volvamos al caso de los puntajes de alumnos:"
      ],
      "metadata": {
        "id": "7RcJ5B7m7PP3"
      }
    },
    {
      "cell_type": "code",
      "source": [
        "# Se visualiza el conjunto de datos:\n",
        "students_dataset = pd.read_csv('https://raw.githubusercontent.com/DanielDialektico/Machine-Learning/main/Conjuntos%20de%20datos/Estudiantes_puntaje.csv', encoding='latin-1')\n",
        "students_dataset"
      ],
      "metadata": {
        "id": "0taM5_7B6E4h"
      },
      "execution_count": null,
      "outputs": []
    },
    {
      "cell_type": "markdown",
      "source": [
        "Puedes utilizar mlektic justo como hicimos antes, pero con este conjunto de datos. Debajo te dejaré comentarios como una guía de los pasos que debes considerar:"
      ],
      "metadata": {
        "id": "59xPSuep8CyF"
      }
    },
    {
      "cell_type": "code",
      "source": [
        "# Se generan los conjuntos de entrenamiento y prueba para las entradas (x) y salidas (y), con una proporción 80-20.\n",
        "\n",
        "\n",
        "# Se crea el objeto para realizar la regresión lineal.\n",
        "\n",
        "\n",
        "# Se entrena el modelo.\n",
        "\n",
        "\n",
        "# Se calculan las métricas de evaluación.\n",
        "\n",
        "\n",
        "# Se crea un DataFrame con las métricas y sus valores para visualizarlas en una\n",
        "# tabla.\n",
        "\n"
      ],
      "metadata": {
        "id": "zgo14f2o7MMV"
      },
      "execution_count": null,
      "outputs": []
    },
    {
      "cell_type": "markdown",
      "source": [
        "<br>"
      ],
      "metadata": {
        "id": "WNnVFnSMdKRb"
      }
    },
    {
      "cell_type": "markdown",
      "source": [
        "Hemos concluido por hoy. Has evaluado y analizado el desempeño de dos modelos de regresión, demostrándote la importancia del uso de este tipo de métricas, cómo implementarlas, y cómo interpretarlas."
      ],
      "metadata": {
        "id": "GOyqpx_OdLpD"
      }
    },
    {
      "cell_type": "markdown",
      "source": [
        "▶ [Regresar a la lección](https://dialektico.com/metricas-de-evaluacion-de-modelos-de-regresion/) 🧙"
      ],
      "metadata": {
        "id": "G8YVS38T9h4t"
      }
    },
    {
      "cell_type": "code",
      "source": [
        "# Dialektico Machine learning practices © 2024 by Daniel Antonio García Escobar\n",
        "# is licensed under CC BY-NC 4.0. To view a copy of this license,\n",
        "# visit https://creativecommons.org/licenses/by-nc/4.0/\n",
        "\n",
        "# Creative Commons Attribution-NonCommercial-ShareAlike 4.0 International\n",
        "# Public License"
      ],
      "metadata": {
        "id": "mC5uisEVNodI"
      },
      "execution_count": null,
      "outputs": []
    }
  ]
}