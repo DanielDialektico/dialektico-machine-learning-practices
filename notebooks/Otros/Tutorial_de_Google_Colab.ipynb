{
  "nbformat": 4,
  "nbformat_minor": 0,
  "metadata": {
    "colab": {
      "provenance": [],
      "authorship_tag": "ABX9TyMsfL1cpVz7CJTc5g6OuVha",
      "include_colab_link": true
    },
    "kernelspec": {
      "name": "python3",
      "display_name": "Python 3"
    },
    "language_info": {
      "name": "python"
    }
  },
  "cells": [
    {
      "cell_type": "markdown",
      "metadata": {
        "id": "view-in-github",
        "colab_type": "text"
      },
      "source": [
        "<a href=\"https://colab.research.google.com/github/DanielDialektico/dialektico-machine-learning-practices/blob/main/notebooks/Otros/Tutorial_de_Google_Colab.ipynb\" target=\"_parent\"><img src=\"https://colab.research.google.com/assets/colab-badge.svg\" alt=\"Open In Colab\"/></a>"
      ]
    },
    {
      "cell_type": "markdown",
      "source": [
        "![alt text](https://dialektico.com/wp-content/uploads/2023/03/MiniLogoW4.png)"
      ],
      "metadata": {
        "id": "sjXYHVXZMMUh"
      }
    },
    {
      "cell_type": "markdown",
      "source": [
        "# Tutorial de Google Colab 💻"
      ],
      "metadata": {
        "id": "YT8sw9OeMdA5"
      }
    },
    {
      "cell_type": "markdown",
      "source": [
        "Este notebook está diseñado para mostrar las diferentes funciones de Google Colab a modo de tutorial para principiantes. Para utilizarlo, sigue las instrucciones dadas en la [Introducción a Google Colab](https://dialektico.com/google-colab/).\n",
        "<br></br>\n",
        "<p align=\"center\">\n",
        "  <img src=\"https://dialektico.com/wp-content/uploads/2024/08/Colab_blog.png\" alt=\"alt text\" width=\"500\">\n",
        "</p>"
      ],
      "metadata": {
        "id": "teZqv6sUTrzA"
      }
    },
    {
      "cell_type": "markdown",
      "source": [
        "Ejecuta el siguiente código:"
      ],
      "metadata": {
        "id": "Qjxc3g1aXdyo"
      }
    },
    {
      "cell_type": "code",
      "execution_count": null,
      "metadata": {
        "id": "Fcv6UwEfMCDM"
      },
      "outputs": [],
      "source": [
        "print('Hola mundo')"
      ]
    },
    {
      "cell_type": "markdown",
      "source": [
        "Ejecuta el siguiente código:"
      ],
      "metadata": {
        "id": "_vzzAYNpla7G"
      }
    },
    {
      "cell_type": "code",
      "source": [
        "import matplotlib.pyplot as plt\n",
        "import numpy as np\n",
        "\n",
        "ys = 200 + np.random.randn(100)\n",
        "x = [x for x in range(len(ys))]\n",
        "\n",
        "plt.plot(x, ys, '-')\n",
        "plt.fill_between(x, ys, 195, where=(ys > 195), facecolor='black', alpha=0.6)\n",
        "\n",
        "plt.title(\"Gráfica\")\n",
        "plt.show()"
      ],
      "metadata": {
        "id": "BNyoYOIRUNce"
      },
      "execution_count": null,
      "outputs": []
    },
    {
      "cell_type": "markdown",
      "source": [
        "\n",
        "\n",
        "---\n",
        "\n",
        "\n",
        "<br></br>"
      ],
      "metadata": {
        "id": "ZkoXnGnjdET1"
      }
    },
    {
      "cell_type": "markdown",
      "source": [
        "# Celdas de texto en Google Colab"
      ],
      "metadata": {
        "id": "VAWhp6NWR_r5"
      }
    },
    {
      "cell_type": "markdown",
      "source": [
        "**--C1--**\n",
        "\n",
        "Crea una nueva celda de texto y/o código aquí debajo 🔽"
      ],
      "metadata": {
        "id": "Y7mHlq6JSHEg"
      }
    },
    {
      "cell_type": "markdown",
      "source": [
        "## Markdown y HTML"
      ],
      "metadata": {
        "id": "Z_Z52WrAVyMg"
      }
    },
    {
      "cell_type": "markdown",
      "source": [
        "**--C2--**\n",
        "\n",
        "Esto es una prueba."
      ],
      "metadata": {
        "id": "NBu5GxPqWBdw"
      }
    },
    {
      "cell_type": "markdown",
      "source": [
        "<b>--C3--</B>\n",
        "\n",
        "Esto es una prueba."
      ],
      "metadata": {
        "id": "2DLAWpKkacPw"
      }
    },
    {
      "cell_type": "markdown",
      "source": [
        "\n",
        "\n",
        "---\n",
        "\n",
        "\n",
        "<br></br>"
      ],
      "metadata": {
        "id": "ku1FANz3dJ-U"
      }
    },
    {
      "cell_type": "markdown",
      "source": [
        "## Estilos y elementos"
      ],
      "metadata": {
        "id": "RH7XrAsHdBBP"
      }
    },
    {
      "cell_type": "markdown",
      "source": [
        "### Secciones"
      ],
      "metadata": {
        "id": "HS9SyzHJd_pc"
      }
    },
    {
      "cell_type": "markdown",
      "source": [
        "**--C4--**\n",
        "\n",
        "# Sección 1\n",
        "# Sección 2\n",
        "## Sub-sección bajo la Sección 2\n",
        "### Sub-sección bajo la sub-sección bajo la Sección 2\n",
        "# Sección 3\n"
      ],
      "metadata": {
        "id": "zmg_hGfjdRgw"
      }
    },
    {
      "cell_type": "markdown",
      "source": [
        "\n",
        "\n",
        "---\n",
        "\n",
        "\n",
        "<br></br>"
      ],
      "metadata": {
        "id": "nCSw29vHdLRc"
      }
    },
    {
      "cell_type": "markdown",
      "source": [
        "### Formatos"
      ],
      "metadata": {
        "id": "e3_kBp3lcSNz"
      }
    },
    {
      "cell_type": "markdown",
      "source": [
        "**--C5--**\n",
        "\n",
        "**texto en negrita**\n",
        "\n",
        "*texto en cursiva*\n",
        "\n",
        "\n",
        "```\n",
        "# Esto tiene formato de código\n",
        "```\n",
        "\n",
        "[Esto es una URL](https://dialektico.com/)\n",
        "\n",
        "<br>\n",
        "Línea horizontal:\n",
        "\n",
        "\n",
        "---\n",
        "\n",
        "Emojis: ⏰ ⚓ ❤ ⚫\n",
        "\n"
      ],
      "metadata": {
        "id": "4IfUHVdpfv09"
      }
    },
    {
      "cell_type": "markdown",
      "source": [
        "<br></br>"
      ],
      "metadata": {
        "id": "QIrgD8KJdTD8"
      }
    },
    {
      "cell_type": "markdown",
      "source": [
        "### Listas"
      ],
      "metadata": {
        "id": "lbIRgxjrdft6"
      }
    },
    {
      "cell_type": "markdown",
      "source": [
        "**--C6--**\n",
        "\n",
        "\n",
        "\n",
        "1.   Piedra\n",
        "2.   Papel\n",
        "3.   Tijeras\n",
        "\n",
        "\n",
        "\n",
        "*   1\n",
        "*   2\n",
        "*   3\n",
        "\n",
        "\n",
        "\n"
      ],
      "metadata": {
        "id": "K969KaC9dmRU"
      }
    },
    {
      "cell_type": "markdown",
      "source": [
        "\n",
        "---\n",
        "\n",
        "\n",
        "<br></br>"
      ],
      "metadata": {
        "id": "fmU8rjkVfTFE"
      }
    },
    {
      "cell_type": "markdown",
      "source": [
        "### Tablas"
      ],
      "metadata": {
        "id": "QwlAyftDfUnU"
      }
    },
    {
      "cell_type": "markdown",
      "source": [
        "**--C7--**\n",
        "\n",
        "| Columna 1 | Columna 2 | Columna 3 |\n",
        "|-----------|-----------|-----------|\n",
        "| Dato 1    | Dato 2    | Dato 3    |\n",
        "| Dato 4    | Dato 5    | Dato 6    |\n",
        "| Dato 7    | Dato 8    | Dato 9    |\n"
      ],
      "metadata": {
        "id": "Bo-1A1xlfbtN"
      }
    },
    {
      "cell_type": "markdown",
      "source": [
        "\n",
        "---\n",
        "\n",
        "\n",
        "<br></br>"
      ],
      "metadata": {
        "id": "seOv0060hXC8"
      }
    },
    {
      "cell_type": "markdown",
      "source": [
        "## Expresiones matemáticas con LaTeX"
      ],
      "metadata": {
        "id": "6S08oTEphW7K"
      }
    },
    {
      "cell_type": "markdown",
      "source": [
        "**--C8--**\n",
        "\n",
        "$E = mc^2$\n",
        "\n",
        "$a^2 + b^2 = c^2$\n",
        "\n",
        "$\\frac{d}{dx} \\left( e^x \\right) = e^x$\n",
        "\n",
        "$$\\int_{a}^{b} f(x) \\, dx$$\n",
        "\n",
        "$$\\vec{v} = \\begin{pmatrix} v_1 \\\\ v_2 \\\\ v_3 \\end{pmatrix}$$\n",
        "\n",
        "$$\\mathbf{A} = \\begin{pmatrix} a_{11} & a_{12} & a_{13} \\\\ a_{21} & a_{22} & a_{23} \\\\ a_{31} & a_{32} & a_{33} \\end{pmatrix}$$\n"
      ],
      "metadata": {
        "id": "S6U166O2ii1j"
      }
    },
    {
      "cell_type": "markdown",
      "source": [
        "\n",
        "---\n",
        "\n",
        "\n",
        "<br></br>"
      ],
      "metadata": {
        "id": "IdawcnPNnahf"
      }
    },
    {
      "cell_type": "markdown",
      "source": [
        "# Bloques de código\n",
        "\n"
      ],
      "metadata": {
        "id": "8t4vg2fnnckP"
      }
    },
    {
      "cell_type": "markdown",
      "source": [
        "## Instalación de bibliotecas"
      ],
      "metadata": {
        "id": "AKNvDhLDnsff"
      }
    },
    {
      "cell_type": "code",
      "source": [
        "## --C9-- ##\n",
        "\n",
        "import pandas as pd\n",
        "import numpy as np"
      ],
      "metadata": {
        "id": "NB0diSmwfuPv"
      },
      "execution_count": 1,
      "outputs": []
    },
    {
      "cell_type": "code",
      "source": [
        "## --C10-- ##\n",
        "import mlektic"
      ],
      "metadata": {
        "id": "wQIACOOooCzN"
      },
      "execution_count": null,
      "outputs": []
    },
    {
      "cell_type": "code",
      "source": [
        "## --C11-- ##\n",
        "!pip install mlektic"
      ],
      "metadata": {
        "id": "7v8WtbUEoVL6"
      },
      "execution_count": null,
      "outputs": []
    },
    {
      "cell_type": "markdown",
      "source": [
        "\n",
        "---\n",
        "\n",
        "\n",
        "<br></br>"
      ],
      "metadata": {
        "id": "CgSG6xux9A01"
      }
    },
    {
      "cell_type": "markdown",
      "source": [
        "## Asistente Gemini y tablas interactivas"
      ],
      "metadata": {
        "id": "Cy2lgrXm9Bfd"
      }
    },
    {
      "cell_type": "code",
      "source": [
        "## --C12-- ##\n",
        "# prompt: crea una gráfica de barras con matplotlib\n",
        "\n",
        "import matplotlib.pyplot as plt\n",
        "import numpy as np\n",
        "\n",
        "# Datos para la gráfica\n",
        "x = np.array([\"A\", \"B\", \"C\", \"D\"])\n",
        "y = np.array([3, 8, 1, 10])\n",
        "\n",
        "# Crear la gráfica de barras\n",
        "plt.bar(x, y)\n",
        "\n",
        "# Agregar título y etiquetas\n",
        "plt.xlabel(\"Categorías\")\n",
        "plt.ylabel(\"Valores\")\n",
        "plt.title(\"Gráfica de Barras\")\n",
        "\n",
        "# Mostrar la gráfica\n",
        "plt.show()\n"
      ],
      "metadata": {
        "colab": {
          "base_uri": "https://localhost:8080/",
          "height": 472
        },
        "id": "AXKXqoXcsfx-",
        "outputId": "b8108dac-2556-4eaf-8a90-972f78ec8109"
      },
      "execution_count": 5,
      "outputs": [
        {
          "output_type": "display_data",
          "data": {
            "text/plain": [
              "<Figure size 640x480 with 1 Axes>"
            ],
            "image/png": "[encoded data removed]"
          },
          "metadata": {}
        }
      ]
    },
    {
      "cell_type": "code",
      "source": [
        "## --C13-- ##\n",
        "\n",
        "import numpy as np\n",
        "import pandas as pd\n",
        "\n",
        "data = np.random.rand(7, 7)\n",
        "df = pd.DataFrame(data)\n",
        "\n",
        "df"
      ],
      "metadata": {
        "id": "J6sPLs01u_E2"
      },
      "execution_count": null,
      "outputs": []
    },
    {
      "cell_type": "code",
      "source": [],
      "metadata": {
        "id": "5MMBpLBq-x8x"
      },
      "execution_count": null,
      "outputs": []
    },
    {
      "cell_type": "code",
      "source": [
        "## --C14-- ##\n",
        "\n",
        "# prompt: Con DataFrame df: quita las últimas dos columnas y redondea todos los valores a dos dígitos\n",
        "\n",
        "# Drop the last two columns\n",
        "df = df.iloc[:, :-2]\n",
        "\n",
        "# Round all values to two decimal places\n",
        "df = df.round(2)\n",
        "\n",
        "df\n"
      ],
      "metadata": {
        "colab": {
          "base_uri": "https://localhost:8080/",
          "height": 269
        },
        "id": "R63_eH-GyMzV",
        "outputId": "c4eeaab1-b7e0-4644-a8d5-ac42981c183f"
      },
      "execution_count": 14,
      "outputs": [
        {
          "output_type": "execute_result",
          "data": {
            "text/plain": [
              "      0     1     2     3     4\n",
              "0  0.33  0.77  0.50  0.09  0.81\n",
              "1  0.47  0.36  0.64  0.24  0.89\n",
              "2  0.73  0.70  0.68  0.17  0.24\n",
              "3  0.73  0.38  0.52  0.62  0.46\n",
              "4  0.81  0.86  0.22  0.30  0.55\n",
              "5  0.49  0.38  0.95  0.32  0.20\n",
              "6  0.31  0.14  0.45  0.82  0.35"
            ],
            "text/html": [
              "\n",
              "  <div id=\"df-d5d05420-4e0f-4441-9265-44682a1494cb\" class=\"colab-df-container\">\n",
              "    <div>\n",
              "<style scoped>\n",
              "    .dataframe tbody tr th:only-of-type {\n",
              "        vertical-align: middle;\n",
              "    }\n",
              "\n",
              "    .dataframe tbody tr th {\n",
              "        vertical-align: top;\n",
              "    }\n",
              "\n",
              "    .dataframe thead th {\n",
              "        text-align: right;\n",
              "    }\n",
              "</style>\n",
              "<table border=\"1\" class=\"dataframe\">\n",
              "  <thead>\n",
              "    <tr style=\"text-align: right;\">\n",
              "      <th></th>\n",
              "      <th>0</th>\n",
              "      <th>1</th>\n",
              "      <th>2</th>\n",
              "      <th>3</th>\n",
              "      <th>4</th>\n",
              "    </tr>\n",
              "  </thead>\n",
              "  <tbody>\n",
              "    <tr>\n",
              "      <th>0</th>\n",
              "      <td>0.33</td>\n",
              "      <td>0.77</td>\n",
              "      <td>0.50</td>\n",
              "      <td>0.09</td>\n",
              "      <td>0.81</td>\n",
              "    </tr>\n",
              "    <tr>\n",
              "      <th>1</th>\n",
              "      <td>0.47</td>\n",
              "      <td>0.36</td>\n",
              "      <td>0.64</td>\n",
              "      <td>0.24</td>\n",
              "      <td>0.89</td>\n",
              "    </tr>\n",
              "    <tr>\n",
              "      <th>2</th>\n",
              "      <td>0.73</td>\n",
              "      <td>0.70</td>\n",
              "      <td>0.68</td>\n",
              "      <td>0.17</td>\n",
              "      <td>0.24</td>\n",
              "    </tr>\n",
              "    <tr>\n",
              "      <th>3</th>\n",
              "      <td>0.73</td>\n",
              "      <td>0.38</td>\n",
              "      <td>0.52</td>\n",
              "      <td>0.62</td>\n",
              "      <td>0.46</td>\n",
              "    </tr>\n",
              "    <tr>\n",
              "      <th>4</th>\n",
              "      <td>0.81</td>\n",
              "      <td>0.86</td>\n",
              "      <td>0.22</td>\n",
              "      <td>0.30</td>\n",
              "      <td>0.55</td>\n",
              "    </tr>\n",
              "    <tr>\n",
              "      <th>5</th>\n",
              "      <td>0.49</td>\n",
              "      <td>0.38</td>\n",
              "      <td>0.95</td>\n",
              "      <td>0.32</td>\n",
              "      <td>0.20</td>\n",
              "    </tr>\n",
              "    <tr>\n",
              "      <th>6</th>\n",
              "      <td>0.31</td>\n",
              "      <td>0.14</td>\n",
              "      <td>0.45</td>\n",
              "      <td>0.82</td>\n",
              "      <td>0.35</td>\n",
              "    </tr>\n",
              "  </tbody>\n",
              "</table>\n",
              "</div>\n",
              "    <div class=\"colab-df-buttons\">\n",
              "\n",
              "  <div class=\"colab-df-container\">\n",
              "    <button class=\"colab-df-convert\" onclick=\"convertToInteractive('df-d5d05420-4e0f-4441-9265-44682a1494cb')\"\n",
              "            title=\"Convert this dataframe to an interactive table.\"\n",
              "            style=\"display:none;\">\n",
              "\n",
              "  <svg xmlns=\"http://www.w3.org/2000/svg\" height=\"24px\" viewBox=\"0 -960 960 960\">\n",
              "    <path d=\"M120-120v-720h720v720H120Zm60-500h600v-160H180v160Zm220 220h160v-160H400v160Zm0 220h160v-160H400v160ZM180-400h160v-160H180v160Zm440 0h160v-160H620v160ZM180-180h160v-160H180v160Zm440 0h160v-160H620v160Z\"/>\n",
              "  </svg>\n",
              "    </button>\n",
              "\n",
              "  <style>\n",
              "    .colab-df-container {\n",
              "      display:flex;\n",
              "      gap: 12px;\n",
              "    }\n",
              "\n",
              "    .colab-df-convert {\n",
              "      background-color: #E8F0FE;\n",
              "      border: none;\n",
              "      border-radius: 50%;\n",
              "      cursor: pointer;\n",
              "      display: none;\n",
              "      fill: #1967D2;\n",
              "      height: 32px;\n",
              "      padding: 0 0 0 0;\n",
              "      width: 32px;\n",
              "    }\n",
              "\n",
              "    .colab-df-convert:hover {\n",
              "      background-color: #E2EBFA;\n",
              "      box-shadow: 0px 1px 2px rgba(60, 64, 67, 0.3), 0px 1px 3px 1px rgba(60, 64, 67, 0.15);\n",
              "      fill: #174EA6;\n",
              "    }\n",
              "\n",
              "    .colab-df-buttons div {\n",
              "      margin-bottom: 4px;\n",
              "    }\n",
              "\n",
              "    [theme=dark] .colab-df-convert {\n",
              "      background-color: #3B4455;\n",
              "      fill: #D2E3FC;\n",
              "    }\n",
              "\n",
              "    [theme=dark] .colab-df-convert:hover {\n",
              "      background-color: #434B5C;\n",
              "      box-shadow: 0px 1px 3px 1px rgba(0, 0, 0, 0.15);\n",
              "      filter: drop-shadow(0px 1px 2px rgba(0, 0, 0, 0.3));\n",
              "      fill: #FFFFFF;\n",
              "    }\n",
              "  </style>\n",
              "\n",
              "    <script>\n",
              "      const buttonEl =\n",
              "        document.querySelector('#df-d5d05420-4e0f-4441-9265-44682a1494cb button.colab-df-convert');\n",
              "      buttonEl.style.display =\n",
              "        google.colab.kernel.accessAllowed ? 'block' : 'none';\n",
              "\n",
              "      async function convertToInteractive(key) {\n",
              "        const element = document.querySelector('#df-d5d05420-4e0f-4441-9265-44682a1494cb');\n",
              "        const dataTable =\n",
              "          await google.colab.kernel.invokeFunction('convertToInteractive',\n",
              "                                                    [key], {});\n",
              "        if (!dataTable) return;\n",
              "\n",
              "        const docLinkHtml = 'Like what you see? Visit the ' +\n",
              "          '<a target=\"_blank\" href=https://colab.research.google.com/notebooks/data_table.ipynb>data table notebook</a>'\n",
              "          + ' to learn more about interactive tables.';\n",
              "        element.innerHTML = '';\n",
              "        dataTable['output_type'] = 'display_data';\n",
              "        await google.colab.output.renderOutput(dataTable, element);\n",
              "        const docLink = document.createElement('div');\n",
              "        docLink.innerHTML = docLinkHtml;\n",
              "        element.appendChild(docLink);\n",
              "      }\n",
              "    </script>\n",
              "  </div>\n",
              "\n",
              "\n",
              "<div id=\"df-327bca2e-9ea9-4151-884a-165e8c0e5e95\">\n",
              "  <button class=\"colab-df-quickchart\" onclick=\"quickchart('df-327bca2e-9ea9-4151-884a-165e8c0e5e95')\"\n",
              "            title=\"Suggest charts\"\n",
              "            style=\"display:none;\">\n",
              "\n",
              "<svg xmlns=\"http://www.w3.org/2000/svg\" height=\"24px\"viewBox=\"0 0 24 24\"\n",
              "     width=\"24px\">\n",
              "    <g>\n",
              "        <path d=\"M19 3H5c-1.1 0-2 .9-2 2v14c0 1.1.9 2 2 2h14c1.1 0 2-.9 2-2V5c0-1.1-.9-2-2-2zM9 17H7v-7h2v7zm4 0h-2V7h2v10zm4 0h-2v-4h2v4z\"/>\n",
              "    </g>\n",
              "</svg>\n",
              "  </button>\n",
              "\n",
              "<style>\n",
              "  .colab-df-quickchart {\n",
              "      --bg-color: #E8F0FE;\n",
              "      --fill-color: #1967D2;\n",
              "      --hover-bg-color: #E2EBFA;\n",
              "      --hover-fill-color: #174EA6;\n",
              "      --disabled-fill-color: #AAA;\n",
              "      --disabled-bg-color: #DDD;\n",
              "  }\n",
              "\n",
              "  [theme=dark] .colab-df-quickchart {\n",
              "      --bg-color: #3B4455;\n",
              "      --fill-color: #D2E3FC;\n",
              "      --hover-bg-color: #434B5C;\n",
              "      --hover-fill-color: #FFFFFF;\n",
              "      --disabled-bg-color: #3B4455;\n",
              "      --disabled-fill-color: #666;\n",
              "  }\n",
              "\n",
              "  .colab-df-quickchart {\n",
              "    background-color: var(--bg-color);\n",
              "    border: none;\n",
              "    border-radius: 50%;\n",
              "    cursor: pointer;\n",
              "    display: none;\n",
              "    fill: var(--fill-color);\n",
              "    height: 32px;\n",
              "    padding: 0;\n",
              "    width: 32px;\n",
              "  }\n",
              "\n",
              "  .colab-df-quickchart:hover {\n",
              "    background-color: var(--hover-bg-color);\n",
              "    box-shadow: 0 1px 2px rgba(60, 64, 67, 0.3), 0 1px 3px 1px rgba(60, 64, 67, 0.15);\n",
              "    fill: var(--button-hover-fill-color);\n",
              "  }\n",
              "\n",
              "  .colab-df-quickchart-complete:disabled,\n",
              "  .colab-df-quickchart-complete:disabled:hover {\n",
              "    background-color: var(--disabled-bg-color);\n",
              "    fill: var(--disabled-fill-color);\n",
              "    box-shadow: none;\n",
              "  }\n",
              "\n",
              "  .colab-df-spinner {\n",
              "    border: 2px solid var(--fill-color);\n",
              "    border-color: transparent;\n",
              "    border-bottom-color: var(--fill-color);\n",
              "    animation:\n",
              "      spin 1s steps(1) infinite;\n",
              "  }\n",
              "\n",
              "  @keyframes spin {\n",
              "    0% {\n",
              "      border-color: transparent;\n",
              "      border-bottom-color: var(--fill-color);\n",
              "      border-left-color: var(--fill-color);\n",
              "    }\n",
              "    20% {\n",
              "      border-color: transparent;\n",
              "      border-left-color: var(--fill-color);\n",
              "      border-top-color: var(--fill-color);\n",
              "    }\n",
              "    30% {\n",
              "      border-color: transparent;\n",
              "      border-left-color: var(--fill-color);\n",
              "      border-top-color: var(--fill-color);\n",
              "      border-right-color: var(--fill-color);\n",
              "    }\n",
              "    40% {\n",
              "      border-color: transparent;\n",
              "      border-right-color: var(--fill-color);\n",
              "      border-top-color: var(--fill-color);\n",
              "    }\n",
              "    60% {\n",
              "      border-color: transparent;\n",
              "      border-right-color: var(--fill-color);\n",
              "    }\n",
              "    80% {\n",
              "      border-color: transparent;\n",
              "      border-right-color: var(--fill-color);\n",
              "      border-bottom-color: var(--fill-color);\n",
              "    }\n",
              "    90% {\n",
              "      border-color: transparent;\n",
              "      border-bottom-color: var(--fill-color);\n",
              "    }\n",
              "  }\n",
              "</style>\n",
              "\n",
              "  <script>\n",
              "    async function quickchart(key) {\n",
              "      const quickchartButtonEl =\n",
              "        document.querySelector('#' + key + ' button');\n",
              "      quickchartButtonEl.disabled = true;  // To prevent multiple clicks.\n",
              "      quickchartButtonEl.classList.add('colab-df-spinner');\n",
              "      try {\n",
              "        const charts = await google.colab.kernel.invokeFunction(\n",
              "            'suggestCharts', [key], {});\n",
              "      } catch (error) {\n",
              "        console.error('Error during call to suggestCharts:', error);\n",
              "      }\n",
              "      quickchartButtonEl.classList.remove('colab-df-spinner');\n",
              "      quickchartButtonEl.classList.add('colab-df-quickchart-complete');\n",
              "    }\n",
              "    (() => {\n",
              "      let quickchartButtonEl =\n",
              "        document.querySelector('#df-327bca2e-9ea9-4151-884a-165e8c0e5e95 button');\n",
              "      quickchartButtonEl.style.display =\n",
              "        google.colab.kernel.accessAllowed ? 'block' : 'none';\n",
              "    })();\n",
              "  </script>\n",
              "</div>\n",
              "\n",
              "  <div id=\"id_45cd638c-2534-4bf6-9ef1-27bad6fc2190\">\n",
              "    <style>\n",
              "      .colab-df-generate {\n",
              "        background-color: #E8F0FE;\n",
              "        border: none;\n",
              "        border-radius: 50%;\n",
              "        cursor: pointer;\n",
              "        display: none;\n",
              "        fill: #1967D2;\n",
              "        height: 32px;\n",
              "        padding: 0 0 0 0;\n",
              "        width: 32px;\n",
              "      }\n",
              "\n",
              "      .colab-df-generate:hover {\n",
              "        background-color: #E2EBFA;\n",
              "        box-shadow: 0px 1px 2px rgba(60, 64, 67, 0.3), 0px 1px 3px 1px rgba(60, 64, 67, 0.15);\n",
              "        fill: #174EA6;\n",
              "      }\n",
              "\n",
              "      [theme=dark] .colab-df-generate {\n",
              "        background-color: #3B4455;\n",
              "        fill: #D2E3FC;\n",
              "      }\n",
              "\n",
              "      [theme=dark] .colab-df-generate:hover {\n",
              "        background-color: #434B5C;\n",
              "        box-shadow: 0px 1px 3px 1px rgba(0, 0, 0, 0.15);\n",
              "        filter: drop-shadow(0px 1px 2px rgba(0, 0, 0, 0.3));\n",
              "        fill: #FFFFFF;\n",
              "      }\n",
              "    </style>\n",
              "    <button class=\"colab-df-generate\" onclick=\"generateWithVariable('df')\"\n",
              "            title=\"Generate code using this dataframe.\"\n",
              "            style=\"display:none;\">\n",
              "\n",
              "  <svg xmlns=\"http://www.w3.org/2000/svg\" height=\"24px\"viewBox=\"0 0 24 24\"\n",
              "       width=\"24px\">\n",
              "    <path d=\"M7,19H8.4L18.45,9,17,7.55,7,17.6ZM5,21V16.75L18.45,3.32a2,2,0,0,1,2.83,0l1.4,1.43a1.91,1.91,0,0,1,.58,1.4,1.91,1.91,0,0,1-.58,1.4L9.25,21ZM18.45,9,17,7.55Zm-12,3A5.31,5.31,0,0,0,4.9,8.1,5.31,5.31,0,0,0,1,6.5,5.31,5.31,0,0,0,4.9,4.9,5.31,5.31,0,0,0,6.5,1,5.31,5.31,0,0,0,8.1,4.9,5.31,5.31,0,0,0,12,6.5,5.46,5.46,0,0,0,6.5,12Z\"/>\n",
              "  </svg>\n",
              "    </button>\n",
              "    <script>\n",
              "      (() => {\n",
              "      const buttonEl =\n",
              "        document.querySelector('#id_45cd638c-2534-4bf6-9ef1-27bad6fc2190 button.colab-df-generate');\n",
              "      buttonEl.style.display =\n",
              "        google.colab.kernel.accessAllowed ? 'block' : 'none';\n",
              "\n",
              "      buttonEl.onclick = () => {\n",
              "        google.colab.notebook.generateWithVariable('df');\n",
              "      }\n",
              "      })();\n",
              "    </script>\n",
              "  </div>\n",
              "\n",
              "    </div>\n",
              "  </div>\n"
            ],
            "application/vnd.google.colaboratory.intrinsic+json": {
              "type": "dataframe",
              "variable_name": "df",
              "summary": "{\n  \"name\": \"df\",\n  \"rows\": 7,\n  \"fields\": [\n    {\n      \"column\": 0,\n      \"properties\": {\n        \"dtype\": \"number\",\n        \"std\": 0.20344649466254314,\n        \"min\": 0.31,\n        \"max\": 0.81,\n        \"num_unique_values\": 6,\n        \"samples\": [\n          0.33,\n          0.47,\n          0.31\n        ],\n        \"semantic_type\": \"\",\n        \"description\": \"\"\n      }\n    },\n    {\n      \"column\": 1,\n      \"properties\": {\n        \"dtype\": \"number\",\n        \"std\": 0.26436806953653874,\n        \"min\": 0.14,\n        \"max\": 0.86,\n        \"num_unique_values\": 6,\n        \"samples\": [\n          0.77,\n          0.36,\n          0.14\n        ],\n        \"semantic_type\": \"\",\n        \"description\": \"\"\n      }\n    },\n    {\n      \"column\": 2,\n      \"properties\": {\n        \"dtype\": \"number\",\n        \"std\": 0.22567359488555905,\n        \"min\": 0.22,\n        \"max\": 0.95,\n        \"num_unique_values\": 7,\n        \"samples\": [\n          0.5,\n          0.64,\n          0.95\n        ],\n        \"semantic_type\": \"\",\n        \"description\": \"\"\n      }\n    },\n    {\n      \"column\": 3,\n      \"properties\": {\n        \"dtype\": \"number\",\n        \"std\": 0.26063110218961094,\n        \"min\": 0.09,\n        \"max\": 0.82,\n        \"num_unique_values\": 7,\n        \"samples\": [\n          0.09,\n          0.24,\n          0.32\n        ],\n        \"semantic_type\": \"\",\n        \"description\": \"\"\n      }\n    },\n    {\n      \"column\": 4,\n      \"properties\": {\n        \"dtype\": \"number\",\n        \"std\": 0.2684523545560118,\n        \"min\": 0.2,\n        \"max\": 0.89,\n        \"num_unique_values\": 7,\n        \"samples\": [\n          0.81,\n          0.89,\n          0.2\n        ],\n        \"semantic_type\": \"\",\n        \"description\": \"\"\n      }\n    }\n  ]\n}"
            }
          },
          "metadata": {},
          "execution_count": 14
        }
      ]
    },
    {
      "cell_type": "markdown",
      "source": [
        "\n",
        "---\n",
        "\n",
        "\n",
        "<br></br>"
      ],
      "metadata": {
        "id": "Ht4qfN7JAkS8"
      }
    },
    {
      "cell_type": "markdown",
      "source": [
        "Aquí concluye la experimentación con este espacio de trabajo. Para continuar con los puntos restantes de esta exploración, finaliza el tutorial del curso:\n",
        "\n",
        "[Volver a la lección](https://dialektico.com/google-colab/) 📕"
      ],
      "metadata": {
        "id": "fzhgIDaqACpd"
      }
    }
  ]
}